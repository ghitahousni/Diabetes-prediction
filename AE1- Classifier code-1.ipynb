{
 "cells": [
  {
   "cell_type": "markdown",
   "id": "f33d7d23-01b3-421f-9077-3207916ffe9f",
   "metadata": {},
   "source": [
    "## LDSCI7227: Machine Learning \n",
    "\n",
    "#### AE1 - Classifiers\n",
    "\n",
    "#### Student ID: 23220052\n",
    "\n",
    "#### Enhancing Early Diabetes Prediction Using Machine Learning: An Ethical and Practical Approach"
   ]
  },
  {
   "cell_type": "markdown",
   "id": "6f453acf-d3b4-48e2-824f-b790284581b1",
   "metadata": {},
   "source": [
    "Before starting the assignment, we will be importing all libraries and packages required for our programme solution\n",
    "\n",
    "- \"import os\" module to use the operating system dependent functionality allowing us to interact with file systems, manipulate paths and perform operating system-related tasks. (Python documentation, 2024)\n",
    "- \"import urllib\" module to retrieve/fetch/workwith data from URLs (Python documentation, 2024)\n",
    "- \"import time\" module to work with time-related functions (Python documentation, 2024)\n",
    "- \"import csv\" module to work with Comma Separated Values files as well as read and write tabular data in CSV format (Python documentation, 2024)\n",
    "- \"import pandas as pd\" library to manipulate and analyse data (W3 School, 2024)\n",
    "- \"import numpy as np\" library to perform mathematical operations (W3 School, 2024)\n",
    "- \"import statistics\" module to calculate mathematical statistics of numeric data (Python documentation, 2024)\n",
    "- \"import seaborn as sns\" data visualization library (based on Matplotlib) to make statistical graphics, explore and understand the data (Seaborn documentation, 2024)\n",
    "- \"import matplotlib.pyplot as plt\" module to create different types of plots and charts (Matplotlib documentation, 2024)\n",
    "- \"import request\" module to allow us to send HTTP requests (SitePoint, 2024)\n",
    "- \"import zipfile\" module to create, read, write and list contents of ZIP archives/files (Real Python, 2023)\n",
    "- \"import re\" module to provide regular expression matching operations(Re, 2024)\n",
    "- \"import pickle\" module for serializing and deserializing Python objects (Python documentation, 2024)\n",
    "- \"from sklearn.feature_extraction.text import TfidfVectorizer\" to convert a collection of raw documents to a matrix of TF-IDF features (scikit, 2024)\n",
    "- \"from sklearn.linear_model import LogisticRegression\" to use Logistic Regression classifier (scikit, 2024)\n",
    "- \"from sklearn.model_selection import train_test_split\" to split arrays or matrices into random train and test subsets (scikit, 2024)\n",
    "- \"from sklearn.naive_bayes import MultinomialNB\" to use Naive Bayes classifier for multinomial models (scikit, 2024)\n",
    "- \"from sklearn.metrics import classification_report\" to build a text report showing the main classification metrics (scikit, 2024)\n",
    "- \"from sklearn.feature_extraction.text import CountVectorizer\" to convert a collection of text documents to a matrix of token counts (scikit, 2024)\n",
    "- \"from sklearn.metrics import accuracy_score\" for accuracy classification score (scikit, 2024)"
   ]
  },
  {
   "cell_type": "code",
   "execution_count": 1,
   "id": "d30062da-b184-47ab-8cf6-9cee171ebeb4",
   "metadata": {
    "tags": []
   },
   "outputs": [],
   "source": [
    "#We first import all libraries and packages \n",
    "\n",
    "import os \n",
    "import urllib\n",
    "import time \n",
    "import csv\n",
    "import pandas as pd\n",
    "import numpy as np\n",
    "import statistics \n",
    "import seaborn as sns \n",
    "import matplotlib.pyplot as plt\n",
    "import requests\n",
    "import zipfile\n",
    "import re\n",
    "import pickle\n",
    "import joblib\n",
    "from sklearn.feature_extraction.text import TfidfVectorizer\n",
    "from sklearn.linear_model import LogisticRegression\n",
    "from sklearn.model_selection import train_test_split\n",
    "from sklearn.naive_bayes import MultinomialNB\n",
    "from sklearn.metrics import classification_report\n",
    "from sklearn.feature_extraction.text import CountVectorizer\n",
    "from sklearn.metrics import accuracy_score\n",
    "from sklearn.pipeline import Pipeline\n",
    "from sklearn.model_selection import cross_val_score\n",
    "from sklearn.preprocessing import StandardScaler, LabelEncoder\n",
    "from sklearn.impute import SimpleImputer\n",
    "from sklearn.ensemble import RandomForestClassifier\n",
    "from sklearn.tree import DecisionTreeClassifier\n",
    "from sklearn.naive_bayes import GaussianNB \n",
    "from sklearn.model_selection import GridSearchCV"
   ]
  },
  {
   "cell_type": "markdown",
   "id": "d6e21c00-bc7f-4538-9443-a4c9c41aee68",
   "metadata": {},
   "source": [
    "In order to predict people with diabetes, we first have to download our dataset, in this case the diabetes_prediction_dataset dataset manually. Once done, we want to load our data from the Excel file."
   ]
  },
  {
   "cell_type": "code",
   "execution_count": 2,
   "id": "6c0c1575-a443-4050-a2f6-f61ae5e20aab",
   "metadata": {
    "tags": []
   },
   "outputs": [
    {
     "name": "stdout",
     "output_type": "stream",
     "text": [
      "First few rows of the dataset:\n",
      "   gender   age  hypertension  heart_disease smoking_history    bmi  \\\n",
      "0  Female  80.0             0              1           never  25.19   \n",
      "1  Female  54.0             0              0         No Info  27.32   \n",
      "2    Male  28.0             0              0           never  27.32   \n",
      "3  Female  36.0             0              0         current  23.45   \n",
      "4    Male  76.0             1              1         current  20.14   \n",
      "5  Female  20.0             0              0           never  27.32   \n",
      "6  Female  44.0             0              0           never  19.31   \n",
      "7  Female  79.0             0              0         No Info  23.86   \n",
      "8    Male  42.0             0              0           never  33.64   \n",
      "9  Female  32.0             0              0           never  27.32   \n",
      "\n",
      "   HbA1c_level  blood_glucose_level  diabetes  \n",
      "0          6.6                  140         0  \n",
      "1          6.6                   80         0  \n",
      "2          5.7                  158         0  \n",
      "3          5.0                  155         0  \n",
      "4          4.8                  155         0  \n",
      "5          6.6                   85         0  \n",
      "6          6.5                  200         1  \n",
      "7          5.7                   85         0  \n",
      "8          4.8                  145         0  \n",
      "9          5.0                  100         0  \n"
     ]
    }
   ],
   "source": [
    "#We first load our dataset from the CSV file\n",
    "file_path = 'diabetes_prediction_dataset.csv'  \n",
    "\n",
    "#Then, we read the CSV file\n",
    "data = pd.read_csv(file_path)\n",
    "\n",
    "#And display the first few rows of the dataset\n",
    "print(\"First few rows of the dataset:\")\n",
    "print(data.head(10))"
   ]
  },
  {
   "cell_type": "markdown",
   "id": "ad4c01dd-f442-4f97-b39f-29c273172d3e",
   "metadata": {
    "tags": []
   },
   "source": [
    "##### Code explanation: \n",
    "\n",
    "First, we load our dataset from the CSV file. To do that, we assign the name of our dataset 'diabetes_prediction_dataset.csv' to the variable 'file_path'. Then, we read our CSV file (file_path variable) by using the read_csv function from the pandas library and return it as a DataFrame that we assign to our 'data' variable. Finally, we display the first 10 rows of our DataFrame 'data' using the head method. "
   ]
  },
  {
   "cell_type": "markdown",
   "id": "22548ff4-0643-4572-9201-cc0b3a2ec1e2",
   "metadata": {},
   "source": [
    "Then, we thought it would be beneficial to generate a summary of our dataset to enhance our understanding. Indeed, this summary provides insights into the data distribution, central tendency, variability, and the types and structures of the data. Such insights allow us to grasp the overall behavior and spread of the dataset, helping us in the selection of appropriate analysis techniques and models. Additionally, this step allows us to identify outliers, assess the presence and extent of missing values for data cleaning and preprocessing, and detect any inconsistencies. "
   ]
  },
  {
   "cell_type": "code",
   "execution_count": 3,
   "id": "c9b4bbf2-6098-44c0-ad7d-9a02dbbbd5e2",
   "metadata": {
    "tags": []
   },
   "outputs": [
    {
     "name": "stdout",
     "output_type": "stream",
     "text": [
      "\n",
      "Summary of the dataset:\n",
      "<class 'pandas.core.frame.DataFrame'>\n",
      "RangeIndex: 100000 entries, 0 to 99999\n",
      "Data columns (total 9 columns):\n",
      " #   Column               Non-Null Count   Dtype  \n",
      "---  ------               --------------   -----  \n",
      " 0   gender               100000 non-null  object \n",
      " 1   age                  100000 non-null  float64\n",
      " 2   hypertension         100000 non-null  int64  \n",
      " 3   heart_disease        100000 non-null  int64  \n",
      " 4   smoking_history      100000 non-null  object \n",
      " 5   bmi                  100000 non-null  float64\n",
      " 6   HbA1c_level          100000 non-null  float64\n",
      " 7   blood_glucose_level  100000 non-null  int64  \n",
      " 8   diabetes             100000 non-null  int64  \n",
      "dtypes: float64(3), int64(4), object(2)\n",
      "memory usage: 6.9+ MB\n",
      "None\n",
      "\n",
      "Descriptive statistics of the dataset:\n",
      "                 age  hypertension  heart_disease            bmi  \\\n",
      "count  100000.000000  100000.00000  100000.000000  100000.000000   \n",
      "mean       41.885856       0.07485       0.039420      27.320767   \n",
      "std        22.516840       0.26315       0.194593       6.636783   \n",
      "min         0.080000       0.00000       0.000000      10.010000   \n",
      "25%        24.000000       0.00000       0.000000      23.630000   \n",
      "50%        43.000000       0.00000       0.000000      27.320000   \n",
      "75%        60.000000       0.00000       0.000000      29.580000   \n",
      "max        80.000000       1.00000       1.000000      95.690000   \n",
      "\n",
      "         HbA1c_level  blood_glucose_level       diabetes  \n",
      "count  100000.000000        100000.000000  100000.000000  \n",
      "mean        5.527507           138.058060       0.085000  \n",
      "std         1.070672            40.708136       0.278883  \n",
      "min         3.500000            80.000000       0.000000  \n",
      "25%         4.800000           100.000000       0.000000  \n",
      "50%         5.800000           140.000000       0.000000  \n",
      "75%         6.200000           159.000000       0.000000  \n",
      "max         9.000000           300.000000       1.000000  \n"
     ]
    },
    {
     "data": {
      "text/html": [
       "<div>\n",
       "<style scoped>\n",
       "    .dataframe tbody tr th:only-of-type {\n",
       "        vertical-align: middle;\n",
       "    }\n",
       "\n",
       "    .dataframe tbody tr th {\n",
       "        vertical-align: top;\n",
       "    }\n",
       "\n",
       "    .dataframe thead th {\n",
       "        text-align: right;\n",
       "    }\n",
       "</style>\n",
       "<table border=\"1\" class=\"dataframe\">\n",
       "  <thead>\n",
       "    <tr style=\"text-align: right;\">\n",
       "      <th></th>\n",
       "      <th>gender</th>\n",
       "      <th>age</th>\n",
       "      <th>hypertension</th>\n",
       "      <th>heart_disease</th>\n",
       "      <th>smoking_history</th>\n",
       "      <th>bmi</th>\n",
       "      <th>HbA1c_level</th>\n",
       "      <th>blood_glucose_level</th>\n",
       "      <th>diabetes</th>\n",
       "    </tr>\n",
       "  </thead>\n",
       "  <tbody>\n",
       "    <tr>\n",
       "      <th>0</th>\n",
       "      <td>Female</td>\n",
       "      <td>80.0</td>\n",
       "      <td>0</td>\n",
       "      <td>1</td>\n",
       "      <td>never</td>\n",
       "      <td>25.19</td>\n",
       "      <td>6.6</td>\n",
       "      <td>140</td>\n",
       "      <td>0</td>\n",
       "    </tr>\n",
       "    <tr>\n",
       "      <th>1</th>\n",
       "      <td>Female</td>\n",
       "      <td>54.0</td>\n",
       "      <td>0</td>\n",
       "      <td>0</td>\n",
       "      <td>No Info</td>\n",
       "      <td>27.32</td>\n",
       "      <td>6.6</td>\n",
       "      <td>80</td>\n",
       "      <td>0</td>\n",
       "    </tr>\n",
       "    <tr>\n",
       "      <th>2</th>\n",
       "      <td>Male</td>\n",
       "      <td>28.0</td>\n",
       "      <td>0</td>\n",
       "      <td>0</td>\n",
       "      <td>never</td>\n",
       "      <td>27.32</td>\n",
       "      <td>5.7</td>\n",
       "      <td>158</td>\n",
       "      <td>0</td>\n",
       "    </tr>\n",
       "    <tr>\n",
       "      <th>3</th>\n",
       "      <td>Female</td>\n",
       "      <td>36.0</td>\n",
       "      <td>0</td>\n",
       "      <td>0</td>\n",
       "      <td>current</td>\n",
       "      <td>23.45</td>\n",
       "      <td>5.0</td>\n",
       "      <td>155</td>\n",
       "      <td>0</td>\n",
       "    </tr>\n",
       "    <tr>\n",
       "      <th>4</th>\n",
       "      <td>Male</td>\n",
       "      <td>76.0</td>\n",
       "      <td>1</td>\n",
       "      <td>1</td>\n",
       "      <td>current</td>\n",
       "      <td>20.14</td>\n",
       "      <td>4.8</td>\n",
       "      <td>155</td>\n",
       "      <td>0</td>\n",
       "    </tr>\n",
       "    <tr>\n",
       "      <th>5</th>\n",
       "      <td>Female</td>\n",
       "      <td>20.0</td>\n",
       "      <td>0</td>\n",
       "      <td>0</td>\n",
       "      <td>never</td>\n",
       "      <td>27.32</td>\n",
       "      <td>6.6</td>\n",
       "      <td>85</td>\n",
       "      <td>0</td>\n",
       "    </tr>\n",
       "    <tr>\n",
       "      <th>6</th>\n",
       "      <td>Female</td>\n",
       "      <td>44.0</td>\n",
       "      <td>0</td>\n",
       "      <td>0</td>\n",
       "      <td>never</td>\n",
       "      <td>19.31</td>\n",
       "      <td>6.5</td>\n",
       "      <td>200</td>\n",
       "      <td>1</td>\n",
       "    </tr>\n",
       "    <tr>\n",
       "      <th>7</th>\n",
       "      <td>Female</td>\n",
       "      <td>79.0</td>\n",
       "      <td>0</td>\n",
       "      <td>0</td>\n",
       "      <td>No Info</td>\n",
       "      <td>23.86</td>\n",
       "      <td>5.7</td>\n",
       "      <td>85</td>\n",
       "      <td>0</td>\n",
       "    </tr>\n",
       "    <tr>\n",
       "      <th>8</th>\n",
       "      <td>Male</td>\n",
       "      <td>42.0</td>\n",
       "      <td>0</td>\n",
       "      <td>0</td>\n",
       "      <td>never</td>\n",
       "      <td>33.64</td>\n",
       "      <td>4.8</td>\n",
       "      <td>145</td>\n",
       "      <td>0</td>\n",
       "    </tr>\n",
       "    <tr>\n",
       "      <th>9</th>\n",
       "      <td>Female</td>\n",
       "      <td>32.0</td>\n",
       "      <td>0</td>\n",
       "      <td>0</td>\n",
       "      <td>never</td>\n",
       "      <td>27.32</td>\n",
       "      <td>5.0</td>\n",
       "      <td>100</td>\n",
       "      <td>0</td>\n",
       "    </tr>\n",
       "  </tbody>\n",
       "</table>\n",
       "</div>"
      ],
      "text/plain": [
       "   gender   age  hypertension  heart_disease smoking_history    bmi  \\\n",
       "0  Female  80.0             0              1           never  25.19   \n",
       "1  Female  54.0             0              0         No Info  27.32   \n",
       "2    Male  28.0             0              0           never  27.32   \n",
       "3  Female  36.0             0              0         current  23.45   \n",
       "4    Male  76.0             1              1         current  20.14   \n",
       "5  Female  20.0             0              0           never  27.32   \n",
       "6  Female  44.0             0              0           never  19.31   \n",
       "7  Female  79.0             0              0         No Info  23.86   \n",
       "8    Male  42.0             0              0           never  33.64   \n",
       "9  Female  32.0             0              0           never  27.32   \n",
       "\n",
       "   HbA1c_level  blood_glucose_level  diabetes  \n",
       "0          6.6                  140         0  \n",
       "1          6.6                   80         0  \n",
       "2          5.7                  158         0  \n",
       "3          5.0                  155         0  \n",
       "4          4.8                  155         0  \n",
       "5          6.6                   85         0  \n",
       "6          6.5                  200         1  \n",
       "7          5.7                   85         0  \n",
       "8          4.8                  145         0  \n",
       "9          5.0                  100         0  "
      ]
     },
     "execution_count": 3,
     "metadata": {},
     "output_type": "execute_result"
    }
   ],
   "source": [
    "#We generate a summary of our dataset\n",
    "print(\"\\nSummary of the dataset:\")\n",
    "print(data.info())\n",
    "\n",
    "#As well as a descriptive statistics \n",
    "print(\"\\nDescriptive statistics of the dataset:\")\n",
    "print(data.describe())\n",
    "\n",
    "#Finally, we display the first few rows\n",
    "data.head(10)"
   ]
  },
  {
   "cell_type": "markdown",
   "id": "bf383909-dad4-45a5-920f-3c6c6f76be44",
   "metadata": {},
   "source": [
    "##### Code explanation: \n",
    "\n",
    "We first generate a summary of our dataset to understand the structure and completeness of our data. To do that, we use the info() method to provide a concise summary of the DataFrame, including information about the number of non-null entries in each column, the data type of each column, and the memory usage of the DataFrame. Then, we generate descriptive statistics to provide an overview of the central tendency, dispersion, and shape of the data distribution. To do that, we use the describe() method to generate descriptive statistics for the numerical columns of our DataFrame which include metrics such as count, mean, standard deviation, minimum, maximum, and the 25th, 50th (median), and 75th percentiles. Finally, we display the first 10 rows of our dataset. \n"
   ]
  },
  {
   "cell_type": "markdown",
   "id": "ea30b795-9ef2-4245-9cc1-6235a7b8a92b",
   "metadata": {},
   "source": [
    "Now, we want to inspect our data for missing values and inconsistencies. To do that, we first examine the unique values in each columns to identify any inconsistencies."
   ]
  },
  {
   "cell_type": "code",
   "execution_count": 4,
   "id": "23c6e6fb-a4cf-4dcd-b450-2a0cbcbf1f54",
   "metadata": {
    "tags": []
   },
   "outputs": [
    {
     "name": "stdout",
     "output_type": "stream",
     "text": [
      "\n",
      "Unique values in each column:\n",
      "gender: ['Female' 'Male' 'Other']\n",
      "age: [80. 54. 28. 36. 76. 20. 44. 79. 42. 32.]...\n",
      "hypertension: [0 1]\n",
      "heart_disease: [1 0]\n",
      "smoking_history: ['never' 'No Info' 'current' 'former' 'ever' 'not current']\n",
      "bmi: [25.19 27.32 23.45 20.14 19.31 23.86 33.64 54.7  36.05 25.69]...\n",
      "HbA1c_level: [6.6 5.7 5.  4.8 6.5 6.1 6.  5.8 3.5 6.2]...\n",
      "blood_glucose_level: [140  80 158 155  85 200 145 100 130 160]...\n",
      "diabetes: [0 1]\n"
     ]
    }
   ],
   "source": [
    "#We first inspect the unique values in each column\n",
    "print(\"\\nUnique values in each column:\")\n",
    "for column in data.columns:\n",
    "    unique_values = data[column].unique()\n",
    "    print(f\"{column}: {unique_values[:10]}{'...' if len(unique_values) > 10 else ''}\")"
   ]
  },
  {
   "cell_type": "markdown",
   "id": "bf46c396-21b2-4d85-a721-02a73637ae87",
   "metadata": {},
   "source": [
    "##### Code explanation: \n",
    "\n",
    "The above code inspects and prints the unique values in each column of our DataFrame. To do that, it iterates through each column in our 'data' DataFrame, using the unique() method to  obtain an array of unique values present in that column. For clarity, it displays the first 10 unique values for each column and appends an ellipsis (...) if there are more than 10 unique values."
   ]
  },
  {
   "cell_type": "markdown",
   "id": "36f024ae-373a-447a-be70-92ca451cd043",
   "metadata": {},
   "source": [
    "Then we want to check the presence of any missing values in the dataset."
   ]
  },
  {
   "cell_type": "code",
   "execution_count": 5,
   "id": "e7de5665-2df3-4ef8-ac94-a843c709d76d",
   "metadata": {
    "tags": []
   },
   "outputs": [
    {
     "name": "stdout",
     "output_type": "stream",
     "text": [
      "\n",
      "Missing values in the dataset:\n",
      "gender                 0\n",
      "age                    0\n",
      "hypertension           0\n",
      "heart_disease          0\n",
      "smoking_history        0\n",
      "bmi                    0\n",
      "HbA1c_level            0\n",
      "blood_glucose_level    0\n",
      "diabetes               0\n",
      "dtype: int64\n"
     ]
    }
   ],
   "source": [
    "#Then we check for missing values\n",
    "print(\"\\nMissing values in the dataset:\")\n",
    "print(data.isnull().sum())"
   ]
  },
  {
   "cell_type": "markdown",
   "id": "e264116c-67a1-476d-b0c0-d49eb60fab0c",
   "metadata": {},
   "source": [
    "##### Code explanation: \n",
    "\n",
    "The above code identify and display the number of missing values in each column of our 'data' DataFrame. By using the isnull() method to create a boolean DataFrame where each element is True if the corresponding element in data is missing, and False otherwise. Then, it applies the sum() method across columns to count the number of missing values in each column."
   ]
  },
  {
   "cell_type": "markdown",
   "id": "10ebc3a0-790e-4f98-8ea2-06d81f9bf82c",
   "metadata": {},
   "source": [
    "We noticed that our 'data' DataFrame contains no missing values. However, it contains a mix of numerical and non-numerical data. To ensure consistent handling of our data, we plan to convert all non-numerical data into numerical equivalents. Therefore:\n",
    "\n",
    "- 'Female' will be labeled as 1.\n",
    "- 'Male' will be labeled as 2.\n",
    "- 'Other' will be labeled as 0.\n",
    "- 'Never' and 'Ever' will both be converted to 0.\n",
    "- 'No Info' will be represented as NaN.\n",
    "- 'Current' will be assigned the value 1.\n",
    "- 'Former' and 'Not Current' will both be represented as 2.\n"
   ]
  },
  {
   "cell_type": "code",
   "execution_count": 6,
   "id": "3489a2ec-2f4b-4f96-a0dc-5c546e8b4129",
   "metadata": {
    "tags": []
   },
   "outputs": [
    {
     "name": "stdout",
     "output_type": "stream",
     "text": [
      "       gender   age  hypertension  heart_disease  smoking_history    bmi  \\\n",
      "0           1  80.0             0              1              0.0  25.19   \n",
      "1           1  54.0             0              0              NaN  27.32   \n",
      "2           2  28.0             0              0              0.0  27.32   \n",
      "3           1  36.0             0              0              1.0  23.45   \n",
      "4           2  76.0             1              1              1.0  20.14   \n",
      "...       ...   ...           ...            ...              ...    ...   \n",
      "99995       1  80.0             0              0              NaN  27.32   \n",
      "99996       1   2.0             0              0              NaN  17.37   \n",
      "99997       2  66.0             0              0              2.0  27.83   \n",
      "99998       1  24.0             0              0              0.0  35.42   \n",
      "99999       1  57.0             0              0              1.0  22.43   \n",
      "\n",
      "       HbA1c_level  blood_glucose_level  diabetes  \n",
      "0              6.6                  140         0  \n",
      "1              6.6                   80         0  \n",
      "2              5.7                  158         0  \n",
      "3              5.0                  155         0  \n",
      "4              4.8                  155         0  \n",
      "...            ...                  ...       ...  \n",
      "99995          6.2                   90         0  \n",
      "99996          6.5                  100         0  \n",
      "99997          5.7                  155         0  \n",
      "99998          4.0                  100         0  \n",
      "99999          6.6                   90         0  \n",
      "\n",
      "[100000 rows x 9 columns]\n"
     ]
    }
   ],
   "source": [
    "#We first convert 'Female' to 1, 'Male' to 2 and 'Other' to 0\n",
    "data['gender'] = data['gender'].replace({'Female': 1, 'Male': 2, 'Other': 0})\n",
    "\n",
    "\n",
    "#Then, we convert 'never' and 'ever' to 0, 'current' to 1, 'former' and 'not current' to 2 and 'No Info' to NaN.\n",
    "data['smoking_history'] = data['smoking_history'].replace({'never': 0, 'ever': 0, 'current' : 1, 'former': 2, 'not current': 2, 'No Info': np.nan})\n",
    "\n",
    "\n",
    "#Finally, we display our updated DataFrame\n",
    "print(data)"
   ]
  },
  {
   "cell_type": "markdown",
   "id": "e92eaee2-a86b-4796-ab9c-54abb36216e3",
   "metadata": {},
   "source": [
    "##### Code explanation: \n",
    "\n",
    "As mentioned previously, the code above converts values in the 'gender' column:\n",
    "- 'Female' becomes 1,\n",
    "- 'Male' becomes 2,\n",
    "- 'Other' becomes 0.\n",
    "\n",
    "Similarly, in the 'smoking_history' column:\n",
    "- 'never' and 'ever' are both assigned 0,\n",
    "- 'current' is assigned 1,\n",
    "- 'former' and 'not current' are both assigned 2,\n",
    "- 'No Info' is represented as NaN using np.nan."
   ]
  },
  {
   "cell_type": "markdown",
   "id": "b0db18e6-953e-4555-ba08-282eab2742e6",
   "metadata": {},
   "source": [
    "We now want to ensure that all our columns are numerical. Therefore, we will check their data types. "
   ]
  },
  {
   "cell_type": "code",
   "execution_count": 7,
   "id": "fa32136d-626c-4ee2-8a50-7f29cce6cdfb",
   "metadata": {
    "tags": []
   },
   "outputs": [
    {
     "name": "stdout",
     "output_type": "stream",
     "text": [
      "Data types of columns:\n",
      "gender                   int64\n",
      "age                    float64\n",
      "hypertension             int64\n",
      "heart_disease            int64\n",
      "smoking_history        float64\n",
      "bmi                    float64\n",
      "HbA1c_level            float64\n",
      "blood_glucose_level      int64\n",
      "diabetes                 int64\n",
      "dtype: object\n"
     ]
    }
   ],
   "source": [
    "#We check our columns data types\n",
    "print(\"Data types of columns:\")\n",
    "print(data.dtypes)"
   ]
  },
  {
   "cell_type": "markdown",
   "id": "0d653977-6263-48b5-a0bc-d1d2cd10028b",
   "metadata": {},
   "source": [
    "##### Code explanation: \n",
    "\n",
    "The above code uses the dtypes attribute of our 'data' DataFrame to return a Series containing the data type of each column. We notice that all our columns have numerical data (int64 and float64)."
   ]
  },
  {
   "cell_type": "markdown",
   "id": "ea183b13-4a7d-4a71-ab48-c54914bcfe44",
   "metadata": {},
   "source": [
    "Now that our data is preprocessed and cleaned, we will split it into training (70%) and testing (25%) sets. The remaining 5% will be our deployment dataset, which we will use to run our model on unseen data to validate its predictions."
   ]
  },
  {
   "cell_type": "code",
   "execution_count": 8,
   "id": "4647dfc2-22fe-446f-8eb0-5674c082a9e8",
   "metadata": {
    "tags": []
   },
   "outputs": [
    {
     "name": "stdout",
     "output_type": "stream",
     "text": [
      "\n",
      "Shapes of the datasets:\n",
      "X_train: (70000, 8)\n",
      "X_test: (25000, 8)\n",
      "X_deploy: (5000, 8)\n",
      "y_train: (70000,)\n",
      "y_test: (25000,)\n",
      "y_deploy: (5000,)\n"
     ]
    }
   ],
   "source": [
    "#We first define our target column\n",
    "target_column = 'diabetes' \n",
    "X = data.drop(target_column, axis=1)\n",
    "y = data[target_column]\n",
    "\n",
    "#Then, we split our data into training (70%) and remaining (30%, testing + deployment)\n",
    "X_train, X_remaining, y_train, y_remaining = train_test_split(X, y, test_size=0.30, random_state=42)\n",
    "\n",
    "#Then, we split the remaining 30% into 25% testing and 5% deployment\n",
    "X_test, X_deploy, y_test, y_deploy = train_test_split(X_remaining, y_remaining, test_size=(5/30), random_state=42)\n",
    "\n",
    "#Finally, we display the shapes of the resulting datasets\n",
    "print(\"\\nShapes of the datasets:\")\n",
    "print(f\"X_train: {X_train.shape}\")\n",
    "print(f\"X_test: {X_test.shape}\")\n",
    "print(f\"X_deploy: {X_deploy.shape}\")\n",
    "print(f\"y_train: {y_train.shape}\")\n",
    "print(f\"y_test: {y_test.shape}\")\n",
    "print(f\"y_deploy: {y_deploy.shape}\")\n"
   ]
  },
  {
   "cell_type": "markdown",
   "id": "4a8183f9-fc9e-42b0-9563-d5a004855a99",
   "metadata": {},
   "source": [
    "##### Code explanation: \n",
    "\n",
    "The above code aims to prepare our preprocessed and cleaned dataset into three distinct subsets: training, testing, and deployment datasets for Machine Learning tasks. It begins by defining the target variable, 'diabetes', which is what we aim to predict. The dataset is then split into features (X) obtained by dropping the 'diabetes' column from the original dataset (data) and the target (y) which retains only the 'diabetes' column. Using the train_test_split function, the data is initially divided into 70% for training (X_train and y_train) and 30% as remaining data (X_remaining and y_remaining).Then, the remaining 30% is then further split into approximately 25% for testing (X_test, y_test) and 5% for deployment (X_deploy, y_deploy). This is done to ensure that the training set is used to train the model, the testing set is used to evaluate the model's performance, and the deployment set is reserved for validating the model's predictions on unseen data. Finally, our code prints out the shapes of the resulting datasets to confirm the number of samples and features in each set, which is crucial for understanding the data distribution across training, testing and deployment phases of model development."
   ]
  },
  {
   "cell_type": "code",
   "execution_count": 9,
   "id": "60faf2ac-3b05-43e3-a274-e6dc7f913c52",
   "metadata": {
    "tags": []
   },
   "outputs": [
    {
     "name": "stdout",
     "output_type": "stream",
     "text": [
      "Train Data:\n",
      "Size: 70000\n",
      "       gender   age  hypertension  heart_disease  smoking_history    bmi  \\\n",
      "76513       2  49.0             0              0              0.0  27.32   \n",
      "60406       2  64.0             0              0              0.0  27.32   \n",
      "27322       1  24.0             0              0              1.0  27.32   \n",
      "53699       1  55.0             0              0              1.0  27.32   \n",
      "65412       2  14.0             0              0              NaN  20.98   \n",
      "\n",
      "       HbA1c_level  blood_glucose_level  diabetes  \n",
      "76513          5.0                  155         0  \n",
      "60406          3.5                  145         0  \n",
      "27322          3.5                  130         0  \n",
      "53699          6.5                  159         0  \n",
      "65412          6.2                   85         0  \n"
     ]
    }
   ],
   "source": [
    "#We print the first few rows and size of our train_data (X_train and y_train)\n",
    "train_data = pd.concat([X_train, y_train], axis=1)\n",
    "print(\"Train Data:\")\n",
    "print(\"Size:\", len(train_data))\n",
    "print(train_data.head())"
   ]
  },
  {
   "cell_type": "markdown",
   "id": "73024b25-8d31-4621-8409-3b01667e0178",
   "metadata": {},
   "source": [
    "##### Code explanation: \n",
    "\n",
    "The above code is used to inspect our training data after splitting the dataset. Firtly, it combines the feature set (X_train) and the target set (y_train) into a single DataFrame called train_data using the pd.concat function along the columns axis (axis=1). This provides a complete view of the training data, including both the features and the target variable. Then it prints the size of the train_data DataFrame, indicating the number of samples it contains, followed by the first few rows of this combined DataFrame using the head() function. "
   ]
  },
  {
   "cell_type": "code",
   "execution_count": 10,
   "id": "84d9487d-af87-4946-8275-fb04bfc31f0c",
   "metadata": {
    "tags": []
   },
   "outputs": [
    {
     "name": "stdout",
     "output_type": "stream",
     "text": [
      "Test Data:\n",
      "Size: 25000\n",
      "       gender   age  hypertension  heart_disease  smoking_history    bmi  \\\n",
      "82923       2  69.0             0              1              0.0  43.57   \n",
      "9242        1  28.0             0              0              1.0  16.34   \n",
      "52911       2  19.0             0              0              NaN  24.41   \n",
      "38094       2  36.0             0              0              2.0  28.31   \n",
      "70633       2  49.0             0              0              1.0  27.32   \n",
      "\n",
      "       HbA1c_level  blood_glucose_level  diabetes  \n",
      "82923          7.0                  240         1  \n",
      "9242           4.5                  126         0  \n",
      "52911          3.5                  145         0  \n",
      "38094          5.0                  158         0  \n",
      "70633          4.0                  100         0  \n"
     ]
    }
   ],
   "source": [
    "#Then, we print the first few rows and size of our test_data (X_test and y_test)\n",
    "test_data = pd.concat([X_test, y_test], axis=1)\n",
    "print(\"Test Data:\")\n",
    "print(\"Size:\", len(test_data))\n",
    "print(test_data.head())"
   ]
  },
  {
   "cell_type": "markdown",
   "id": "40eb35d6-2914-46b3-994a-07f2fff7b609",
   "metadata": {},
   "source": [
    "##### Code explanation: \n",
    "\n",
    "The above code is used to inspect our testing data after splitting the dataset. Firtly, it combines the feature set (X_test) and the target set (y_test) into a single DataFrame called test_data using the pd.concat function along the columns axis (axis=1). This provides a complete view of the testing data, including both the features and the target variable. Then it prints the size of the test_data DataFrame, indicating the number of samples it contains, followed by the first few rows of this combined DataFrame using the head() function. "
   ]
  },
  {
   "cell_type": "code",
   "execution_count": 11,
   "id": "dfb7ac4f-0a40-4a04-9b3a-550d5cd97279",
   "metadata": {
    "tags": []
   },
   "outputs": [
    {
     "name": "stdout",
     "output_type": "stream",
     "text": [
      "Deploy Data:\n",
      "Size: 5000\n",
      "       gender   age  hypertension  heart_disease  smoking_history    bmi  \\\n",
      "81410       2   7.0             0              0              0.0  23.40   \n",
      "71182       1  46.0             0              0              0.0  37.73   \n",
      "44102       1  49.0             0              0              NaN  21.76   \n",
      "69451       1  80.0             0              1              0.0  16.10   \n",
      "78508       2  66.0             0              0              2.0  29.70   \n",
      "\n",
      "       HbA1c_level  blood_glucose_level  diabetes  \n",
      "81410          6.0                  126         0  \n",
      "71182          5.7                  140         0  \n",
      "44102          6.2                  126         0  \n",
      "69451          5.8                  159         0  \n",
      "78508          6.5                  200         0  \n"
     ]
    }
   ],
   "source": [
    "#Finally, we print the first few rows and size of our deploy_data (X_deploy and y_deploy)\n",
    "deploy_data = pd.concat([X_deploy, y_deploy], axis=1)\n",
    "print(\"Deploy Data:\")\n",
    "print(\"Size:\", len(deploy_data))\n",
    "print(deploy_data.head())"
   ]
  },
  {
   "cell_type": "markdown",
   "id": "4e058796-d0f0-4d92-a99d-c9e629172207",
   "metadata": {},
   "source": [
    "##### Code explanation:¶\n",
    "\n",
    "The above code is used to inspect our deploy data after splitting the dataset. Firtly, it combines the feature set (X_deploy) and the target set (y_deploy) into a single DataFrame called deploy_data using the pd.concat function along the columns axis (axis=1). This provides a complete view of the deploy data, including both the features and the target variable. Then it prints the size of the deploy_data DataFrame, indicating the number of samples it contains, followed by the first few rows of this combined DataFrame using the head() function. Please note that our deployment dataset will be used at the end of the model training process."
   ]
  },
  {
   "cell_type": "markdown",
   "id": "87d4929a-af01-4a1f-a101-7972f7bb156a",
   "metadata": {},
   "source": [
    "Then, we thought it would be great to identify and visualize how many people have diabetes in our training and testing datasets. "
   ]
  },
  {
   "cell_type": "code",
   "execution_count": 12,
   "id": "8ff65921-dbb2-48bd-bf76-caa1c2f379d2",
   "metadata": {
    "tags": []
   },
   "outputs": [
    {
     "name": "stdout",
     "output_type": "stream",
     "text": [
      "Training Data:\n",
      "Number of positive cases (diabetes = 1): 5953\n",
      "Number of negative cases (diabetes = 0): 64047\n"
     ]
    },
    {
     "data": {
      "image/png": "[encoded data removed]",
      "text/plain": [
       "<Figure size 1000x500 with 1 Axes>"
      ]
     },
     "metadata": {},
     "output_type": "display_data"
    }
   ],
   "source": [
    "#We first count positive and negative cases in our training data\n",
    "train_positive_count = (train_data['diabetes'] == 1).sum()\n",
    "train_negative_count = (train_data['diabetes'] == 0).sum()\n",
    "\n",
    "#Then, we print results for our training data\n",
    "print(\"Training Data:\")\n",
    "print(f\"Number of positive cases (diabetes = 1): {train_positive_count}\")\n",
    "print(f\"Number of negative cases (diabetes = 0): {train_negative_count}\")\n",
    "\n",
    "#Finally, we plot bar graphs to visualize our training data distribution\n",
    "fig, (ax) = plt.subplots(figsize=(10, 5))\n",
    "\n",
    "ax.bar(['Positive', 'Negative'], [train_positive_count, train_negative_count], color=['green', 'red'])\n",
    "ax.set_title('Training Data')\n",
    "ax.set_ylabel('Count')\n",
    "\n",
    "plt.tight_layout()\n",
    "plt.show()"
   ]
  },
  {
   "cell_type": "markdown",
   "id": "fdd8c249-5a11-4d08-9d56-9cbfe437f921",
   "metadata": {},
   "source": [
    "##### Code explanation: \n",
    "\n",
    "The above code counts and visualizes the distribution of positive and negative cases in the training data for diabetes. Initially, it calculates and prints the number of positive (diabetes = 1) and negative (diabetes = 0) cases in the train_data DataFrame using the sum() method. Then, it creates a bar plot to visualize the distribution of positive and negative cases. The plt.subplots function initializes a figure and an axe object with a specified size, and the ax.bar method is used to create a bar chart with 'Positive' and 'Negative' labels on the x-axis and their corresponding counts on the y-axis, using green for positive cases and red for negative cases. Finally, we generate a title 'Training Data' and label the y-axis 'Count'. Please note that the plt.tight_layout function adjusts the layout to prevent overlapping elements, while plt.show() displays the plot.\n"
   ]
  },
  {
   "cell_type": "markdown",
   "id": "1df7d4c8-020e-461a-99b4-083b3cd24706",
   "metadata": {},
   "source": [
    "We now do the same for our testing dataset."
   ]
  },
  {
   "cell_type": "code",
   "execution_count": 13,
   "id": "cb922db9-de88-4992-9d42-e2e5d4b3be69",
   "metadata": {
    "tags": []
   },
   "outputs": [
    {
     "name": "stdout",
     "output_type": "stream",
     "text": [
      "\n",
      "Testing Data:\n",
      "Number of positive cases (diabetes = 1): 2085\n",
      "Number of negative cases (diabetes = 0): 22915\n"
     ]
    },
    {
     "data": {
      "image/png": "[encoded data removed]",
      "text/plain": [
       "<Figure size 1000x500 with 1 Axes>"
      ]
     },
     "metadata": {},
     "output_type": "display_data"
    }
   ],
   "source": [
    "#We first count positive and negative cases in our testing data\n",
    "test_positive_count = (test_data['diabetes'] == 1).sum()\n",
    "test_negative_count = (test_data['diabetes'] == 0).sum()\n",
    "                                                          \n",
    "#Then, we print results for our testing data\n",
    "print(\"\\nTesting Data:\")\n",
    "print(f\"Number of positive cases (diabetes = 1): {test_positive_count}\")\n",
    "print(f\"Number of negative cases (diabetes = 0): {test_negative_count}\")\n",
    "\n",
    "#Finally, we plot bar graphs to visualize our testing data distribution\n",
    "fig, (ax) = plt.subplots(figsize=(10, 5))\n",
    "\n",
    "ax.bar(['Positive', 'Negative'], [test_positive_count, test_negative_count], color=['green', 'red'])\n",
    "ax.set_title('Testing Data')\n",
    "ax.set_ylabel('Count')\n",
    "\n",
    "plt.tight_layout()\n",
    "plt.show()"
   ]
  },
  {
   "cell_type": "markdown",
   "id": "9061f6df-3f2b-4e09-b9bc-41da6b6a9f83",
   "metadata": {},
   "source": [
    "##### Code explanation: \n",
    "\n",
    "The above code counts and visualizes the distribution of positive and negative cases in the testing data for diabetes. Initially, it calculates and prints the number of positive (diabetes = 1) and negative (diabetes = 0) cases in the test_data DataFrame using the sum() method. Then, it creates a bar plot to visualize the distribution of positive and negative cases. The plt.subplots function initializes a figure and an axe object with a specified size, and the ax.bar method is used to create a bar chart with 'Positive' and 'Negative' labels on the x-axis and their corresponding counts on the y-axis, using green for positive cases and red for negative cases. Finally, we generate a title 'Testing Data' and label the y-axis 'Count'. Please note that the plt.tight_layout function adjusts the layout to prevent overlapping elements, while plt.show() displays the plot.\n"
   ]
  },
  {
   "cell_type": "markdown",
   "id": "0e7285f3-224d-4ccf-a4fd-7fa229ced622",
   "metadata": {},
   "source": [
    "Following the above, we thought it would be great to check for any data imbalances. Indeed, this is crucial as it ensures that ML models perform well across all classes, avoiding bias towards the majority class and providing more accurate and reliable predictions. This is extremely important in applications like medical diagnosis, where the minority class holds significant importance. "
   ]
  },
  {
   "cell_type": "code",
   "execution_count": 14,
   "id": "8cb7ae8f-e0c1-452b-bed3-33ca64711763",
   "metadata": {
    "tags": []
   },
   "outputs": [
    {
     "name": "stdout",
     "output_type": "stream",
     "text": [
      "Training Data:\n",
      "Positive Entries: 5953\n",
      "Negative Entries: 64047\n",
      "Difference: 58094\n",
      "\n",
      "Test Data:\n",
      "Positive Entries: 2085\n",
      "Negative Entries: 22915\n",
      "Difference: 20830\n"
     ]
    }
   ],
   "source": [
    "#We print the counts of positive and negative entries in the training dataset\n",
    "print(\"Training Data:\")\n",
    "print(\"Positive Entries:\", train_positive_count)\n",
    "print(\"Negative Entries:\", train_negative_count)\n",
    "\n",
    "#And calculate and print the absolute difference between the counts of positive and negative entries in the training dataset\n",
    "print(\"Difference:\", abs(train_positive_count - train_negative_count))\n",
    "\n",
    "#We do the same for the testing dataset\n",
    "print(\"\\nTest Data:\")\n",
    "print(\"Positive Entries:\", test_positive_count)\n",
    "print(\"Negative Entries:\", test_negative_count)\n",
    "\n",
    "print(\"Difference:\", abs(test_positive_count - test_negative_count))\n"
   ]
  },
  {
   "cell_type": "markdown",
   "id": "297238b3-ad3e-492d-aa54-fd332aba8690",
   "metadata": {},
   "source": [
    "##### Code explanation: \n",
    "\n",
    "The above code calculate the counts of positive and negative entries in both the training and development datasets. It assumes that the datasets are already loaded and that the target column contains diabetes labels, with 0 representing no diabetes and 1 representing diabetes. Indeed, we first calculate the number of entries in the training dataset where the target column equals 1, stored in variable train_positive_count. It sums up all the True values resulting from the comparison. Then, we calculate the number of entries in the training dataset where the 'label' column equals 0, stored in train_negative_count variable. We then do the same for testing dataset, where the number of positive entries is stored in test_positive_count variable and the number of negative entries is stored in test_negative_count variables. We finally print the results, along with the absolute difference between the counts for both training and testing dataset."
   ]
  },
  {
   "cell_type": "markdown",
   "id": "ceb70517-7cc1-402d-9678-33a140a49834",
   "metadata": {},
   "source": [
    "Then, we generate a plot to visualize the characteristics of both our dataset before proceeding to our model training. "
   ]
  },
  {
   "cell_type": "code",
   "execution_count": 15,
   "id": "50fac92d-3627-49ae-a6b7-ca94dafeb764",
   "metadata": {
    "tags": []
   },
   "outputs": [
    {
     "data": {
      "image/png": "[encoded data removed]",
      "text/plain": [
       "<Figure size 1000x600 with 1 Axes>"
      ]
     },
     "metadata": {},
     "output_type": "display_data"
    }
   ],
   "source": [
    "#We first define labels for the x-axis categories\n",
    "train_labels = ['Positive', 'Negative']\n",
    "test_labels = ['Positive', 'Negative']\n",
    "\n",
    "#As well as the counts of positive and negative entries in the training and testing datasets\n",
    "train_counts = [train_positive_count, train_negative_count]\n",
    "test_counts = [test_positive_count, test_negative_count]\n",
    "\n",
    "#We then create a figure and axis object for the plot with a specified size\n",
    "fig, ax = plt.subplots(figsize=(10, 6))\n",
    "bar_width = 0.35\n",
    "#And generate an index range for positioning the bars on the x-axis\n",
    "index = range(len(train_labels))\n",
    "\n",
    "#We then plot bars representing counts of positive and negative entries in the training dataset\n",
    "train_bars = ax.bar(index, train_counts, bar_width, label='Train Data')\n",
    "#As well as plot bars representing counts of positive and negative entries in the testing dataset\n",
    "test_bars = ax.bar([i + bar_width for i in index], test_counts, bar_width, label='Test Data')\n",
    "\n",
    "#We set labels for the x-axis and y-axis\n",
    "ax.set_xlabel('Diabetes')\n",
    "ax.set_ylabel('Count')\n",
    "#We set the title of the plot\n",
    "ax.set_title('Figure 3: Counts of Positive and Negative Entries in Train and Test Data')\n",
    "#We set positions and labels for the ticks on the x-axis\n",
    "ax.set_xticks([i + bar_width / 2 for i in index])\n",
    "ax.set_xticklabels(train_labels)\n",
    "#We display the legend indicating the bars representing the training and development datasets\n",
    "ax.legend()\n",
    "\n",
    "#We add counts above bars\n",
    "for bars in [train_bars, test_bars]:\n",
    "    for bar in bars:\n",
    "        height = bar.get_height()\n",
    "        #We add text annotations above each bar to display its count\n",
    "        ax.annotate('{}'.format(height),\n",
    "                    xy=(bar.get_x() + bar.get_width() / 2, height),\n",
    "                    xytext=(0, 3),  \n",
    "                    textcoords=\"offset points\",\n",
    "                    ha='center', va='bottom')\n",
    "\n",
    "#Then adjust subplot parameters to prevent overlapping\n",
    "plt.tight_layout()\n",
    "#Finally we display the plot\n",
    "plt.show()"
   ]
  },
  {
   "cell_type": "markdown",
   "id": "168eac03-fab8-4457-b18b-6c6da043a985",
   "metadata": {},
   "source": [
    "##### Code explanation: \n",
    "\n",
    "The above code generates a bar plot to visualize the counts of positive and negative entries in both the training and testing datasets. To do that, we first give the code train_labels and test_labels lists that contain labels for the x-axis categories, which are 'Positive' and 'Negative' in this case. Then, we provide train_counts and test_counts lists that contain the counts of positive and negative entries in the training and test datasets, respectively. We then create a bar plot positioning the bars on the x-axis and plotting the bars representing the counts of positive and negative entries in the training and testing dataset. Finally, we set labels for the x-axis and y-axis, respectively as well as the title of the plot, and a legend indicating the bars representing the training and testing datasets. We also ask the code to iterate through the bars and adds text annotations above each bar to display its counts. Finally we adjust subplot parameters to prevent overlapping and display the plot."
   ]
  },
  {
   "cell_type": "markdown",
   "id": "a1cabceb-2e96-4e2e-a348-e8c4f942a4c4",
   "metadata": {},
   "source": [
    "Then, we check the distribution of labels in our train dataset then in our test dataset"
   ]
  },
  {
   "cell_type": "code",
   "execution_count": 16,
   "id": "d2763586-572d-4c8d-8e93-9bd34f8e1fa6",
   "metadata": {
    "tags": []
   },
   "outputs": [
    {
     "name": "stdout",
     "output_type": "stream",
     "text": [
      "Train Label Distribution (Percentages):\n",
      "diabetes\n",
      "0    91.495714\n",
      "1     8.504286\n",
      "Name: proportion, dtype: float64\n",
      "\n",
      "Test Label Distribution (Percentages):\n",
      "diabetes\n",
      "0    91.66\n",
      "1     8.34\n",
      "Name: proportion, dtype: float64\n"
     ]
    }
   ],
   "source": [
    "#We calculate the distribution of unique labels in the target column of our training dataset,\n",
    "#and normalize the counts to percentages\n",
    "train_label_distribution = train_data['diabetes'].value_counts(normalize=True) * 100\n",
    "\n",
    "#We do the same for our testing dataset\n",
    "test_label_distribution = test_data['diabetes'].value_counts(normalize=True) * 100\n",
    "\n",
    "#We then print a header indicating the label distribution in our training dataset\n",
    "print(\"Train Label Distribution (Percentages):\")\n",
    "#Then we print the calculated label distribution in our training dataset\n",
    "print(train_label_distribution)\n",
    "\n",
    "#We finally do the same for our development dataset\n",
    "print(\"\\nTest Label Distribution (Percentages):\")\n",
    "print(test_label_distribution)"
   ]
  },
  {
   "cell_type": "markdown",
   "id": "394ebce0-01a0-4184-a7a4-e4ed911eeb6e",
   "metadata": {},
   "source": [
    "##### Code explanation:\n",
    "\n",
    "Our above code aims to analyze the distribution of labels within our training and testing dataset (train_data and test_data, respectively). To do that, we ask the code to calculate the distribution of unique labels in the 'diabetes' column of our training dataset (train_data). By setting normalize=True, the resulting counts are converted into percentages, representing the proportion of each label relative to the total number of instances in the dataset. We then do the same for our testing dataset (test_data). We then ask the code to print a header indicating the output that represtns the label distribution in the training and testing dataset, as well as the calculated label distribution in the dataset respectively. Each unique label is displayed along with its corresponding percentage of occurrences. The \"\\n\" is a newline character, ensuring that there is a blank line between the previous and following outputs."
   ]
  },
  {
   "cell_type": "markdown",
   "id": "688a9f67-8bc9-44bf-9a20-3b40560bb9d2",
   "metadata": {},
   "source": [
    "Then we create a figure with two subplots, each displaying a bar chart of the label distribution for the training and test datasets, respectively, providing a visual comparison of the label proportions between the two datasets."
   ]
  },
  {
   "cell_type": "code",
   "execution_count": 17,
   "id": "171aa093-4551-4b88-be75-a7e359c746d8",
   "metadata": {
    "tags": []
   },
   "outputs": [
    {
     "data": {
      "image/png": "[encoded data removed]",
      "text/plain": [
       "<Figure size 1200x600 with 2 Axes>"
      ]
     },
     "metadata": {},
     "output_type": "display_data"
    }
   ],
   "source": [
    "#We create a figure and subplots layout with 1 row and 2 columns, and specify the figure size\n",
    "fig, ax = plt.subplots(1, 2, figsize=(12, 6))\n",
    "\n",
    "#We plot the label distribution for the training dataset on the first subplot\n",
    "train_label_distribution.plot(kind='bar', ax=ax[0], color='skyblue')\n",
    "#We then set title, x-axis label, y-axis label, and grid for the first subplot\n",
    "ax[0].set_title('Figure 4: Train Label Distribution')\n",
    "ax[0].set_xlabel('Label')\n",
    "ax[0].set_ylabel('Proportion')\n",
    "ax[0].grid(axis='y')\n",
    "\n",
    "#Secondly, we plot the label distribution for the testing dataset on the second subplot\n",
    "test_label_distribution.plot(kind='bar', ax=ax[1], color='lightgreen')\n",
    "#We then set title, x-axis label, y-axis label, and grid for the second subplot\n",
    "ax[1].set_title('Firgure 5: Test Label Distribution')\n",
    "ax[1].set_xlabel('Label')\n",
    "ax[1].set_ylabel('Proportion')\n",
    "ax[1].grid(axis='y')\n",
    "\n",
    "#Finally, we adjust subplot spacing to prevent overlap\n",
    "plt.tight_layout()\n",
    "#And display the plot\n",
    "plt.show()"
   ]
  },
  {
   "cell_type": "markdown",
   "id": "db9c4924-03ea-448f-9e9d-b190b01fa7b1",
   "metadata": {},
   "source": [
    "##### Code explanation:\n",
    "\n",
    "In the above code, we aim to visualize the distributions of label proportions for both the training and testing datasets. We ask the code to provide us with a bar chart of the label distribution for the training dataset on the first subplot (ax[0]), we set a title to it, as well as the label for the x-axis and y-axis of the first subplot. With the \"ax[0].grid(axis='y')\", we ask the code to add gridlines along the y-axis of the first subplot to aid visualization. Then, we do the same for our testing dataset, defined as the second subplot (ax[1]). We finally adjust the spacing between subplots to prevent overlap and display the entire figure containing both subplots."
   ]
  },
  {
   "cell_type": "code",
   "execution_count": 18,
   "id": "ea62a21c-3a69-4339-91dc-e7893bcbde50",
   "metadata": {
    "tags": []
   },
   "outputs": [
    {
     "data": {
      "image/png": "[encoded data removed]",
      "text/plain": [
       "<Figure size 1000x600 with 1 Axes>"
      ]
     },
     "metadata": {},
     "output_type": "display_data"
    }
   ],
   "source": [
    "#We assume that 'diabetes' is the target variable and the rest are features\n",
    "features = data.drop('diabetes', axis=1)\n",
    "target = data['diabetes']\n",
    "\n",
    "#We calculate Pearson correlation coefficients for numerical features\n",
    "numeric_features = features.select_dtypes(include=['int64', 'float64'])\n",
    "correlations = numeric_features.apply(lambda x: x.corr(target))\n",
    "\n",
    "#Finally, we plot these correlations\n",
    "plt.figure(figsize=(10, 6))\n",
    "sns.barplot(x=correlations.index, y=correlations.values)\n",
    "plt.title('Correlation Coefficients (Pearson) with Diabetes')\n",
    "plt.ylabel('Pearson Correlation Coefficient')\n",
    "plt.xticks(rotation=45)\n",
    "plt.tight_layout()\n",
    "plt.show()"
   ]
  },
  {
   "cell_type": "markdown",
   "id": "6cb03a14-85c2-49c1-9d6f-122d96b9b4cc",
   "metadata": {},
   "source": [
    "The above code performs an analysis to understand the correlation between numerical features and the 'diabetes' target variable in our dataset. Initially, it assumes 'diabetes' is the target variable and selects all other columns as features. It separates the features from the target variable by dropping the 'diabetes' column from the original dataset and assigning it to the variable 'features'. The target variable itself is assigned to 'target'. Next, it identifies the numerical features within the 'features' DataFrame using .select_dtypes(include=['int64', 'float64']), ensuring only columns containing numeric data types are considered. It then calculates Pearson correlation coefficients between each numerical feature and the 'diabetes' target variable using .apply(lambda x: x.corr(target)). Pearson correlation coefficient measures the linear relationship between two variables, ranging from -1 (perfect negative correlation) to 1 (perfect positive correlation), with 0 indicating no linear correlation. Finally, the code visualizes these correlations using Seaborn's barplot(), where each feature's correlation coefficient with 'diabetes' is plotted as a bar. \n",
    "\n",
    "--> Please note that since we assigned numerical values (0 and 1) to the gender and smoking history features, which were originally categorical, the correlation analysis for these features is not accurate. However, the analysis reveals significant correlations between diabetes and other variables such as blood glucose level, HbA1c level, age, and BMI, suggesting potential predictive relationships, indicating that these latter may be associated with a higher likelihood of diabetes."
   ]
  },
  {
   "cell_type": "markdown",
   "id": "8eb20282-fc0c-4785-8336-1788f88c9a5a",
   "metadata": {},
   "source": [
    "Now, we need to select a machine learning model for our task. Based on our literature review, we will focus on Logistic Regression, Decision Trees, Random Forest, and Naive Bayes. We thought it would be interesting to compare the accuracy of these classifiers to determine which one is the most suitable for our model training."
   ]
  },
  {
   "cell_type": "code",
   "execution_count": 19,
   "id": "ff1eb23b-a047-43be-81dd-c17d7fc8d945",
   "metadata": {
    "tags": []
   },
   "outputs": [
    {
     "name": "stdout",
     "output_type": "stream",
     "text": [
      "Logistic Regression:\n",
      "  Cross-validation scores: [0.96035714 0.96157143 0.9625     0.95907143 0.96035714]\n",
      "  Mean accuracy: 0.9608\n",
      "\n",
      "Decision Trees:\n",
      "  Cross-validation scores: [0.952      0.95092857 0.95435714 0.94828571 0.95171429]\n",
      "  Mean accuracy: 0.9515\n",
      "\n",
      "Random Forest:\n",
      "  Cross-validation scores: [0.96971429 0.97021429 0.97164286 0.969      0.97064286]\n",
      "  Mean accuracy: 0.9702\n",
      "\n"
     ]
    }
   ],
   "source": [
    "#We first define preprocessing steps with SimpleImputer for missing values and StandardScaler for scaling\n",
    "preprocessor = Pipeline(steps=[\n",
    "    ('imputer', SimpleImputer(strategy='mean')),\n",
    "    ('scaler', StandardScaler())\n",
    "])\n",
    "\n",
    "#Then, we initialize classifiers \n",
    "models = {\n",
    "    'Logistic Regression': LogisticRegression(max_iter=1000, random_state=42),\n",
    "    'Decision Trees': DecisionTreeClassifier(random_state=42),\n",
    "    'Random Forest': RandomForestClassifier(random_state=42),\n",
    "}\n",
    "\n",
    "#And create a pipeline with preprocessing and each classifier\n",
    "pipelines = {}\n",
    "for name, model in models.items():\n",
    "    pipelines[name] = Pipeline(steps=[\n",
    "        ('preprocessor', preprocessor),\n",
    "        ('classifier', model)\n",
    "    ])\n",
    "\n",
    "#Finally, we evaluate models using cross-validation\n",
    "for name, pipeline in pipelines.items():\n",
    "    scores = cross_val_score(pipeline, X_train, y_train, cv=5, scoring='accuracy')\n",
    "    print(f\"{name}:\")\n",
    "    print(f\"  Cross-validation scores: {scores}\")\n",
    "    print(f\"  Mean accuracy: {np.mean(scores):.4f}\")\n",
    "    print(\"\")\n",
    "\n"
   ]
  },
  {
   "cell_type": "markdown",
   "id": "d69546ed-13d6-4a96-b412-5a167436235d",
   "metadata": {},
   "source": [
    "##### Code explanation: \n",
    "\n",
    "The above code evaluates multiple classifiers using cross-validation to compare their performance. Firstly, assuming that X_train and y_train are already defined, it sets up a preprocessing pipeline (preprocessor), which consists of two steps: SimpleImputer with strategy 'mean' to handle missing values by imputing the mean of the feature and StandardScaler to standardize features by removing the mean and scaling to unit variance. Then, it initializes a dictionary of classifiers (Logistic Regression, Decision Trees, Random Forest, and Naive Bayes), where each classifier is instantiated with specific parameters (max_iter for LogisticRegression and random_state for all classifiers) to ensure consistent behavior across runs. Subsequently, it creates another dictionary where each key-value pair represents a pipeline combining the preprocessor and a classifier from the models dictionary. This ensures that preprocessing steps are consistently applied before fitting the model. Finally, it evaluates each pipeline using 5-fold cross-validation (cv=5), meaning that for each pipeline, it computes the accuracy scores (scoring='accuracy') and prints out the results, including individual cross-validation scores and the mean accuracy across folds. \n",
    "\n",
    "--> Based on our evaluation, the Random Forest model stands out as the top performer, achieving a mean accuracy of 0.9702. As a result, we have decided to proceed with training our model using Random Forest."
   ]
  },
  {
   "cell_type": "markdown",
   "id": "adf3d7fe-88f0-4675-a797-87561e0eee80",
   "metadata": {},
   "source": [
    "--> For our current analysis, we have decided not to incorporate clustering. Our focus is on supervised learning tasks where we already possess labeled data. Our primary objective is predictive modeling rather than exploratory data analysis. In supervised learning, we can directly apply algorithms that predict the target variable using the available labeled data. Clustering becomes more relevant when the goal is to uncover hidden structures within unlabeled data. While clustering could be beneficial for tasks like understanding data structure, we have earmarked it for potential future use, particularly in more exploratory analyses (AE2), where uncovering underlying patterns or enhancing predictive models through feature engineering could provide additional insights."
   ]
  },
  {
   "cell_type": "markdown",
   "id": "fa067392-5a61-4c66-815e-fdc16d642ba6",
   "metadata": {
    "tags": []
   },
   "source": [
    "Now we want to train our Random Forest model on our training data. "
   ]
  },
  {
   "cell_type": "code",
   "execution_count": 20,
   "id": "f7d5af94-28cc-4e49-a12f-a30e3a30875d",
   "metadata": {
    "tags": []
   },
   "outputs": [
    {
     "name": "stdout",
     "output_type": "stream",
     "text": [
      "Training Accuracy: 99.92%\n"
     ]
    }
   ],
   "source": [
    "#We first define preprocessing steps with SimpleImputer for missing values and StandardScaler for scaling\n",
    "preprocessor = Pipeline(steps=[\n",
    "    ('imputer', SimpleImputer(strategy='mean')),  #It replaces NaN with mean of the column\n",
    "    ('scaler', StandardScaler())  #It standardizes features by removing mean and scaling to unit variance\n",
    "])\n",
    "\n",
    "#Then, we initialize the Random Forest classifier\n",
    "random_forest = RandomForestClassifier(random_state=42)\n",
    "\n",
    "#And create a pipeline with preprocessing and the classifier\n",
    "model = Pipeline(steps=[\n",
    "    ('preprocessor', preprocessor),\n",
    "    ('classifier', random_forest)\n",
    "])\n",
    "\n",
    "#We then train it on our training data\n",
    "model.fit(X_train, y_train)\n",
    "\n",
    "#And evaluate our model on the training set\n",
    "train_accuracy = model.score(X_train, y_train)\n",
    "print(f\"Training Accuracy: {train_accuracy * 100:.2f}%\")\n"
   ]
  },
  {
   "cell_type": "markdown",
   "id": "16e0c576-7767-480d-8752-58aed79d3ab9",
   "metadata": {},
   "source": [
    "##### Code explanation: \n",
    "\n",
    "The above code trains a Random Forest classifier on our training data. Firstly, it creates a preprocessing pipeline 'preprocessor' that is defined by using SimpleImputer to handle missing values by replacing NaNs with the mean of each column, and a StandardScaler to standardize the features, which removes the mean and scales them to unit variance, making the data more suitable for modeling. Then, the Random Forest classifier is initialized with random_state=42 for reproducibility. This classifier is then incorporated into a comprehensive pipeline 'model' that sequentially applies the defined preprocessing steps 'preprocessor' and then fits the classifier 'random_forest' to the training data (X_train, y_train). After training the model using model.fit(X_train, y_train), the code evaluates its performance on the training set by computing the training accuracy 'train_accuracy' using model.score(X_train, y_train). This accuracy metric reflects how well the model predicts the training data labels compared to their actual values. Finally, it displays the accuracy score rounded to four decimal places, providing insight into the model's effectiveness in learning from the training data."
   ]
  },
  {
   "cell_type": "markdown",
   "id": "4d1c11f4-0fb8-4db1-b296-48fe9e0127e4",
   "metadata": {},
   "source": [
    "Now, we want to evaluate our model performance to assess how well it performs on unseen data. To do that, we will use our testing data. "
   ]
  },
  {
   "cell_type": "code",
   "execution_count": 21,
   "id": "343b5cdc-9d61-4606-bba0-cfd87a6cced1",
   "metadata": {
    "tags": []
   },
   "outputs": [
    {
     "name": "stdout",
     "output_type": "stream",
     "text": [
      "Testing Accuracy: 96.99%\n"
     ]
    }
   ],
   "source": [
    "#We evaluate model performance on testing data\n",
    "test_accuracy = model.score(X_test, y_test)\n",
    "print(f\"Testing Accuracy: {test_accuracy * 100:.2f}%\") "
   ]
  },
  {
   "cell_type": "markdown",
   "id": "4f2444d7-310f-4ca9-8b04-3d4406d2254c",
   "metadata": {},
   "source": [
    "##### Code explanation: \n",
    "    \n",
    "The above code evaluates the performance of our Random Forest model 'model' on unseen testing data (X_test, y_test). The model.score(X_test, y_test) function calculates the accuracy of the model predictions by comparing them to the true labels (y_test) from the testing dataset (X_test). Finally, we print the accuracy score rounded to four decimal places, providing a clear indication of how well the model generalizes to new, unseen data.\n",
    "\n",
    "--> Please, note that the accuracy score reflects the proportion of correctly predicted outcomes out of all predictions made on the testing data. It measures how accurately the model predicts the target variable (y_test) based on the features (X_test) it hasn't seen during training. A higher testing accuracy suggests that the model performs well and makes accurate predictions on new instances, which is a key metric in assessing the model's overall performance and reliability."
   ]
  },
  {
   "cell_type": "markdown",
   "id": "e2e2d18d-bbfb-4650-a963-745c18ba20ca",
   "metadata": {},
   "source": [
    "Now, we want to generate a classification report to evaluate the performance of our classification model. It provides detailed metrics such as precision, recall, F1-score, and support for each class, offering insights into how well the model predicts each category. "
   ]
  },
  {
   "cell_type": "code",
   "execution_count": 22,
   "id": "c90d7220-2e94-421f-bedd-dbbb3a21aaaf",
   "metadata": {
    "tags": []
   },
   "outputs": [
    {
     "name": "stdout",
     "output_type": "stream",
     "text": [
      "Classification Report:\n",
      "              precision    recall  f1-score   support\n",
      "\n",
      "           0       0.97      1.00      0.98     22915\n",
      "           1       0.94      0.68      0.79      2085\n",
      "\n",
      "    accuracy                           0.97     25000\n",
      "   macro avg       0.96      0.84      0.89     25000\n",
      "weighted avg       0.97      0.97      0.97     25000\n",
      "\n"
     ]
    }
   ],
   "source": [
    "#We first assume that our X_test, y_test are your testing data\n",
    "y_pred = model.predict(X_test)\n",
    "\n",
    "#Then, we generate classification report\n",
    "report = classification_report(y_test, y_pred)\n",
    "\n",
    "print(\"Classification Report:\")\n",
    "print(report)\n"
   ]
  },
  {
   "cell_type": "markdown",
   "id": "3c6ac9aa-6fc0-4aba-8460-50ecf5f26300",
   "metadata": {},
   "source": [
    "##### Code explanation: \n",
    "\n",
    "The above code aims to evaluate our model on a separate set of testing data, X_test and y_test. Firstly, it uses the trained model to predict the class labels for the instances in X_test, producing y_pred as the predicted labels. Then, the classification_report function is used to generate a comprehensive report on the model's performance, including key metrics such as precision, recall, F1-score, and support for each class present in y_test. Finally, it displays the \"Classification Report,\" providing a detailed assessment of how well the model predicts each class. "
   ]
  },
  {
   "cell_type": "markdown",
   "id": "d536acec-b65b-45cc-a5f9-211c7c6251c9",
   "metadata": {},
   "source": [
    "Now we want to fine-tune the hyperparameters of our Random Forest model to optimize its performance. "
   ]
  },
  {
   "cell_type": "code",
   "execution_count": 23,
   "id": "09495ed9-c16f-4d0e-93f0-be40f409f979",
   "metadata": {
    "tags": []
   },
   "outputs": [
    {
     "name": "stdout",
     "output_type": "stream",
     "text": [
      "Best Parameters:\n",
      "{'classifier__max_depth': 10, 'classifier__min_samples_split': 2, 'classifier__n_estimators': 200}\n"
     ]
    }
   ],
   "source": [
    "#We first define the parameter grid for GridSearchCV\n",
    "param_grid = {\n",
    "     'classifier__n_estimators': [100, 200],\n",
    "    'classifier__max_depth': [None, 10],\n",
    "    'classifier__min_samples_split': [2, 5]\n",
    "}\n",
    "\n",
    "#Then, we initialize GridSearchCV with the defined parameter grid and 5-fold cross-validation\n",
    "grid_search = GridSearchCV(model, param_grid, cv=5, scoring='accuracy')\n",
    "\n",
    "#We then, fit GridSearchCV to find the best parameters\n",
    "grid_search.fit(X_train, y_train)\n",
    "\n",
    "#Finally, we print the best parameters found by GridSearchCV\n",
    "print(\"Best Parameters:\")\n",
    "print(grid_search.best_params_)\n"
   ]
  },
  {
   "cell_type": "markdown",
   "id": "03941537-7cdd-47a4-a73f-bba413164bc2",
   "metadata": {},
   "source": [
    "##### Code explanation: \n",
    "\n",
    "The above code searches for the optimal hyperparameters for our model. Firstly, the parameter grid (param_grid) is defined, specifying different combinations of hyperparameters for our Random Forest classifier. Please note that the grid includes variations for n_estimators, max_depth, and min_samples_split. Then, the GridSearchCV is initialized with our model pipeline, the parameter grid (param_grid), 5-fold cross-validation (cv=5), and the scoring metric (scoring='accuracy'). In other words, the fit method is called on GridSearchCV to train and evaluate all combinations of parameters using the training data (X_train, y_train). Finally, the best performing combination of parameters is printed using grid_search.best_params_."
   ]
  },
  {
   "cell_type": "markdown",
   "id": "6557661d-f1d2-4ba6-ac9f-8627fe2cc978",
   "metadata": {},
   "source": [
    "Now, we re-evaluate our model using the optimized hyperparameters from the best model."
   ]
  },
  {
   "cell_type": "code",
   "execution_count": 24,
   "id": "b8388f1a-b5b9-4255-9e1b-2750ff599803",
   "metadata": {
    "tags": []
   },
   "outputs": [
    {
     "name": "stdout",
     "output_type": "stream",
     "text": [
      "Testing Accuracy with Best Model: 97.22%\n",
      "Best Parameters Used: {'classifier__max_depth': 10, 'classifier__min_samples_split': 2, 'classifier__n_estimators': 200}\n",
      "Classification Report:\n",
      "              precision    recall  f1-score   support\n",
      "\n",
      "           0       0.97      1.00      0.99     22915\n",
      "           1       1.00      0.67      0.80      2085\n",
      "\n",
      "    accuracy                           0.97     25000\n",
      "   macro avg       0.99      0.83      0.89     25000\n",
      "weighted avg       0.97      0.97      0.97     25000\n",
      "\n"
     ]
    }
   ],
   "source": [
    "#We then evaluate the best model found by GridSearchCV on the testing data\n",
    "test_accuracy = grid_search.best_estimator_.score(X_test, y_test)\n",
    "print(f\"Testing Accuracy with Best Model: {test_accuracy * 100:.2f}%\") \n",
    "\n",
    "#And display the best parameters used by the model\n",
    "print(f\"Best Parameters Used: {grid_search.best_params_}\")\n",
    "\n",
    "#We then evaluate the model with best parameters on testing data\n",
    "best_model = grid_search.best_estimator_\n",
    "y_pred = best_model.predict(X_test)\n",
    "\n",
    "#And finally generate and print classification report\n",
    "report = classification_report(y_test, y_pred)\n",
    "print(\"Classification Report:\")\n",
    "print(report)\n"
   ]
  },
  {
   "cell_type": "markdown",
   "id": "0b71646f-e7a1-4984-9df8-9314c748d332",
   "metadata": {},
   "source": [
    "##### Code explanation: \n",
    "\n",
    "The above code first evaluates the best model found by GridSearchCV on the testing data by calculating its accuracy and printing it. It then displays the parameters used by this best model. Subsequently, our model with its best parameters is used to make predictions on the testing data (X_test). Finally, the code generates a classification report based on these predictions and prints it, providing detailed performance metrics such as precision, recall, and F1 score for each class"
   ]
  },
  {
   "cell_type": "markdown",
   "id": "198e1744-401e-4bfa-b123-5a48c75928fc",
   "metadata": {},
   "source": [
    "Then, we decided to do a cross-validation step as it is crucial for the model evaluation process because it provides a robust estimate of the model's performance on unseen data. Indeed, cross-validation helps mitigate the risk of overfitting and ensures that the model generalizes well to new data. "
   ]
  },
  {
   "cell_type": "code",
   "execution_count": 25,
   "id": "71802f0e-65bf-446a-9ebf-3d812e1437f7",
   "metadata": {
    "tags": []
   },
   "outputs": [
    {
     "name": "stdout",
     "output_type": "stream",
     "text": [
      "Cross-Validation Scores: [0.96971429 0.97021429 0.97164286 0.969      0.97064286]\n",
      "Mean Cross-Validation Accuracy: 0.9702\n"
     ]
    }
   ],
   "source": [
    "#We use 5-fold cross-validation and accuracy as the scoring metric\n",
    "cv_scores = cross_val_score(model, X_train, y_train, cv=5, scoring='accuracy')\n",
    "\n",
    "#And print the cross-validation scores and the mean accuracy\n",
    "print(\"Cross-Validation Scores:\", cv_scores)\n",
    "print(\"Mean Cross-Validation Accuracy: {:.4f}\".format(cv_scores.mean())) "
   ]
  },
  {
   "cell_type": "markdown",
   "id": "a1aae3e0-e5cd-4f16-868a-888cf7094263",
   "metadata": {},
   "source": [
    "##### Code explanation: \n",
    "\n",
    "The above code evaluates our model's performance. To do that, it splits our dataset (X_train, y_train) into 5 folds. Our model is trained on 4 folds and validated on the remaining fold iteratively, ensuring that each fold serves as both training and validation data across different iterations. The 'accuracy' scoring metric is used to assess how well the model predicts the target variable. After computing the accuracy scores for each fold, the code prints both the individual cross-validation scores and the mean accuracy across all folds. "
   ]
  },
  {
   "cell_type": "markdown",
   "id": "55f64053-d5c7-43f9-b2f2-00c66035ace0",
   "metadata": {},
   "source": [
    "Now, we will save our best model so that it can be loaded and reused for predictions on new data, without retrain the model from scratch."
   ]
  },
  {
   "cell_type": "code",
   "execution_count": 26,
   "id": "9ae89fb5-8d5f-46a4-a059-8e4574d6bcd5",
   "metadata": {
    "tags": []
   },
   "outputs": [
    {
     "name": "stdout",
     "output_type": "stream",
     "text": [
      "Best model saved to 'best_model.pkl'\n"
     ]
    }
   ],
   "source": [
    "#We save our best model to a file\n",
    "joblib.dump(best_model, 'best_model.pkl')\n",
    "print(\"Best model saved to 'best_model.pkl'\")"
   ]
  },
  {
   "cell_type": "markdown",
   "id": "b6422131-08a1-4bea-a03f-e379a3ffb63c",
   "metadata": {},
   "source": [
    "##### Code explanation: \n",
    "\n",
    "The above code saves our trained machine learning model using the joblib library in Python. To do that it employs joblib.dump() to serialize the model and store it in a file named 'best_model.pkl'. This is crucial for easy retrieval and reuse without needing to retrain from scratch. Finally, it prints a message that confirms that the model has been successfully saved to the specified file location."
   ]
  },
  {
   "cell_type": "markdown",
   "id": "a8684673-ca68-4289-9734-46bb12e8ce21",
   "metadata": {},
   "source": [
    "Subsequently, we want to analyze the feature importance to understand which features have the most significant impact on our model's predictions."
   ]
  },
  {
   "cell_type": "code",
   "execution_count": 27,
   "id": "bb8e98eb-94fc-40f3-bf4f-2babf1e81b69",
   "metadata": {
    "tags": []
   },
   "outputs": [
    {
     "data": {
      "image/png": "[encoded data removed]",
      "text/plain": [
       "<Figure size 1200x800 with 1 Axes>"
      ]
     },
     "metadata": {},
     "output_type": "display_data"
    }
   ],
   "source": [
    "#We first extract the trained Random Forest classifier from the pipeline\n",
    "trained_rf = model.named_steps['classifier']\n",
    "\n",
    "#And get feature importances\n",
    "feature_importances = trained_rf.feature_importances_\n",
    "\n",
    "#We assume that feature names are available\n",
    "feature_names = X_train.columns  \n",
    "\n",
    "#And create a DataFrame for visualization\n",
    "importance_df = pd.DataFrame({\n",
    "    'Feature': feature_names,\n",
    "    'Importance': feature_importances\n",
    "}).sort_values(by='Importance', ascending=False)\n",
    "\n",
    "#To finally plot feature importances\n",
    "plt.figure(figsize=(12, 8))\n",
    "plt.barh(importance_df['Feature'], importance_df['Importance'])\n",
    "plt.xlabel('Importance')\n",
    "plt.ylabel('Feature')\n",
    "plt.title('Feature Importance')\n",
    "plt.gca().invert_yaxis()\n",
    "plt.show()"
   ]
  },
  {
   "cell_type": "markdown",
   "id": "de190028-23b6-44a5-89cf-e2a9affbf66a",
   "metadata": {},
   "source": [
    "##### Code explanation: \n",
    "\n",
    "This above code illustrates feature importances from our trained Random Forest classifier. Initially, the Random Forest model (trained_rf) is extracted from the pipeline using the named_steps attribute. Feature importances are then computed using the feature_importances_ property of our Random Forest model, assuming that the feature names are available in X_train.columns. These feature names and their corresponding importances are organized into a DataFrame (importance_df), sorted in descending order based on importance values. Finally, the code creates a horizontal bar plot to visualize the relative importance of each feature. This helps us interpret which features have the most significant impact on the model's predictions. "
   ]
  },
  {
   "cell_type": "markdown",
   "id": "e89e70eb-a813-49d4-8a5a-f7d5c756ef85",
   "metadata": {},
   "source": [
    "Finally, we deploy our model on a new unseen deployment data (5%, X_deploy, y_deploy) to assess how well our model performs on completely new and independent data that it hasn't seen during training or evaluation. This is crucial because it provides insights into the model's ability to generalize to real-world scenarios and validate its robustness and reliability before it is used for making critical decisions. "
   ]
  },
  {
   "cell_type": "code",
   "execution_count": 28,
   "id": "7cc5d697-83bf-4cb1-b1b1-6c4d8bb08b8a",
   "metadata": {
    "tags": []
   },
   "outputs": [
    {
     "name": "stdout",
     "output_type": "stream",
     "text": [
      "Deployment results with predictions saved to 'deployment_results_with_predictions.csv'\n"
     ]
    }
   ],
   "source": [
    "#We assume that X_deploy is our deployment data and y_deploy is the actual given diabetes scores\n",
    "\n",
    "#We first make predictions using the loaded model\n",
    "y_pred_deploy = best_model.predict(X_deploy)\n",
    "\n",
    "#And create a DataFrame with X_deploy, y_deploy, and the predicted values\n",
    "deploy_results = pd.DataFrame(X_deploy, columns=X_deploy.columns)\n",
    "deploy_results['Actual_Diabetes'] = y_deploy \n",
    "deploy_results['Predicted_Diabetes'] = y_pred_deploy\n",
    "\n",
    "#Then, we save the results to a file with predicted values included\n",
    "deploy_results.to_csv('deployment_results_with_predictions.csv', index=False)\n",
    "\n",
    "#And finally, we display the deployment results\n",
    "print(\"Deployment results with predictions saved to 'deployment_results_with_predictions.csv'\")\n"
   ]
  },
  {
   "cell_type": "markdown",
   "id": "4b34e7d2-c130-4e3b-af26-fa4edb9df293",
   "metadata": {},
   "source": [
    "##### Code explanation: \n",
    "\n",
    "The above code demonstrates the deployment of our best_model on our deployment data (X_deploy) to predict diabetes outcomes. Initially, predictions are made using the model, generating y_pred_deploy. Subsequently, a DataFrame deploy_results is created, incorporating X_deploy, actual diabetes scores (y_deploy), and predicted diabetes values. The results are then saved to a CSV file named 'deployment_results_with_predictions.csv', ensuring the inclusion of predicted values. Finally, the code displays a statement that confirms the successful saving of our deployment results with predictions."
   ]
  },
  {
   "cell_type": "markdown",
   "id": "fa4497b0-eb8e-4ca0-b563-b78728820f72",
   "metadata": {},
   "source": [
    "We finally calculate the accuracy score of our model on our deployment dataset to validate and maintain the efficacy of our machine learning model in real-world applications. "
   ]
  },
  {
   "cell_type": "code",
   "execution_count": 29,
   "id": "bb09c084-2b33-4c74-94f5-907bc5f4e9aa",
   "metadata": {
    "tags": []
   },
   "outputs": [
    {
     "name": "stdout",
     "output_type": "stream",
     "text": [
      "Accuracy on Deployment Data: 96.88%\n"
     ]
    }
   ],
   "source": [
    "#We calculate our model accuracy score on deployment data\n",
    "accuracy = accuracy_score(y_deploy, y_pred_deploy)\n",
    "\n",
    "#And print the result\n",
    "print(f\"Accuracy on Deployment Data: {accuracy * 100:.2f}%\")\n"
   ]
  },
  {
   "cell_type": "markdown",
   "id": "112a8ec3-c213-45e7-b65f-b6dac6a637f0",
   "metadata": {},
   "source": [
    "##### Code explanation: \n",
    "\n",
    "The above code aims to calculate the accuracy score of our machine learning model on our deployment data. To do that, it uses the accuracy_score function to compare the predicted values (y_pred_deploy) with the actual target values (y_deploy). It assesses the proportion of correctly predicted outcomes out of the total number of predictions made. Finally, the result in printed, providing a measure of how well the model performs on the unseen deployment dataset."
   ]
  },
  {
   "cell_type": "markdown",
   "id": "c6cbe120-216c-4e97-8ef4-7aa31918bd4e",
   "metadata": {},
   "source": [
    "#### References: \n",
    "\n",
    "1. GfG (2022) Using countvectorizer to extracting features from text, GeeksforGeeks. Available at: https://www.geeksforgeeks.org/using-countvectorizer-to-extracting-features-from-text/ (Accessed: 12 April 2024).\n",
    "\n",
    "2. GfG (2023) Advantages and disadvantages of logistic regression, GeeksforGeeks. Available at: https://www.geeksforgeeks.org/advantages-and-disadvantages-of-logistic-regression/ (Accessed: 12 April 2024).\n",
    "\n",
    "3. Matplotlib documentation (2024) Pyplot tutorial. Available at: https://matplotlib.org/2.0.2/users/pyplot_tutorial.html (Accessed: 29 February 2024).\n",
    "\n",
    "\n",
    "4. Pandas documentation (2024) Pandas.dataframe.replace#. Available at: https://pandas.pydata.org/pandas-docs/stable/reference/api/pandas.DataFrame.replace.html (Accessed: 29 February 2024).\n",
    "\n",
    "\n",
    "5. Python documentation (2024) CSV - csv file reading and writing . Available at: https://docs.python.org/3/library/csv.html (Accessed: 29 February 2024).\n",
    "\n",
    "6. Python documentation (2024) How to fetch internet resources using the urllib package. Available at: https://docs.python.org/3/howto/urllib2.html (Accessed: 29 February 2024).\n",
    "\n",
    "7. Python documentation (2024) OS - miscellaneous operating system interfaces . Available at: https://docs.python.org/3/library/os.html (Accessed: 29 February 2024).\n",
    "\n",
    "8. Python documentation (2024) Pickle - python object serialization. Available at: https://docs.python.org/3/library/pickle.html (Accessed: 12 April 2024).\n",
    "\n",
    "9. Python documentation (2024) Statistics - mathematical statistics functions. Available at: https://docs.python.org/3/library/statistics.html (Accessed: 29 February 2024).\n",
    "\n",
    "10. Python documentation (2024) Time - Time Access and conversions. Available at: https://docs.python.org/3/library/time.html (Accessed: 29 February 2024).\n",
    "\n",
    "\n",
    "11. Real Python (2023) Python’s zipfile: Manipulate your zip files efficiently, Real Python. Available at: https://realpython.com/python-zipfile/ (Accessed: 12 April 2024).\n",
    "\n",
    "12. RE (2024) - regular expression operations (no date) Python documentation. Available at: https://docs.python.org/3/library/re.html (Accessed: 12 April 2024).\n",
    "\n",
    "13. scikit (2024) Sklearn.feature_extraction.text.CountVectorizer. Available at: https://scikit-learn.org/stable/modules/generated/sklearn.feature_extraction.text.CountVectorizer.html (Accessed: 12 April 2024).\n",
    "\n",
    "14. scikit (2024) Sklearn.feature_extraction.text.TfidfVectorizer. Available at: https://scikit-learn.org/stable/modules/generated/sklearn.feature_extraction.text.TfidfVectorizer.html (Accessed: 12 April 2024).\n",
    "\n",
    "15. scikit (2024) Sklearn.linear_model.logisticregression. Available at: https://scikit-learn.org/stable/modules/generated/sklearn.linear_model.LogisticRegression.html (Accessed: 12 April 2024).\n",
    "\n",
    "16. scikit (2024) Sklearn.metrics.accuracy_score. Available at: https://scikit-learn.org/stable/modules/generated/sklearn.metrics.accuracy_score.html (Accessed: 12 April 2024).\n",
    "\n",
    "17. scikit (2024) Sklearn.metrics.classification_report. Available at: https://scikit-learn.org/stable/modules/generated/sklearn.metrics.classification_report.html (Accessed: 12 April 2024).\n",
    "\n",
    "18. scikit (2024) Sklearn.model_selection.train_test_split. Available at: https://scikit-learn.org/stable/modules/generated/sklearn.model_selection.train_test_split.html (Accessed: 12 April 2024).\n",
    "\n",
    "19. scikit (2024) Sklearn.naive_bayes.multinomialnb. Available at: https://scikit-learn.org/stable/modules/generated/sklearn.naive_bayes.MultinomialNB.html (Accessed: 12 April 2024).\n",
    "\n",
    "20. scikit (2024) 1.1. Linear Models. Available at: https://scikit-learn.org/stable/modules/linear_model.html (Accessed: 12 April 2024).\n",
    "\n",
    "21. Seaborn documentation (2024) An introduction to seaborn. Available at: https://seaborn.pydata.org/tutorial/introduction.html (Accessed: 29 February 2024).\n",
    "\n",
    "22. SitePoint (2024) Making HTTP requests in Node.js. Available at: https://www.sitepoint.com/making-http-requests-in-node-js/ (Accessed: 12 April 2024).\n",
    "\n",
    "23. TensorFlow (no date) Classification on imbalanced data : Tensorflow Core. Available at: https://www.tensorflow.org/tutorials/structured_data/imbalanced_data (Accessed: 12 April 2024).\n",
    "\n",
    "24. W3 School (2024) Pandas Getting Started. Available at: https://www.w3schools.com/python/pandas/pandas_getting_started.asp (Accessed: 29 February 2024).\n",
    "\n",
    "25. W3 School (2024) NumPy getting started. Available at: https://www.w3schools.com/python/numpy/numpy_getting_started.asp (Accessed: 29 February 2024).\n"
   ]
  }
 ],
 "metadata": {
  "kernelspec": {
   "display_name": "Python 3 (ipykernel)",
   "language": "python",
   "name": "python3"
  },
  "language_info": {
   "codemirror_mode": {
    "name": "ipython",
    "version": 3
   },
   "file_extension": ".py",
   "mimetype": "text/x-python",
   "name": "python",
   "nbconvert_exporter": "python",
   "pygments_lexer": "ipython3",
   "version": "3.11.5"
  }
 },
 "nbformat": 4,
 "nbformat_minor": 5
}
