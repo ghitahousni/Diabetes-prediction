{
 "cells": [
  {
   "cell_type": "markdown",
   "id": "f33d7d23-01b3-421f-9077-3207916ffe9f",
   "metadata": {},
   "source": [
    "## LDSCI7227: Machine Learning \n",
    "\n",
    "#### AE2 - Classifiers \n",
    "\n",
    "#### Student ID: 23220052\n",
    "\n",
    "#### Revised study: Enhancing Early Diabetes Prediction Using Machine Learning - An Ethical and Practical Approach"
   ]
  },
  {
   "cell_type": "markdown",
   "id": "6f453acf-d3b4-48e2-824f-b790284581b1",
   "metadata": {},
   "source": [
    "Before starting the assignment, we will be importing all libraries and packages required for our programme solution\n",
    "\n",
    "- \"import os\" module to use the operating system dependent functionality allowing us to interact with file systems, manipulate paths and perform operating system-related tasks. (Python documentation, 2024)\n",
    "- \"import urllib\" module to retrieve/fetch/workwith data from URLs (Python documentation, 2024)\n",
    "- \"import time\" module to work with time-related functions (Python documentation, 2024)\n",
    "- \"import csv\" module to work with Comma Separated Values files as well as read and write tabular data in CSV format (Python documentation, 2024)\n",
    "- \"import pandas as pd\" library to manipulate and analyse data (W3 School, 2024)\n",
    "- \"import numpy as np\" library to perform mathematical operations (W3 School, 2024)\n",
    "- \"import statistics\" module to calculate mathematical statistics of numeric data (Python documentation, 2024)\n",
    "- \"import seaborn as sns\" data visualization library (based on Matplotlib) to make statistical graphics, explore and understand the data (Seaborn documentation, 2024)\n",
    "- \"import matplotlib.pyplot as plt\" module to create different types of plots and charts (Matplotlib documentation, 2024)\n",
    "- \"import request\" module to allow us to send HTTP requests (SitePoint, 2024)\n",
    "- \"import zipfile\" module to create, read, write and list contents of ZIP archives/files (Real Python, 2023)\n",
    "- \"import re\" module to provide regular expression matching operations(Re, 2024)\n",
    "- \"import pickle\" module for serializing and deserializing Python objects (Python documentation, 2024)\n",
    "- \"from sklearn.feature_extraction.text import TfidfVectorizer\" to convert a collection of raw documents to a matrix of TF-IDF features (scikit, 2024)\n",
    "- \"from sklearn.linear_model import LogisticRegression\" to use Logistic Regression classifier (scikit, 2024)\n",
    "- \"from sklearn.model_selection import train_test_split\" to split arrays or matrices into random train and test subsets (scikit, 2024)\n",
    "- \"from sklearn.naive_bayes import MultinomialNB\" to use Naive Bayes classifier for multinomial models (scikit, 2024)\n",
    "- \"from sklearn.metrics import classification_report\" to build a text report showing the main classification metrics (scikit, 2024)\n",
    "- \"from sklearn.feature_extraction.text import CountVectorizer\" to convert a collection of text documents to a matrix of token counts (scikit, 2024)\n",
    "- \"from sklearn.metrics import accuracy_score\" for accuracy classification score (scikit, 2024)\n",
    "- \"from sklearn.metrics import confusion_matrix, roc_auc_score\" to evaluate classification models performance (Stack Overflow, n.d.)\n",
    "- \"from sklearn.svm import SVC\" to create a Support Vector Classifier (SVC)(scikit-learn, 2019)\n",
    "- \"from sklearn.neighbors import KNeighborsClassifier\" to create a k-nearest neighbors (KNN) classifier (scikit-learn , 2019)\n",
    "- \"from keras.models import Sequential\" to create a sequential neural network model in Keras (Stack Overflow, n.d.)\n",
    "- \"from keras.layers import Dense, Conv2D, Flatten, MaxPooling2D\" to create various types of layers in a neural network (Stack Overflow, n.d.)\n",
    "- \"from keras.utils import to_categorical\" to convert integer labels to one-hot encoded format, which is a binary matrix representation of the class labels (GeeksforGeeks, 2020)\n",
    "- \"from keras.layers import Dropout\" to prevent overfitting in neural networks by randomly setting a fraction of input units to 0 at each update during training time (Stack Overflow, n.d.)\n",
    "- \"from sklearn.model_selection import StratifiedKFold\" is used for cross-validation that ensures each fold of the dataset has a representative distribution of the target classes (scikit-learn, 2019)"
   ]
  },
  {
   "cell_type": "code",
   "execution_count": 1,
   "id": "d30062da-b184-47ab-8cf6-9cee171ebeb4",
   "metadata": {
    "tags": []
   },
   "outputs": [],
   "source": [
    "#We first import all libraries and packages \n",
    "\n",
    "import os \n",
    "import urllib\n",
    "import time \n",
    "import csv\n",
    "import pandas as pd\n",
    "import numpy as np\n",
    "import statistics \n",
    "import seaborn as sns \n",
    "import matplotlib.pyplot as plt\n",
    "import requests\n",
    "import zipfile\n",
    "import re\n",
    "import pickle\n",
    "import joblib\n",
    "from sklearn.feature_extraction.text import TfidfVectorizer\n",
    "from sklearn.linear_model import LogisticRegression\n",
    "from sklearn.model_selection import train_test_split\n",
    "from sklearn.naive_bayes import MultinomialNB\n",
    "from sklearn.metrics import classification_report\n",
    "from sklearn.feature_extraction.text import CountVectorizer\n",
    "from sklearn.metrics import accuracy_score\n",
    "from sklearn.pipeline import Pipeline\n",
    "from sklearn.model_selection import cross_val_score\n",
    "from sklearn.preprocessing import StandardScaler, LabelEncoder\n",
    "from sklearn.impute import SimpleImputer\n",
    "from sklearn.ensemble import RandomForestClassifier\n",
    "from sklearn.tree import DecisionTreeClassifier\n",
    "from sklearn.naive_bayes import GaussianNB \n",
    "from sklearn.model_selection import GridSearchCV\n",
    "from sklearn.metrics import confusion_matrix, roc_auc_score\n",
    "from sklearn.svm import SVC\n",
    "from sklearn.neighbors import KNeighborsClassifier\n",
    "from keras.models import Sequential\n",
    "from keras.layers import Dense, Conv2D, Conv1D, Flatten, MaxPooling2D\n",
    "from keras.utils import to_categorical\n",
    "from keras.layers import Dropout\n",
    "from sklearn.model_selection import StratifiedKFold"
   ]
  },
  {
   "cell_type": "markdown",
   "id": "d6e21c00-bc7f-4538-9443-a4c9c41aee68",
   "metadata": {},
   "source": [
    "In order to predict people with diabetes, we first have to download our dataset, in this case the diabetes_prediction_dataset dataset manually. Once done, we want to load our data from the Excel file."
   ]
  },
  {
   "cell_type": "code",
   "execution_count": 2,
   "id": "6c0c1575-a443-4050-a2f6-f61ae5e20aab",
   "metadata": {
    "tags": []
   },
   "outputs": [
    {
     "name": "stdout",
     "output_type": "stream",
     "text": [
      "First few rows of the dataset:\n",
      "   gender   age  hypertension  heart_disease smoking_history    bmi  \\\n",
      "0  Female  80.0             0              1           never  25.19   \n",
      "1  Female  54.0             0              0         No Info  27.32   \n",
      "2    Male  28.0             0              0           never  27.32   \n",
      "3  Female  36.0             0              0         current  23.45   \n",
      "4    Male  76.0             1              1         current  20.14   \n",
      "5  Female  20.0             0              0           never  27.32   \n",
      "6  Female  44.0             0              0           never  19.31   \n",
      "7  Female  79.0             0              0         No Info  23.86   \n",
      "8    Male  42.0             0              0           never  33.64   \n",
      "9  Female  32.0             0              0           never  27.32   \n",
      "\n",
      "   HbA1c_level  blood_glucose_level  diabetes  \n",
      "0          6.6                  140         0  \n",
      "1          6.6                   80         0  \n",
      "2          5.7                  158         0  \n",
      "3          5.0                  155         0  \n",
      "4          4.8                  155         0  \n",
      "5          6.6                   85         0  \n",
      "6          6.5                  200         1  \n",
      "7          5.7                   85         0  \n",
      "8          4.8                  145         0  \n",
      "9          5.0                  100         0  \n"
     ]
    }
   ],
   "source": [
    "#We first load our dataset from the CSV file\n",
    "file_path = 'diabetes_prediction_dataset.csv'  \n",
    "\n",
    "#Then, we read the CSV file\n",
    "data = pd.read_csv(file_path)\n",
    "\n",
    "#And display the first few rows of the dataset\n",
    "print(\"First few rows of the dataset:\")\n",
    "print(data.head(10))"
   ]
  },
  {
   "cell_type": "markdown",
   "id": "ad4c01dd-f442-4f97-b39f-29c273172d3e",
   "metadata": {
    "tags": []
   },
   "source": [
    "##### Code explanation: \n",
    "\n",
    "First, we load our dataset from the CSV file. To do that, we assign the name of our dataset 'diabetes_prediction_dataset.csv' to the variable 'file_path'. Then, we read our CSV file (file_path variable) by using the read_csv function from the pandas library and return it as a DataFrame that we assign to our 'data' variable. Finally, we display the first 10 rows of our DataFrame 'data' using the head method. "
   ]
  },
  {
   "cell_type": "markdown",
   "id": "22548ff4-0643-4572-9201-cc0b3a2ec1e2",
   "metadata": {},
   "source": [
    "Then, we thought it would be beneficial to generate a summary of our dataset to enhance our understanding. Indeed, this summary provides insights into the data distribution, central tendency, variability, and the types and structures of the data. Such insights allow us to grasp the overall behavior and spread of the dataset, helping us in the selection of appropriate analysis techniques and models. Additionally, this step allows us to identify outliers, assess the presence and extent of missing values for data cleaning and preprocessing, and detect any inconsistencies. "
   ]
  },
  {
   "cell_type": "code",
   "execution_count": 3,
   "id": "c9b4bbf2-6098-44c0-ad7d-9a02dbbbd5e2",
   "metadata": {
    "tags": []
   },
   "outputs": [
    {
     "name": "stdout",
     "output_type": "stream",
     "text": [
      "\n",
      "Summary of the dataset:\n",
      "<class 'pandas.core.frame.DataFrame'>\n",
      "RangeIndex: 100000 entries, 0 to 99999\n",
      "Data columns (total 9 columns):\n",
      " #   Column               Non-Null Count   Dtype  \n",
      "---  ------               --------------   -----  \n",
      " 0   gender               100000 non-null  object \n",
      " 1   age                  100000 non-null  float64\n",
      " 2   hypertension         100000 non-null  int64  \n",
      " 3   heart_disease        100000 non-null  int64  \n",
      " 4   smoking_history      100000 non-null  object \n",
      " 5   bmi                  100000 non-null  float64\n",
      " 6   HbA1c_level          100000 non-null  float64\n",
      " 7   blood_glucose_level  100000 non-null  int64  \n",
      " 8   diabetes             100000 non-null  int64  \n",
      "dtypes: float64(3), int64(4), object(2)\n",
      "memory usage: 6.9+ MB\n",
      "None\n",
      "\n",
      "Descriptive statistics of the dataset:\n",
      "                 age  hypertension  heart_disease            bmi  \\\n",
      "count  100000.000000  100000.00000  100000.000000  100000.000000   \n",
      "mean       41.885856       0.07485       0.039420      27.320767   \n",
      "std        22.516840       0.26315       0.194593       6.636783   \n",
      "min         0.080000       0.00000       0.000000      10.010000   \n",
      "25%        24.000000       0.00000       0.000000      23.630000   \n",
      "50%        43.000000       0.00000       0.000000      27.320000   \n",
      "75%        60.000000       0.00000       0.000000      29.580000   \n",
      "max        80.000000       1.00000       1.000000      95.690000   \n",
      "\n",
      "         HbA1c_level  blood_glucose_level       diabetes  \n",
      "count  100000.000000        100000.000000  100000.000000  \n",
      "mean        5.527507           138.058060       0.085000  \n",
      "std         1.070672            40.708136       0.278883  \n",
      "min         3.500000            80.000000       0.000000  \n",
      "25%         4.800000           100.000000       0.000000  \n",
      "50%         5.800000           140.000000       0.000000  \n",
      "75%         6.200000           159.000000       0.000000  \n",
      "max         9.000000           300.000000       1.000000  \n"
     ]
    },
    {
     "data": {
      "text/html": [
       "<div>\n",
       "<style scoped>\n",
       "    .dataframe tbody tr th:only-of-type {\n",
       "        vertical-align: middle;\n",
       "    }\n",
       "\n",
       "    .dataframe tbody tr th {\n",
       "        vertical-align: top;\n",
       "    }\n",
       "\n",
       "    .dataframe thead th {\n",
       "        text-align: right;\n",
       "    }\n",
       "</style>\n",
       "<table border=\"1\" class=\"dataframe\">\n",
       "  <thead>\n",
       "    <tr style=\"text-align: right;\">\n",
       "      <th></th>\n",
       "      <th>gender</th>\n",
       "      <th>age</th>\n",
       "      <th>hypertension</th>\n",
       "      <th>heart_disease</th>\n",
       "      <th>smoking_history</th>\n",
       "      <th>bmi</th>\n",
       "      <th>HbA1c_level</th>\n",
       "      <th>blood_glucose_level</th>\n",
       "      <th>diabetes</th>\n",
       "    </tr>\n",
       "  </thead>\n",
       "  <tbody>\n",
       "    <tr>\n",
       "      <th>0</th>\n",
       "      <td>Female</td>\n",
       "      <td>80.0</td>\n",
       "      <td>0</td>\n",
       "      <td>1</td>\n",
       "      <td>never</td>\n",
       "      <td>25.19</td>\n",
       "      <td>6.6</td>\n",
       "      <td>140</td>\n",
       "      <td>0</td>\n",
       "    </tr>\n",
       "    <tr>\n",
       "      <th>1</th>\n",
       "      <td>Female</td>\n",
       "      <td>54.0</td>\n",
       "      <td>0</td>\n",
       "      <td>0</td>\n",
       "      <td>No Info</td>\n",
       "      <td>27.32</td>\n",
       "      <td>6.6</td>\n",
       "      <td>80</td>\n",
       "      <td>0</td>\n",
       "    </tr>\n",
       "    <tr>\n",
       "      <th>2</th>\n",
       "      <td>Male</td>\n",
       "      <td>28.0</td>\n",
       "      <td>0</td>\n",
       "      <td>0</td>\n",
       "      <td>never</td>\n",
       "      <td>27.32</td>\n",
       "      <td>5.7</td>\n",
       "      <td>158</td>\n",
       "      <td>0</td>\n",
       "    </tr>\n",
       "    <tr>\n",
       "      <th>3</th>\n",
       "      <td>Female</td>\n",
       "      <td>36.0</td>\n",
       "      <td>0</td>\n",
       "      <td>0</td>\n",
       "      <td>current</td>\n",
       "      <td>23.45</td>\n",
       "      <td>5.0</td>\n",
       "      <td>155</td>\n",
       "      <td>0</td>\n",
       "    </tr>\n",
       "    <tr>\n",
       "      <th>4</th>\n",
       "      <td>Male</td>\n",
       "      <td>76.0</td>\n",
       "      <td>1</td>\n",
       "      <td>1</td>\n",
       "      <td>current</td>\n",
       "      <td>20.14</td>\n",
       "      <td>4.8</td>\n",
       "      <td>155</td>\n",
       "      <td>0</td>\n",
       "    </tr>\n",
       "    <tr>\n",
       "      <th>5</th>\n",
       "      <td>Female</td>\n",
       "      <td>20.0</td>\n",
       "      <td>0</td>\n",
       "      <td>0</td>\n",
       "      <td>never</td>\n",
       "      <td>27.32</td>\n",
       "      <td>6.6</td>\n",
       "      <td>85</td>\n",
       "      <td>0</td>\n",
       "    </tr>\n",
       "    <tr>\n",
       "      <th>6</th>\n",
       "      <td>Female</td>\n",
       "      <td>44.0</td>\n",
       "      <td>0</td>\n",
       "      <td>0</td>\n",
       "      <td>never</td>\n",
       "      <td>19.31</td>\n",
       "      <td>6.5</td>\n",
       "      <td>200</td>\n",
       "      <td>1</td>\n",
       "    </tr>\n",
       "    <tr>\n",
       "      <th>7</th>\n",
       "      <td>Female</td>\n",
       "      <td>79.0</td>\n",
       "      <td>0</td>\n",
       "      <td>0</td>\n",
       "      <td>No Info</td>\n",
       "      <td>23.86</td>\n",
       "      <td>5.7</td>\n",
       "      <td>85</td>\n",
       "      <td>0</td>\n",
       "    </tr>\n",
       "    <tr>\n",
       "      <th>8</th>\n",
       "      <td>Male</td>\n",
       "      <td>42.0</td>\n",
       "      <td>0</td>\n",
       "      <td>0</td>\n",
       "      <td>never</td>\n",
       "      <td>33.64</td>\n",
       "      <td>4.8</td>\n",
       "      <td>145</td>\n",
       "      <td>0</td>\n",
       "    </tr>\n",
       "    <tr>\n",
       "      <th>9</th>\n",
       "      <td>Female</td>\n",
       "      <td>32.0</td>\n",
       "      <td>0</td>\n",
       "      <td>0</td>\n",
       "      <td>never</td>\n",
       "      <td>27.32</td>\n",
       "      <td>5.0</td>\n",
       "      <td>100</td>\n",
       "      <td>0</td>\n",
       "    </tr>\n",
       "  </tbody>\n",
       "</table>\n",
       "</div>"
      ],
      "text/plain": [
       "   gender   age  hypertension  heart_disease smoking_history    bmi  \\\n",
       "0  Female  80.0             0              1           never  25.19   \n",
       "1  Female  54.0             0              0         No Info  27.32   \n",
       "2    Male  28.0             0              0           never  27.32   \n",
       "3  Female  36.0             0              0         current  23.45   \n",
       "4    Male  76.0             1              1         current  20.14   \n",
       "5  Female  20.0             0              0           never  27.32   \n",
       "6  Female  44.0             0              0           never  19.31   \n",
       "7  Female  79.0             0              0         No Info  23.86   \n",
       "8    Male  42.0             0              0           never  33.64   \n",
       "9  Female  32.0             0              0           never  27.32   \n",
       "\n",
       "   HbA1c_level  blood_glucose_level  diabetes  \n",
       "0          6.6                  140         0  \n",
       "1          6.6                   80         0  \n",
       "2          5.7                  158         0  \n",
       "3          5.0                  155         0  \n",
       "4          4.8                  155         0  \n",
       "5          6.6                   85         0  \n",
       "6          6.5                  200         1  \n",
       "7          5.7                   85         0  \n",
       "8          4.8                  145         0  \n",
       "9          5.0                  100         0  "
      ]
     },
     "execution_count": 3,
     "metadata": {},
     "output_type": "execute_result"
    }
   ],
   "source": [
    "#We generate a summary of our dataset\n",
    "print(\"\\nSummary of the dataset:\")\n",
    "print(data.info())\n",
    "\n",
    "#As well as a descriptive statistics \n",
    "print(\"\\nDescriptive statistics of the dataset:\")\n",
    "print(data.describe())\n",
    "\n",
    "#Finally, we display the first few rows\n",
    "data.head(10)"
   ]
  },
  {
   "cell_type": "markdown",
   "id": "bf383909-dad4-45a5-920f-3c6c6f76be44",
   "metadata": {},
   "source": [
    "##### Code explanation: \n",
    "\n",
    "We first generate a summary of our dataset to understand the structure and completeness of our data. To do that, we use the info() method to provide a concise summary of the DataFrame, including information about the number of non-null entries in each column, the data type of each column, and the memory usage of the DataFrame. Then, we generate descriptive statistics to provide an overview of the central tendency, dispersion, and shape of the data distribution. To do that, we use the describe() method to generate descriptive statistics for the numerical columns of our DataFrame which include metrics such as count, mean, standard deviation, minimum, maximum, and the 25th, 50th (median), and 75th percentiles. Finally, we display the first 10 rows of our dataset. \n"
   ]
  },
  {
   "cell_type": "markdown",
   "id": "ea30b795-9ef2-4245-9cc1-6235a7b8a92b",
   "metadata": {},
   "source": [
    "Now, we want to inspect our data for missing values and inconsistencies. To do that, we first examine the unique values in each columns to identify any inconsistencies."
   ]
  },
  {
   "cell_type": "code",
   "execution_count": 4,
   "id": "23c6e6fb-a4cf-4dcd-b450-2a0cbcbf1f54",
   "metadata": {
    "tags": []
   },
   "outputs": [
    {
     "name": "stdout",
     "output_type": "stream",
     "text": [
      "\n",
      "Unique values in each column:\n",
      "gender: ['Female' 'Male' 'Other']\n",
      "age: [80. 54. 28. 36. 76. 20. 44. 79. 42. 32.]...\n",
      "hypertension: [0 1]\n",
      "heart_disease: [1 0]\n",
      "smoking_history: ['never' 'No Info' 'current' 'former' 'ever' 'not current']\n",
      "bmi: [25.19 27.32 23.45 20.14 19.31 23.86 33.64 54.7  36.05 25.69]...\n",
      "HbA1c_level: [6.6 5.7 5.  4.8 6.5 6.1 6.  5.8 3.5 6.2]...\n",
      "blood_glucose_level: [140  80 158 155  85 200 145 100 130 160]...\n",
      "diabetes: [0 1]\n"
     ]
    }
   ],
   "source": [
    "#We first inspect the unique values in each column\n",
    "print(\"\\nUnique values in each column:\")\n",
    "for column in data.columns:\n",
    "    unique_values = data[column].unique()\n",
    "    print(f\"{column}: {unique_values[:10]}{'...' if len(unique_values) > 10 else ''}\")"
   ]
  },
  {
   "cell_type": "markdown",
   "id": "bf46c396-21b2-4d85-a721-02a73637ae87",
   "metadata": {},
   "source": [
    "##### Code explanation: \n",
    "\n",
    "The above code inspects and prints the unique values in each column of our DataFrame. To do that, it iterates through each column in our 'data' DataFrame, using the unique() method to  obtain an array of unique values present in that column. For clarity, it displays the first 10 unique values for each column and appends an ellipsis (...) if there are more than 10 unique values."
   ]
  },
  {
   "cell_type": "markdown",
   "id": "36f024ae-373a-447a-be70-92ca451cd043",
   "metadata": {},
   "source": [
    "Then we want to check the presence of any missing values in the dataset."
   ]
  },
  {
   "cell_type": "code",
   "execution_count": 5,
   "id": "e7de5665-2df3-4ef8-ac94-a843c709d76d",
   "metadata": {
    "tags": []
   },
   "outputs": [
    {
     "name": "stdout",
     "output_type": "stream",
     "text": [
      "\n",
      "Missing values in the dataset:\n",
      "gender                 0\n",
      "age                    0\n",
      "hypertension           0\n",
      "heart_disease          0\n",
      "smoking_history        0\n",
      "bmi                    0\n",
      "HbA1c_level            0\n",
      "blood_glucose_level    0\n",
      "diabetes               0\n",
      "dtype: int64\n"
     ]
    }
   ],
   "source": [
    "#Then we check for missing values\n",
    "print(\"\\nMissing values in the dataset:\")\n",
    "print(data.isnull().sum())"
   ]
  },
  {
   "cell_type": "markdown",
   "id": "e264116c-67a1-476d-b0c0-d49eb60fab0c",
   "metadata": {},
   "source": [
    "##### Code explanation: \n",
    "\n",
    "The above code identify and display the number of missing values in each column of our 'data' DataFrame. By using the isnull() method to create a boolean DataFrame where each element is True if the corresponding element in data is missing, and False otherwise. Then, it applies the sum() method across columns to count the number of missing values in each column."
   ]
  },
  {
   "cell_type": "markdown",
   "id": "10ebc3a0-790e-4f98-8ea2-06d81f9bf82c",
   "metadata": {},
   "source": [
    "We noticed that our 'data' DataFrame contains no missing values. However, it contains a mix of numerical and non-numerical data. To ensure consistent handling of our data, we plan to convert all non-numerical data into numerical equivalents. Therefore:\n",
    "\n",
    "- 'Female' will be labeled as 1.\n",
    "- 'Male' will be labeled as 2.\n",
    "- 'Other' will be labeled as 0.\n",
    "- 'Never' and 'Ever' will both be converted to 0.\n",
    "- 'No Info' will be represented as -1.\n",
    "- 'Current' will be assigned the value 1.\n",
    "- 'Former' and 'Not Current' will both be represented as 2.\n"
   ]
  },
  {
   "cell_type": "code",
   "execution_count": 6,
   "id": "3489a2ec-2f4b-4f96-a0dc-5c546e8b4129",
   "metadata": {
    "tags": []
   },
   "outputs": [
    {
     "name": "stdout",
     "output_type": "stream",
     "text": [
      "       gender   age  hypertension  heart_disease  smoking_history    bmi  \\\n",
      "0           1  80.0             0              1                0  25.19   \n",
      "1           1  54.0             0              0               -1  27.32   \n",
      "2           2  28.0             0              0                0  27.32   \n",
      "3           1  36.0             0              0                1  23.45   \n",
      "4           2  76.0             1              1                1  20.14   \n",
      "...       ...   ...           ...            ...              ...    ...   \n",
      "99995       1  80.0             0              0               -1  27.32   \n",
      "99996       1   2.0             0              0               -1  17.37   \n",
      "99997       2  66.0             0              0                2  27.83   \n",
      "99998       1  24.0             0              0                0  35.42   \n",
      "99999       1  57.0             0              0                1  22.43   \n",
      "\n",
      "       HbA1c_level  blood_glucose_level  diabetes  \n",
      "0              6.6                  140         0  \n",
      "1              6.6                   80         0  \n",
      "2              5.7                  158         0  \n",
      "3              5.0                  155         0  \n",
      "4              4.8                  155         0  \n",
      "...            ...                  ...       ...  \n",
      "99995          6.2                   90         0  \n",
      "99996          6.5                  100         0  \n",
      "99997          5.7                  155         0  \n",
      "99998          4.0                  100         0  \n",
      "99999          6.6                   90         0  \n",
      "\n",
      "[100000 rows x 9 columns]\n"
     ]
    },
    {
     "name": "stderr",
     "output_type": "stream",
     "text": [
      "/var/folders/b7/xhsvblhn5h94lxqtrtnvnw1w0000gn/T/ipykernel_66777/377412979.py:2: FutureWarning: Downcasting behavior in `replace` is deprecated and will be removed in a future version. To retain the old behavior, explicitly call `result.infer_objects(copy=False)`. To opt-in to the future behavior, set `pd.set_option('future.no_silent_downcasting', True)`\n",
      "  data['gender'] = data['gender'].replace({'Female': 1, 'Male': 2, 'Other': 0})\n",
      "/var/folders/b7/xhsvblhn5h94lxqtrtnvnw1w0000gn/T/ipykernel_66777/377412979.py:6: FutureWarning: Downcasting behavior in `replace` is deprecated and will be removed in a future version. To retain the old behavior, explicitly call `result.infer_objects(copy=False)`. To opt-in to the future behavior, set `pd.set_option('future.no_silent_downcasting', True)`\n",
      "  data['smoking_history'] = data['smoking_history'].replace({'never': 0, 'ever': 0, 'current' : 1, 'former': 2, 'not current': 2, 'No Info': -1})\n"
     ]
    }
   ],
   "source": [
    "#We first convert 'Female' to 1, 'Male' to 2 and 'Other' to 0\n",
    "data['gender'] = data['gender'].replace({'Female': 1, 'Male': 2, 'Other': 0})\n",
    "\n",
    "\n",
    "#Then, we convert 'never' and 'ever' to 0, 'current' to 1, 'former' and 'not current' to 2 and 'No Info' to -1.\n",
    "data['smoking_history'] = data['smoking_history'].replace({'never': 0, 'ever': 0, 'current' : 1, 'former': 2, 'not current': 2, 'No Info': -1})\n",
    "\n",
    "\n",
    "#Finally, we display our updated DataFrame\n",
    "print(data)"
   ]
  },
  {
   "cell_type": "markdown",
   "id": "e92eaee2-a86b-4796-ab9c-54abb36216e3",
   "metadata": {},
   "source": [
    "##### Code explanation: \n",
    "\n",
    "As mentioned previously, the code above converts values in the 'gender' column:\n",
    "- 'Female' becomes 1,\n",
    "- 'Male' becomes 2,\n",
    "- 'Other' becomes 0.\n",
    "\n",
    "Similarly, in the 'smoking_history' column:\n",
    "- 'never' and 'ever' are both assigned 0,\n",
    "- 'current' is assigned 1,\n",
    "- 'former' and 'not current' are both assigned 2,\n",
    "- 'No Info' is represented as NaN using -1."
   ]
  },
  {
   "cell_type": "markdown",
   "id": "b0db18e6-953e-4555-ba08-282eab2742e6",
   "metadata": {},
   "source": [
    "We now want to ensure that all our columns are numerical. Therefore, we will check their data types. "
   ]
  },
  {
   "cell_type": "code",
   "execution_count": 7,
   "id": "fa32136d-626c-4ee2-8a50-7f29cce6cdfb",
   "metadata": {
    "tags": []
   },
   "outputs": [
    {
     "name": "stdout",
     "output_type": "stream",
     "text": [
      "Data types of columns:\n",
      "gender                   int64\n",
      "age                    float64\n",
      "hypertension             int64\n",
      "heart_disease            int64\n",
      "smoking_history          int64\n",
      "bmi                    float64\n",
      "HbA1c_level            float64\n",
      "blood_glucose_level      int64\n",
      "diabetes                 int64\n",
      "dtype: object\n"
     ]
    }
   ],
   "source": [
    "#We check our columns data types\n",
    "print(\"Data types of columns:\")\n",
    "print(data.dtypes)"
   ]
  },
  {
   "cell_type": "markdown",
   "id": "0d653977-6263-48b5-a0bc-d1d2cd10028b",
   "metadata": {},
   "source": [
    "##### Code explanation: \n",
    "\n",
    "The above code uses the dtypes attribute of our 'data' DataFrame to return a Series containing the data type of each column. We notice that all our columns have numerical data (int64 and float64)."
   ]
  },
  {
   "cell_type": "markdown",
   "id": "ea183b13-4a7d-4a71-ab48-c54914bcfe44",
   "metadata": {},
   "source": [
    "Now that our data is preprocessed and cleaned, we will split it into training (70%) and testing (25%) sets. The remaining 5% will be our deployment dataset, which we will use to run our model on unseen data to validate its predictions."
   ]
  },
  {
   "cell_type": "code",
   "execution_count": 8,
   "id": "4647dfc2-22fe-446f-8eb0-5674c082a9e8",
   "metadata": {
    "tags": []
   },
   "outputs": [
    {
     "name": "stdout",
     "output_type": "stream",
     "text": [
      "\n",
      "Shapes of the datasets:\n",
      "X_train: (70000, 8)\n",
      "X_test: (25000, 8)\n",
      "X_deploy: (5000, 8)\n",
      "y_train: (70000,)\n",
      "y_test: (25000,)\n",
      "y_deploy: (5000,)\n"
     ]
    }
   ],
   "source": [
    "#We first define our target column\n",
    "target_column = 'diabetes' \n",
    "X = data.drop(target_column, axis=1)\n",
    "y = data[target_column]\n",
    "\n",
    "#Then, we split our data into training (70%) and remaining (30%, testing + deployment)\n",
    "X_train, X_remaining, y_train, y_remaining = train_test_split(X, y, test_size=0.30, random_state=42)\n",
    "\n",
    "#Then, we split the remaining 30% into 25% testing and 5% deployment\n",
    "X_test, X_deploy, y_test, y_deploy = train_test_split(X_remaining, y_remaining, test_size=(5/30), random_state=42)\n",
    "\n",
    "#Finally, we display the shapes of the resulting datasets\n",
    "print(\"\\nShapes of the datasets:\")\n",
    "print(f\"X_train: {X_train.shape}\")\n",
    "print(f\"X_test: {X_test.shape}\")\n",
    "print(f\"X_deploy: {X_deploy.shape}\")\n",
    "print(f\"y_train: {y_train.shape}\")\n",
    "print(f\"y_test: {y_test.shape}\")\n",
    "print(f\"y_deploy: {y_deploy.shape}\")\n"
   ]
  },
  {
   "cell_type": "markdown",
   "id": "4a8183f9-fc9e-42b0-9563-d5a004855a99",
   "metadata": {},
   "source": [
    "##### Code explanation: \n",
    "\n",
    "The above code aims to prepare our preprocessed and cleaned dataset into three distinct subsets: training, testing, and deployment datasets for Machine Learning tasks. It begins by defining the target variable, 'diabetes', which is what we aim to predict. The dataset is then split into features (X) obtained by dropping the 'diabetes' column from the original dataset (data) and the target (y) which retains only the 'diabetes' column. Using the train_test_split function, the data is initially divided into 70% for training (X_train and y_train) and 30% as remaining data (X_remaining and y_remaining).Then, the remaining 30% is then further split into approximately 25% for testing (X_test, y_test) and 5% for deployment (X_deploy, y_deploy). This is done to ensure that the training set is used to train the model, the testing set is used to evaluate the model's performance, and the deployment set is reserved for validating the model's predictions on unseen data. Finally, our code prints out the shapes of the resulting datasets to confirm the number of samples and features in each set, which is crucial for understanding the data distribution across training, testing and deployment phases of model development."
   ]
  },
  {
   "cell_type": "code",
   "execution_count": 9,
   "id": "60faf2ac-3b05-43e3-a274-e6dc7f913c52",
   "metadata": {
    "tags": []
   },
   "outputs": [
    {
     "name": "stdout",
     "output_type": "stream",
     "text": [
      "Train Data:\n",
      "Size: 70000\n",
      "       gender   age  hypertension  heart_disease  smoking_history    bmi  \\\n",
      "76513       2  49.0             0              0                0  27.32   \n",
      "60406       2  64.0             0              0                0  27.32   \n",
      "27322       1  24.0             0              0                1  27.32   \n",
      "53699       1  55.0             0              0                1  27.32   \n",
      "65412       2  14.0             0              0               -1  20.98   \n",
      "\n",
      "       HbA1c_level  blood_glucose_level  diabetes  \n",
      "76513          5.0                  155         0  \n",
      "60406          3.5                  145         0  \n",
      "27322          3.5                  130         0  \n",
      "53699          6.5                  159         0  \n",
      "65412          6.2                   85         0  \n"
     ]
    }
   ],
   "source": [
    "#We print the first few rows and size of our train_data (X_train and y_train)\n",
    "train_data = pd.concat([X_train, y_train], axis=1)\n",
    "print(\"Train Data:\")\n",
    "print(\"Size:\", len(train_data))\n",
    "print(train_data.head())"
   ]
  },
  {
   "cell_type": "markdown",
   "id": "73024b25-8d31-4621-8409-3b01667e0178",
   "metadata": {},
   "source": [
    "##### Code explanation: \n",
    "\n",
    "The above code is used to inspect our training data after splitting the dataset. Firtly, it combines the feature set (X_train) and the target set (y_train) into a single DataFrame called train_data using the pd.concat function along the columns axis (axis=1). This provides a complete view of the training data, including both the features and the target variable. Then it prints the size of the train_data DataFrame, indicating the number of samples it contains, followed by the first few rows of this combined DataFrame using the head() function. "
   ]
  },
  {
   "cell_type": "code",
   "execution_count": 10,
   "id": "84d9487d-af87-4946-8275-fb04bfc31f0c",
   "metadata": {
    "tags": []
   },
   "outputs": [
    {
     "name": "stdout",
     "output_type": "stream",
     "text": [
      "Test Data:\n",
      "Size: 25000\n",
      "       gender   age  hypertension  heart_disease  smoking_history    bmi  \\\n",
      "82923       2  69.0             0              1                0  43.57   \n",
      "9242        1  28.0             0              0                1  16.34   \n",
      "52911       2  19.0             0              0               -1  24.41   \n",
      "38094       2  36.0             0              0                2  28.31   \n",
      "70633       2  49.0             0              0                1  27.32   \n",
      "\n",
      "       HbA1c_level  blood_glucose_level  diabetes  \n",
      "82923          7.0                  240         1  \n",
      "9242           4.5                  126         0  \n",
      "52911          3.5                  145         0  \n",
      "38094          5.0                  158         0  \n",
      "70633          4.0                  100         0  \n"
     ]
    }
   ],
   "source": [
    "#Then, we print the first few rows and size of our test_data (X_test and y_test)\n",
    "test_data = pd.concat([X_test, y_test], axis=1)\n",
    "print(\"Test Data:\")\n",
    "print(\"Size:\", len(test_data))\n",
    "print(test_data.head())"
   ]
  },
  {
   "cell_type": "markdown",
   "id": "40eb35d6-2914-46b3-994a-07f2fff7b609",
   "metadata": {},
   "source": [
    "##### Code explanation: \n",
    "\n",
    "The above code is used to inspect our testing data after splitting the dataset. Firtly, it combines the feature set (X_test) and the target set (y_test) into a single DataFrame called test_data using the pd.concat function along the columns axis (axis=1). This provides a complete view of the testing data, including both the features and the target variable. Then it prints the size of the test_data DataFrame, indicating the number of samples it contains, followed by the first few rows of this combined DataFrame using the head() function. "
   ]
  },
  {
   "cell_type": "code",
   "execution_count": 11,
   "id": "dfb7ac4f-0a40-4a04-9b3a-550d5cd97279",
   "metadata": {
    "tags": []
   },
   "outputs": [
    {
     "name": "stdout",
     "output_type": "stream",
     "text": [
      "Deploy Data:\n",
      "Size: 5000\n",
      "       gender   age  hypertension  heart_disease  smoking_history    bmi  \\\n",
      "81410       2   7.0             0              0                0  23.40   \n",
      "71182       1  46.0             0              0                0  37.73   \n",
      "44102       1  49.0             0              0               -1  21.76   \n",
      "69451       1  80.0             0              1                0  16.10   \n",
      "78508       2  66.0             0              0                2  29.70   \n",
      "\n",
      "       HbA1c_level  blood_glucose_level  diabetes  \n",
      "81410          6.0                  126         0  \n",
      "71182          5.7                  140         0  \n",
      "44102          6.2                  126         0  \n",
      "69451          5.8                  159         0  \n",
      "78508          6.5                  200         0  \n"
     ]
    }
   ],
   "source": [
    "#Finally, we print the first few rows and size of our deploy_data (X_deploy and y_deploy)\n",
    "deploy_data = pd.concat([X_deploy, y_deploy], axis=1)\n",
    "print(\"Deploy Data:\")\n",
    "print(\"Size:\", len(deploy_data))\n",
    "print(deploy_data.head())"
   ]
  },
  {
   "cell_type": "markdown",
   "id": "4e058796-d0f0-4d92-a99d-c9e629172207",
   "metadata": {},
   "source": [
    "##### Code explanation:¶\n",
    "\n",
    "The above code is used to inspect our deploy data after splitting the dataset. Firtly, it combines the feature set (X_deploy) and the target set (y_deploy) into a single DataFrame called deploy_data using the pd.concat function along the columns axis (axis=1). This provides a complete view of the deploy data, including both the features and the target variable. Then it prints the size of the deploy_data DataFrame, indicating the number of samples it contains, followed by the first few rows of this combined DataFrame using the head() function. Please note that our deployment dataset will be used at the end of the model training process."
   ]
  },
  {
   "cell_type": "markdown",
   "id": "87d4929a-af01-4a1f-a101-7972f7bb156a",
   "metadata": {},
   "source": [
    "Then, we thought it would be great to identify and visualize how many people have diabetes in our training and testing datasets. "
   ]
  },
  {
   "cell_type": "code",
   "execution_count": 12,
   "id": "8ff65921-dbb2-48bd-bf76-caa1c2f379d2",
   "metadata": {
    "tags": []
   },
   "outputs": [
    {
     "name": "stdout",
     "output_type": "stream",
     "text": [
      "Training Data:\n",
      "Number of positive cases (diabetes = 1): 5953\n",
      "Number of negative cases (diabetes = 0): 64047\n"
     ]
    },
    {
     "data": {
      "image/png": "[encoded data removed]",
      "text/plain": [
       "<Figure size 1000x500 with 1 Axes>"
      ]
     },
     "metadata": {},
     "output_type": "display_data"
    }
   ],
   "source": [
    "#We first count positive and negative cases in our training data\n",
    "train_positive_count = (train_data['diabetes'] == 1).sum()\n",
    "train_negative_count = (train_data['diabetes'] == 0).sum()\n",
    "\n",
    "#Then, we print results for our training data\n",
    "print(\"Training Data:\")\n",
    "print(f\"Number of positive cases (diabetes = 1): {train_positive_count}\")\n",
    "print(f\"Number of negative cases (diabetes = 0): {train_negative_count}\")\n",
    "\n",
    "#Finally, we plot bar graphs to visualize our training data distribution\n",
    "fig, (ax) = plt.subplots(figsize=(10, 5))\n",
    "\n",
    "ax.bar(['Positive', 'Negative'], [train_positive_count, train_negative_count], color=['green', 'red'])\n",
    "ax.set_title('Training Data')\n",
    "ax.set_ylabel('Count')\n",
    "\n",
    "plt.tight_layout()\n",
    "plt.show()"
   ]
  },
  {
   "cell_type": "markdown",
   "id": "fdd8c249-5a11-4d08-9d56-9cbfe437f921",
   "metadata": {},
   "source": [
    "##### Code explanation: \n",
    "\n",
    "The above code counts and visualizes the distribution of positive and negative cases in the training data for diabetes. Initially, it calculates and prints the number of positive (diabetes = 1) and negative (diabetes = 0) cases in the train_data DataFrame using the sum() method. Then, it creates a bar plot to visualize the distribution of positive and negative cases. The plt.subplots function initializes a figure and an axe object with a specified size, and the ax.bar method is used to create a bar chart with 'Positive' and 'Negative' labels on the x-axis and their corresponding counts on the y-axis, using green for positive cases and red for negative cases. Finally, we generate a title 'Training Data' and label the y-axis 'Count'. Please note that the plt.tight_layout function adjusts the layout to prevent overlapping elements, while plt.show() displays the plot.\n"
   ]
  },
  {
   "cell_type": "markdown",
   "id": "1df7d4c8-020e-461a-99b4-083b3cd24706",
   "metadata": {},
   "source": [
    "We now do the same for our testing dataset."
   ]
  },
  {
   "cell_type": "code",
   "execution_count": 13,
   "id": "cb922db9-de88-4992-9d42-e2e5d4b3be69",
   "metadata": {
    "tags": []
   },
   "outputs": [
    {
     "name": "stdout",
     "output_type": "stream",
     "text": [
      "\n",
      "Testing Data:\n",
      "Number of positive cases (diabetes = 1): 2085\n",
      "Number of negative cases (diabetes = 0): 22915\n"
     ]
    },
    {
     "data": {
      "image/png": "[encoded data removed]",
      "text/plain": [
       "<Figure size 1000x500 with 1 Axes>"
      ]
     },
     "metadata": {},
     "output_type": "display_data"
    }
   ],
   "source": [
    "#We first count positive and negative cases in our testing data\n",
    "test_positive_count = (test_data['diabetes'] == 1).sum()\n",
    "test_negative_count = (test_data['diabetes'] == 0).sum()\n",
    "                                                          \n",
    "#Then, we print results for our testing data\n",
    "print(\"\\nTesting Data:\")\n",
    "print(f\"Number of positive cases (diabetes = 1): {test_positive_count}\")\n",
    "print(f\"Number of negative cases (diabetes = 0): {test_negative_count}\")\n",
    "\n",
    "#Finally, we plot bar graphs to visualize our testing data distribution\n",
    "fig, (ax) = plt.subplots(figsize=(10, 5))\n",
    "\n",
    "ax.bar(['Positive', 'Negative'], [test_positive_count, test_negative_count], color=['green', 'red'])\n",
    "ax.set_title('Testing Data')\n",
    "ax.set_ylabel('Count')\n",
    "\n",
    "plt.tight_layout()\n",
    "plt.show()"
   ]
  },
  {
   "cell_type": "markdown",
   "id": "9061f6df-3f2b-4e09-b9bc-41da6b6a9f83",
   "metadata": {},
   "source": [
    "##### Code explanation: \n",
    "\n",
    "The above code counts and visualizes the distribution of positive and negative cases in the testing data for diabetes. Initially, it calculates and prints the number of positive (diabetes = 1) and negative (diabetes = 0) cases in the test_data DataFrame using the sum() method. Then, it creates a bar plot to visualize the distribution of positive and negative cases. The plt.subplots function initializes a figure and an axe object with a specified size, and the ax.bar method is used to create a bar chart with 'Positive' and 'Negative' labels on the x-axis and their corresponding counts on the y-axis, using green for positive cases and red for negative cases. Finally, we generate a title 'Testing Data' and label the y-axis 'Count'. Please note that the plt.tight_layout function adjusts the layout to prevent overlapping elements, while plt.show() displays the plot.\n"
   ]
  },
  {
   "cell_type": "markdown",
   "id": "0e7285f3-224d-4ccf-a4fd-7fa229ced622",
   "metadata": {},
   "source": [
    "Following the above, we thought it would be great to check for any data imbalances. Indeed, this is crucial as it ensures that ML models perform well across all classes, avoiding bias towards the majority class and providing more accurate and reliable predictions. This is extremely important in applications like medical diagnosis, where the minority class holds significant importance. "
   ]
  },
  {
   "cell_type": "code",
   "execution_count": 14,
   "id": "8cb7ae8f-e0c1-452b-bed3-33ca64711763",
   "metadata": {
    "tags": []
   },
   "outputs": [
    {
     "name": "stdout",
     "output_type": "stream",
     "text": [
      "Training Data:\n",
      "Positive Entries: 5953\n",
      "Negative Entries: 64047\n",
      "Difference: 58094\n",
      "\n",
      "Test Data:\n",
      "Positive Entries: 2085\n",
      "Negative Entries: 22915\n",
      "Difference: 20830\n"
     ]
    }
   ],
   "source": [
    "#We print the counts of positive and negative entries in the training dataset\n",
    "print(\"Training Data:\")\n",
    "print(\"Positive Entries:\", train_positive_count)\n",
    "print(\"Negative Entries:\", train_negative_count)\n",
    "\n",
    "#And calculate and print the absolute difference between the counts of positive and negative entries in the training dataset\n",
    "print(\"Difference:\", abs(train_positive_count - train_negative_count))\n",
    "\n",
    "#We do the same for the testing dataset\n",
    "print(\"\\nTest Data:\")\n",
    "print(\"Positive Entries:\", test_positive_count)\n",
    "print(\"Negative Entries:\", test_negative_count)\n",
    "\n",
    "print(\"Difference:\", abs(test_positive_count - test_negative_count))\n"
   ]
  },
  {
   "cell_type": "markdown",
   "id": "297238b3-ad3e-492d-aa54-fd332aba8690",
   "metadata": {},
   "source": [
    "##### Code explanation: \n",
    "\n",
    "The above code calculate the counts of positive and negative entries in both the training and development datasets. It assumes that the datasets are already loaded and that the target column contains diabetes labels, with 0 representing no diabetes and 1 representing diabetes. Indeed, we first calculate the number of entries in the training dataset where the target column equals 1, stored in variable train_positive_count. It sums up all the True values resulting from the comparison. Then, we calculate the number of entries in the training dataset where the 'label' column equals 0, stored in train_negative_count variable. We then do the same for testing dataset, where the number of positive entries is stored in test_positive_count variable and the number of negative entries is stored in test_negative_count variables. We finally print the results, along with the absolute difference between the counts for both training and testing dataset."
   ]
  },
  {
   "cell_type": "markdown",
   "id": "ceb70517-7cc1-402d-9678-33a140a49834",
   "metadata": {},
   "source": [
    "Then, we generate a plot to visualize the characteristics of both our dataset before proceeding to our model training. "
   ]
  },
  {
   "cell_type": "code",
   "execution_count": 15,
   "id": "50fac92d-3627-49ae-a6b7-ca94dafeb764",
   "metadata": {
    "tags": []
   },
   "outputs": [
    {
     "data": {
      "image/png": "[encoded data removed]",
      "text/plain": [
       "<Figure size 1000x600 with 1 Axes>"
      ]
     },
     "metadata": {},
     "output_type": "display_data"
    }
   ],
   "source": [
    "#We first define labels for the x-axis categories\n",
    "train_labels = ['Positive', 'Negative']\n",
    "test_labels = ['Positive', 'Negative']\n",
    "\n",
    "#As well as the counts of positive and negative entries in the training and testing datasets\n",
    "train_counts = [train_positive_count, train_negative_count]\n",
    "test_counts = [test_positive_count, test_negative_count]\n",
    "\n",
    "#We then create a figure and axis object for the plot with a specified size\n",
    "fig, ax = plt.subplots(figsize=(10, 6))\n",
    "bar_width = 0.35\n",
    "#And generate an index range for positioning the bars on the x-axis\n",
    "index = range(len(train_labels))\n",
    "\n",
    "#We then plot bars representing counts of positive and negative entries in the training dataset\n",
    "train_bars = ax.bar(index, train_counts, bar_width, label='Train Data')\n",
    "#As well as plot bars representing counts of positive and negative entries in the testing dataset\n",
    "test_bars = ax.bar([i + bar_width for i in index], test_counts, bar_width, label='Test Data')\n",
    "\n",
    "#We set labels for the x-axis and y-axis\n",
    "ax.set_xlabel('Diabetes')\n",
    "ax.set_ylabel('Count')\n",
    "#We set the title of the plot\n",
    "ax.set_title('Figure 3: Counts of Positive and Negative Entries in Train and Test Data')\n",
    "#We set positions and labels for the ticks on the x-axis\n",
    "ax.set_xticks([i + bar_width / 2 for i in index])\n",
    "ax.set_xticklabels(train_labels)\n",
    "#We display the legend indicating the bars representing the training and development datasets\n",
    "ax.legend()\n",
    "\n",
    "#We add counts above bars\n",
    "for bars in [train_bars, test_bars]:\n",
    "    for bar in bars:\n",
    "        height = bar.get_height()\n",
    "        #We add text annotations above each bar to display its count\n",
    "        ax.annotate('{}'.format(height),\n",
    "                    xy=(bar.get_x() + bar.get_width() / 2, height),\n",
    "                    xytext=(0, 3),  \n",
    "                    textcoords=\"offset points\",\n",
    "                    ha='center', va='bottom')\n",
    "\n",
    "#Then adjust subplot parameters to prevent overlapping\n",
    "plt.tight_layout()\n",
    "#Finally we display the plot\n",
    "plt.show()"
   ]
  },
  {
   "cell_type": "markdown",
   "id": "168eac03-fab8-4457-b18b-6c6da043a985",
   "metadata": {},
   "source": [
    "##### Code explanation: \n",
    "\n",
    "The above code generates a bar plot to visualize the counts of positive and negative entries in both the training and testing datasets. To do that, we first give the code train_labels and test_labels lists that contain labels for the x-axis categories, which are 'Positive' and 'Negative' in this case. Then, we provide train_counts and test_counts lists that contain the counts of positive and negative entries in the training and test datasets, respectively. We then create a bar plot positioning the bars on the x-axis and plotting the bars representing the counts of positive and negative entries in the training and testing dataset. Finally, we set labels for the x-axis and y-axis, respectively as well as the title of the plot, and a legend indicating the bars representing the training and testing datasets. We also ask the code to iterate through the bars and adds text annotations above each bar to display its counts. Finally we adjust subplot parameters to prevent overlapping and display the plot."
   ]
  },
  {
   "cell_type": "markdown",
   "id": "a1cabceb-2e96-4e2e-a348-e8c4f942a4c4",
   "metadata": {},
   "source": [
    "Then, we check the distribution of labels in our train dataset then in our test dataset"
   ]
  },
  {
   "cell_type": "code",
   "execution_count": 16,
   "id": "d2763586-572d-4c8d-8e93-9bd34f8e1fa6",
   "metadata": {
    "tags": []
   },
   "outputs": [
    {
     "name": "stdout",
     "output_type": "stream",
     "text": [
      "Train Label Distribution (Percentages):\n",
      "diabetes\n",
      "0    91.495714\n",
      "1     8.504286\n",
      "Name: proportion, dtype: float64\n",
      "\n",
      "Test Label Distribution (Percentages):\n",
      "diabetes\n",
      "0    91.66\n",
      "1     8.34\n",
      "Name: proportion, dtype: float64\n"
     ]
    }
   ],
   "source": [
    "#We calculate the distribution of unique labels in the target column of our training dataset,\n",
    "#and normalize the counts to percentages\n",
    "train_label_distribution = train_data['diabetes'].value_counts(normalize=True) * 100\n",
    "\n",
    "#We do the same for our testing dataset\n",
    "test_label_distribution = test_data['diabetes'].value_counts(normalize=True) * 100\n",
    "\n",
    "#We then print a header indicating the label distribution in our training dataset\n",
    "print(\"Train Label Distribution (Percentages):\")\n",
    "#Then we print the calculated label distribution in our training dataset\n",
    "print(train_label_distribution)\n",
    "\n",
    "#We finally do the same for our development dataset\n",
    "print(\"\\nTest Label Distribution (Percentages):\")\n",
    "print(test_label_distribution)"
   ]
  },
  {
   "cell_type": "markdown",
   "id": "394ebce0-01a0-4184-a7a4-e4ed911eeb6e",
   "metadata": {},
   "source": [
    "##### Code explanation:\n",
    "\n",
    "Our above code aims to analyze the distribution of labels within our training and testing dataset (train_data and test_data, respectively). To do that, we ask the code to calculate the distribution of unique labels in the 'diabetes' column of our training dataset (train_data). By setting normalize=True, the resulting counts are converted into percentages, representing the proportion of each label relative to the total number of instances in the dataset. We then do the same for our testing dataset (test_data). We then ask the code to print a header indicating the output that represtns the label distribution in the training and testing dataset, as well as the calculated label distribution in the dataset respectively. Each unique label is displayed along with its corresponding percentage of occurrences. The \"\\n\" is a newline character, ensuring that there is a blank line between the previous and following outputs."
   ]
  },
  {
   "cell_type": "markdown",
   "id": "688a9f67-8bc9-44bf-9a20-3b40560bb9d2",
   "metadata": {},
   "source": [
    "Then we create a figure with two subplots, each displaying a bar chart of the label distribution for the training and test datasets, respectively, providing a visual comparison of the label proportions between the two datasets."
   ]
  },
  {
   "cell_type": "code",
   "execution_count": 17,
   "id": "171aa093-4551-4b88-be75-a7e359c746d8",
   "metadata": {
    "tags": []
   },
   "outputs": [
    {
     "data": {
      "image/png": "[encoded data removed]",
      "text/plain": [
       "<Figure size 1200x600 with 2 Axes>"
      ]
     },
     "metadata": {},
     "output_type": "display_data"
    }
   ],
   "source": [
    "#We create a figure and subplots layout with 1 row and 2 columns, and specify the figure size\n",
    "fig, ax = plt.subplots(1, 2, figsize=(12, 6))\n",
    "\n",
    "#We plot the label distribution for the training dataset on the first subplot\n",
    "train_label_distribution.plot(kind='bar', ax=ax[0], color='skyblue')\n",
    "#We then set title, x-axis label, y-axis label, and grid for the first subplot\n",
    "ax[0].set_title('Figure 4: Train Label Distribution')\n",
    "ax[0].set_xlabel('Label')\n",
    "ax[0].set_ylabel('Proportion')\n",
    "ax[0].grid(axis='y')\n",
    "\n",
    "#Secondly, we plot the label distribution for the testing dataset on the second subplot\n",
    "test_label_distribution.plot(kind='bar', ax=ax[1], color='lightgreen')\n",
    "#We then set title, x-axis label, y-axis label, and grid for the second subplot\n",
    "ax[1].set_title('Firgure 5: Test Label Distribution')\n",
    "ax[1].set_xlabel('Label')\n",
    "ax[1].set_ylabel('Proportion')\n",
    "ax[1].grid(axis='y')\n",
    "\n",
    "#Finally, we adjust subplot spacing to prevent overlap\n",
    "plt.tight_layout()\n",
    "#And display the plot\n",
    "plt.show()"
   ]
  },
  {
   "cell_type": "markdown",
   "id": "db9c4924-03ea-448f-9e9d-b190b01fa7b1",
   "metadata": {},
   "source": [
    "##### Code explanation:\n",
    "\n",
    "In the above code, we aim to visualize the distributions of label proportions for both the training and testing datasets. We ask the code to provide us with a bar chart of the label distribution for the training dataset on the first subplot (ax[0]), we set a title to it, as well as the label for the x-axis and y-axis of the first subplot. With the \"ax[0].grid(axis='y')\", we ask the code to add gridlines along the y-axis of the first subplot to aid visualization. Then, we do the same for our testing dataset, defined as the second subplot (ax[1]). We finally adjust the spacing between subplots to prevent overlap and display the entire figure containing both subplots."
   ]
  },
  {
   "cell_type": "code",
   "execution_count": 18,
   "id": "ea62a21c-3a69-4339-91dc-e7893bcbde50",
   "metadata": {
    "tags": []
   },
   "outputs": [
    {
     "data": {
      "image/png": "[encoded data removed]",
      "text/plain": [
       "<Figure size 1000x600 with 1 Axes>"
      ]
     },
     "metadata": {},
     "output_type": "display_data"
    }
   ],
   "source": [
    "#We assume that 'diabetes' is the target variable and the rest are features\n",
    "features = data.drop('diabetes', axis=1)\n",
    "target = data['diabetes']\n",
    "\n",
    "#We calculate Pearson correlation coefficients for numerical features\n",
    "numeric_features = features.select_dtypes(include=['int64', 'float64'])\n",
    "correlations = numeric_features.apply(lambda x: x.corr(target))\n",
    "\n",
    "#Finally, we plot these correlations\n",
    "plt.figure(figsize=(10, 6))\n",
    "sns.barplot(x=correlations.index, y=correlations.values)\n",
    "plt.title('Correlation Coefficients (Pearson) with Diabetes')\n",
    "plt.ylabel('Pearson Correlation Coefficient')\n",
    "plt.xticks(rotation=45)\n",
    "plt.tight_layout()\n",
    "plt.show()"
   ]
  },
  {
   "cell_type": "markdown",
   "id": "6cb03a14-85c2-49c1-9d6f-122d96b9b4cc",
   "metadata": {},
   "source": [
    "The above code performs an analysis to understand the correlation between numerical features and the 'diabetes' target variable in our dataset. Initially, it assumes 'diabetes' is the target variable and selects all other columns as features. It separates the features from the target variable by dropping the 'diabetes' column from the original dataset and assigning it to the variable 'features'. The target variable itself is assigned to 'target'. Next, it identifies the numerical features within the 'features' DataFrame using .select_dtypes(include=['int64', 'float64']), ensuring only columns containing numeric data types are considered. It then calculates Pearson correlation coefficients between each numerical feature and the 'diabetes' target variable using .apply(lambda x: x.corr(target)). Pearson correlation coefficient measures the linear relationship between two variables, ranging from -1 (perfect negative correlation) to 1 (perfect positive correlation), with 0 indicating no linear correlation. Finally, the code visualizes these correlations using Seaborn's barplot(), where each feature's correlation coefficient with 'diabetes' is plotted as a bar. \n",
    "\n",
    "--> Please note that since we assigned numerical values (0 and 1) to the gender and smoking history features, which were originally categorical, the correlation analysis for these features is not accurate. However, the analysis reveals significant correlations between diabetes and other variables such as blood glucose level, HbA1c level, age, and BMI, suggesting potential predictive relationships, indicating that these latter may be associated with a higher likelihood of diabetes."
   ]
  },
  {
   "cell_type": "markdown",
   "id": "8eb20282-fc0c-4785-8336-1788f88c9a5a",
   "metadata": {},
   "source": [
    "Now, we need to select a machine learning model for our task. Based on our literature review, we will focus on Logistic Regression, Decision Trees, Random Forest, and Naive Bayes. We thought it would be interesting to compare the accuracy of these classifiers to determine which one is the most suitable for our model training."
   ]
  },
  {
   "cell_type": "code",
   "execution_count": 19,
   "id": "ff1eb23b-a047-43be-81dd-c17d7fc8d945",
   "metadata": {
    "tags": []
   },
   "outputs": [
    {
     "name": "stdout",
     "output_type": "stream",
     "text": [
      "Logistic Regression:\n",
      "  Cross-validation scores: [0.96057143 0.96192857 0.96214286 0.959      0.95971429]\n",
      "  Mean accuracy: 0.9607\n",
      "\n",
      "Decision Trees:\n",
      "  Cross-validation scores: [0.94964286 0.95242857 0.95414286 0.94907143 0.95035714]\n",
      "  Mean accuracy: 0.9511\n",
      "\n",
      "Random Forest:\n",
      "  Cross-validation scores: [0.96978571 0.97021429 0.97171429 0.96871429 0.97035714]\n",
      "  Mean accuracy: 0.9702\n",
      "\n"
     ]
    }
   ],
   "source": [
    "#We first define preprocessing steps with SimpleImputer for missing values and StandardScaler for scaling\n",
    "preprocessor = Pipeline(steps=[\n",
    "    ('imputer', SimpleImputer(strategy='mean')),\n",
    "    ('scaler', StandardScaler())\n",
    "])\n",
    "\n",
    "#Then, we initialize classifiers \n",
    "models = {\n",
    "    'Logistic Regression': LogisticRegression(max_iter=1000, random_state=42),\n",
    "    'Decision Trees': DecisionTreeClassifier(random_state=42),\n",
    "    'Random Forest': RandomForestClassifier(random_state=42),\n",
    "}\n",
    "\n",
    "#And create a pipeline with preprocessing and each classifier\n",
    "pipelines = {}\n",
    "for name, model in models.items():\n",
    "    pipelines[name] = Pipeline(steps=[\n",
    "        ('preprocessor', preprocessor),\n",
    "        ('classifier', model)\n",
    "    ])\n",
    "\n",
    "#Finally, we evaluate models using cross-validation\n",
    "for name, pipeline in pipelines.items():\n",
    "    scores = cross_val_score(pipeline, X_train, y_train, cv=5, scoring='accuracy')\n",
    "    print(f\"{name}:\")\n",
    "    print(f\"  Cross-validation scores: {scores}\")\n",
    "    print(f\"  Mean accuracy: {np.mean(scores):.4f}\")\n",
    "    print(\"\")\n",
    "\n"
   ]
  },
  {
   "cell_type": "markdown",
   "id": "d69546ed-13d6-4a96-b412-5a167436235d",
   "metadata": {},
   "source": [
    "##### Code explanation: \n",
    "\n",
    "The above code evaluates multiple classifiers using cross-validation to compare their performance. Firstly, assuming that X_train and y_train are already defined, it sets up a preprocessing pipeline (preprocessor), which consists of two steps: SimpleImputer with strategy 'mean' to handle missing values by imputing the mean of the feature and StandardScaler to standardize features by removing the mean and scaling to unit variance. Then, it initializes a dictionary of classifiers (Logistic Regression, Decision Trees, Random Forest, and Naive Bayes), where each classifier is instantiated with specific parameters (max_iter for LogisticRegression and random_state for all classifiers) to ensure consistent behavior across runs. Subsequently, it creates another dictionary where each key-value pair represents a pipeline combining the preprocessor and a classifier from the models dictionary. This ensures that preprocessing steps are consistently applied before fitting the model. Finally, it evaluates each pipeline using 5-fold cross-validation (cv=5), meaning that for each pipeline, it computes the accuracy scores (scoring='accuracy') and prints out the results, including individual cross-validation scores and the mean accuracy across folds. \n",
    "\n",
    "--> Based on our evaluation, the Random Forest model stands out as the top performer, achieving a mean accuracy of 0.9702. As a result, we have decided to proceed with training our model using Random Forest."
   ]
  },
  {
   "cell_type": "markdown",
   "id": "adf3d7fe-88f0-4675-a797-87561e0eee80",
   "metadata": {},
   "source": [
    "--> For our current analysis, we have decided not to incorporate clustering. Our focus is on supervised learning tasks where we already possess labeled data. Our primary objective is predictive modeling rather than exploratory data analysis. In supervised learning, we can directly apply algorithms that predict the target variable using the available labeled data. Clustering becomes more relevant when the goal is to uncover hidden structures within unlabeled data. While clustering could be beneficial for tasks like understanding data structure, we have earmarked it for potential future use, particularly in more exploratory analyses (AE2), where uncovering underlying patterns or enhancing predictive models through feature engineering could provide additional insights."
   ]
  },
  {
   "cell_type": "markdown",
   "id": "fa067392-5a61-4c66-815e-fdc16d642ba6",
   "metadata": {
    "tags": []
   },
   "source": [
    "Now we want to train our Random Forest model on our training data. "
   ]
  },
  {
   "cell_type": "code",
   "execution_count": 20,
   "id": "f7d5af94-28cc-4e49-a12f-a30e3a30875d",
   "metadata": {
    "tags": []
   },
   "outputs": [
    {
     "name": "stdout",
     "output_type": "stream",
     "text": [
      "Training Accuracy: 99.92%\n"
     ]
    }
   ],
   "source": [
    "#We first define preprocessing steps with SimpleImputer for missing values and StandardScaler for scaling\n",
    "preprocessor = Pipeline(steps=[\n",
    "    ('imputer', SimpleImputer(strategy='mean')),  #It replaces NaN with mean of the column\n",
    "    ('scaler', StandardScaler())  #It standardizes features by removing mean and scaling to unit variance\n",
    "])\n",
    "\n",
    "#Then, we initialize the Random Forest classifier\n",
    "random_forest = RandomForestClassifier(random_state=42)\n",
    "\n",
    "#And create a pipeline with preprocessing and the classifier\n",
    "model = Pipeline(steps=[\n",
    "    ('preprocessor', preprocessor),\n",
    "    ('classifier', random_forest)\n",
    "])\n",
    "\n",
    "#We then train it on our training data\n",
    "model.fit(X_train, y_train)\n",
    "\n",
    "#And evaluate our model on the training set\n",
    "train_accuracy = model.score(X_train, y_train)\n",
    "print(f\"Training Accuracy: {train_accuracy * 100:.2f}%\")\n"
   ]
  },
  {
   "cell_type": "markdown",
   "id": "16e0c576-7767-480d-8752-58aed79d3ab9",
   "metadata": {},
   "source": [
    "##### Code explanation: \n",
    "\n",
    "The above code trains a Random Forest classifier on our training data. Firstly, it creates a preprocessing pipeline 'preprocessor' that is defined by using SimpleImputer to handle missing values by replacing NaNs with the mean of each column, and a StandardScaler to standardize the features, which removes the mean and scales them to unit variance, making the data more suitable for modeling. Then, the Random Forest classifier is initialized with random_state=42 for reproducibility. This classifier is then incorporated into a comprehensive pipeline 'model' that sequentially applies the defined preprocessing steps 'preprocessor' and then fits the classifier 'random_forest' to the training data (X_train, y_train). After training the model using model.fit(X_train, y_train), the code evaluates its performance on the training set by computing the training accuracy 'train_accuracy' using model.score(X_train, y_train). This accuracy metric reflects how well the model predicts the training data labels compared to their actual values. Finally, it displays the accuracy score rounded to four decimal places, providing insight into the model's effectiveness in learning from the training data."
   ]
  },
  {
   "cell_type": "markdown",
   "id": "4d1c11f4-0fb8-4db1-b296-48fe9e0127e4",
   "metadata": {},
   "source": [
    "Now, we want to evaluate our model performance to assess how well it performs on unseen data. To do that, we will use our testing data. "
   ]
  },
  {
   "cell_type": "code",
   "execution_count": 21,
   "id": "343b5cdc-9d61-4606-bba0-cfd87a6cced1",
   "metadata": {
    "tags": []
   },
   "outputs": [
    {
     "name": "stdout",
     "output_type": "stream",
     "text": [
      "Testing Accuracy: 97.01%\n"
     ]
    }
   ],
   "source": [
    "#We evaluate model performance on testing data\n",
    "test_accuracy = model.score(X_test, y_test)\n",
    "print(f\"Testing Accuracy: {test_accuracy * 100:.2f}%\") "
   ]
  },
  {
   "cell_type": "markdown",
   "id": "4f2444d7-310f-4ca9-8b04-3d4406d2254c",
   "metadata": {},
   "source": [
    "##### Code explanation: \n",
    "    \n",
    "The above code evaluates the performance of our Random Forest model 'model' on unseen testing data (X_test, y_test). The model.score(X_test, y_test) function calculates the accuracy of the model predictions by comparing them to the true labels (y_test) from the testing dataset (X_test). Finally, we print the accuracy score rounded to four decimal places, providing a clear indication of how well the model generalizes to new, unseen data.\n",
    "\n",
    "--> Please, note that the accuracy score reflects the proportion of correctly predicted outcomes out of all predictions made on the testing data. It measures how accurately the model predicts the target variable (y_test) based on the features (X_test) it hasn't seen during training. A higher testing accuracy suggests that the model performs well and makes accurate predictions on new instances, which is a key metric in assessing the model's overall performance and reliability."
   ]
  },
  {
   "cell_type": "markdown",
   "id": "e2e2d18d-bbfb-4650-a963-745c18ba20ca",
   "metadata": {},
   "source": [
    "Now, we want to generate a classification report to evaluate the performance of our classification model. It provides detailed metrics such as precision, recall, F1-score, and support for each class, offering insights into how well the model predicts each category. "
   ]
  },
  {
   "cell_type": "code",
   "execution_count": 22,
   "id": "c90d7220-2e94-421f-bedd-dbbb3a21aaaf",
   "metadata": {
    "tags": []
   },
   "outputs": [
    {
     "name": "stdout",
     "output_type": "stream",
     "text": [
      "Classification Report:\n",
      "              precision    recall  f1-score   support\n",
      "\n",
      "           0       0.97      1.00      0.98     22915\n",
      "           1       0.94      0.68      0.79      2085\n",
      "\n",
      "    accuracy                           0.97     25000\n",
      "   macro avg       0.96      0.84      0.89     25000\n",
      "weighted avg       0.97      0.97      0.97     25000\n",
      "\n",
      "Confusion Matrix before hypertuning our RF model:\n",
      " [[22828    87]\n",
      " [  660  1425]]\n"
     ]
    }
   ],
   "source": [
    "#We first assume that our X_test, y_test are your testing data\n",
    "y_pred = model.predict(X_test)\n",
    "\n",
    "#Then, we generate classification report\n",
    "report = classification_report(y_test, y_pred)\n",
    "\n",
    "print(\"Classification Report:\")\n",
    "print(report)\n",
    "\n",
    "\n",
    "#As well as a confusion matrix\n",
    "conf_matrix = confusion_matrix(y_test, y_pred)\n",
    "print(\"Confusion Matrix before hypertuning our RF model:\\n\", conf_matrix)"
   ]
  },
  {
   "cell_type": "markdown",
   "id": "3c6ac9aa-6fc0-4aba-8460-50ecf5f26300",
   "metadata": {},
   "source": [
    "##### Code explanation: \n",
    "\n",
    "The above code aims to evaluate our model on a separate set of testing data, X_test and y_test. Firstly, it uses the trained model to predict the class labels for the instances in X_test, producing y_pred as the predicted labels. Then, the classification_report function is used to generate a comprehensive report on the model's performance, including key metrics such as precision, recall, F1-score, and support for each class present in y_test. Finally, it displays the \"Classification Report,\" providing a detailed assessment of how well the model predicts each class. "
   ]
  },
  {
   "cell_type": "markdown",
   "id": "d536acec-b65b-45cc-a5f9-211c7c6251c9",
   "metadata": {},
   "source": [
    "Now we want to fine-tune the hyperparameters of our Random Forest model to optimize its performance. "
   ]
  },
  {
   "cell_type": "code",
   "execution_count": 23,
   "id": "09495ed9-c16f-4d0e-93f0-be40f409f979",
   "metadata": {
    "tags": []
   },
   "outputs": [
    {
     "name": "stdout",
     "output_type": "stream",
     "text": [
      "Best Parameters:\n",
      "{'classifier__max_depth': 10, 'classifier__min_samples_split': 2, 'classifier__n_estimators': 100}\n"
     ]
    }
   ],
   "source": [
    "#We first define the parameter grid for GridSearchCV\n",
    "param_grid = {\n",
    "     'classifier__n_estimators': [100, 200],\n",
    "    'classifier__max_depth': [None, 10],\n",
    "    'classifier__min_samples_split': [2, 5]\n",
    "}\n",
    "\n",
    "#Then, we initialize GridSearchCV with the defined parameter grid and 5-fold cross-validation\n",
    "grid_search = GridSearchCV(model, param_grid, cv=5, scoring='accuracy')\n",
    "\n",
    "#We then, fit GridSearchCV to find the best parameters\n",
    "grid_search.fit(X_train, y_train)\n",
    "\n",
    "#Finally, we print the best parameters found by GridSearchCV\n",
    "print(\"Best Parameters:\")\n",
    "print(grid_search.best_params_)\n"
   ]
  },
  {
   "cell_type": "markdown",
   "id": "03941537-7cdd-47a4-a73f-bba413164bc2",
   "metadata": {},
   "source": [
    "##### Code explanation: \n",
    "\n",
    "The above code searches for the optimal hyperparameters for our model. Firstly, the parameter grid (param_grid) is defined, specifying different combinations of hyperparameters for our Random Forest classifier. Please note that the grid includes variations for n_estimators, max_depth, and min_samples_split. Then, the GridSearchCV is initialized with our model pipeline, the parameter grid (param_grid), 5-fold cross-validation (cv=5), and the scoring metric (scoring='accuracy'). In other words, the fit method is called on GridSearchCV to train and evaluate all combinations of parameters using the training data (X_train, y_train). Finally, the best performing combination of parameters is printed using grid_search.best_params_."
   ]
  },
  {
   "cell_type": "markdown",
   "id": "6557661d-f1d2-4ba6-ac9f-8627fe2cc978",
   "metadata": {},
   "source": [
    "Now, we re-evaluate our model using the optimized hyperparameters from the best model."
   ]
  },
  {
   "cell_type": "code",
   "execution_count": 24,
   "id": "b8388f1a-b5b9-4255-9e1b-2750ff599803",
   "metadata": {
    "tags": []
   },
   "outputs": [
    {
     "name": "stdout",
     "output_type": "stream",
     "text": [
      "Testing Accuracy with Best Model: 97.21%\n",
      "Best Parameters Used: {'classifier__max_depth': 10, 'classifier__min_samples_split': 2, 'classifier__n_estimators': 100}\n",
      "Classification Report:\n",
      "              precision    recall  f1-score   support\n",
      "\n",
      "           0       0.97      1.00      0.99     22915\n",
      "           1       1.00      0.67      0.80      2085\n",
      "\n",
      "    accuracy                           0.97     25000\n",
      "   macro avg       0.98      0.83      0.89     25000\n",
      "weighted avg       0.97      0.97      0.97     25000\n",
      "\n",
      "Confusion Matrix after hypertuning our RF model:\n",
      " [[22913     2]\n",
      " [  695  1390]]\n"
     ]
    }
   ],
   "source": [
    "#We then evaluate the best model found by GridSearchCV on the testing data\n",
    "test_accuracy = grid_search.best_estimator_.score(X_test, y_test)\n",
    "print(f\"Testing Accuracy with Best Model: {test_accuracy * 100:.2f}%\") \n",
    "\n",
    "#And display the best parameters used by the model\n",
    "print(f\"Best Parameters Used: {grid_search.best_params_}\")\n",
    "\n",
    "#We then evaluate the model with best parameters on testing data\n",
    "best_model = grid_search.best_estimator_\n",
    "y_pred = best_model.predict(X_test)\n",
    "\n",
    "#And finally generate and print classification report\n",
    "report = classification_report(y_test, y_pred)\n",
    "print(\"Classification Report:\")\n",
    "print(report)\n",
    "\n",
    "#As well as a confusion matrix\n",
    "conf_matrix = confusion_matrix(y_test, y_pred)\n",
    "print(\"Confusion Matrix after hypertuning our RF model:\\n\", conf_matrix)"
   ]
  },
  {
   "cell_type": "markdown",
   "id": "0b71646f-e7a1-4984-9df8-9314c748d332",
   "metadata": {},
   "source": [
    "##### Code explanation: \n",
    "\n",
    "The above code first evaluates the best model found by GridSearchCV on the testing data by calculating its accuracy and printing it. It then displays the parameters used by this best model. Subsequently, our model with its best parameters is used to make predictions on the testing data (X_test). Finally, the code generates a classification report based on these predictions and prints it, providing detailed performance metrics such as precision, recall, and F1 score for each class"
   ]
  },
  {
   "cell_type": "markdown",
   "id": "198e1744-401e-4bfa-b123-5a48c75928fc",
   "metadata": {},
   "source": [
    "Then, we decided to do a cross-validation step as it is crucial for the model evaluation process because it provides a robust estimate of the model's performance on unseen data. Indeed, cross-validation helps mitigate the risk of overfitting and ensures that the model generalizes well to new data. "
   ]
  },
  {
   "cell_type": "code",
   "execution_count": 25,
   "id": "71802f0e-65bf-446a-9ebf-3d812e1437f7",
   "metadata": {
    "tags": []
   },
   "outputs": [
    {
     "name": "stdout",
     "output_type": "stream",
     "text": [
      "Cross-Validation Scores: [0.96978571 0.97021429 0.97171429 0.96871429 0.97035714]\n",
      "Mean Cross-Validation Accuracy: 0.9702\n"
     ]
    }
   ],
   "source": [
    "#We use 5-fold cross-validation and accuracy as the scoring metric\n",
    "cv_scores = cross_val_score(model, X_train, y_train, cv=5, scoring='accuracy')\n",
    "\n",
    "#And print the cross-validation scores and the mean accuracy\n",
    "print(\"Cross-Validation Scores:\", cv_scores)\n",
    "print(\"Mean Cross-Validation Accuracy: {:.4f}\".format(cv_scores.mean())) "
   ]
  },
  {
   "cell_type": "markdown",
   "id": "a1aae3e0-e5cd-4f16-868a-888cf7094263",
   "metadata": {},
   "source": [
    "##### Code explanation: \n",
    "\n",
    "The above code evaluates our model's performance. To do that, it splits our dataset (X_train, y_train) into 5 folds. Our model is trained on 4 folds and validated on the remaining fold iteratively, ensuring that each fold serves as both training and validation data across different iterations. The 'accuracy' scoring metric is used to assess how well the model predicts the target variable. After computing the accuracy scores for each fold, the code prints both the individual cross-validation scores and the mean accuracy across all folds. "
   ]
  },
  {
   "cell_type": "markdown",
   "id": "55f64053-d5c7-43f9-b2f2-00c66035ace0",
   "metadata": {},
   "source": [
    "Now, we will save our best model so that it can be loaded and reused for predictions on new data, without retrain the model from scratch."
   ]
  },
  {
   "cell_type": "code",
   "execution_count": 26,
   "id": "9ae89fb5-8d5f-46a4-a059-8e4574d6bcd5",
   "metadata": {
    "tags": []
   },
   "outputs": [
    {
     "name": "stdout",
     "output_type": "stream",
     "text": [
      "Best model saved to 'best_model.pkl'\n"
     ]
    }
   ],
   "source": [
    "#We save our best model to a file\n",
    "joblib.dump(best_model, 'best_model.pkl')\n",
    "print(\"Best model saved to 'best_model.pkl'\")"
   ]
  },
  {
   "cell_type": "markdown",
   "id": "b6422131-08a1-4bea-a03f-e379a3ffb63c",
   "metadata": {},
   "source": [
    "##### Code explanation: \n",
    "\n",
    "The above code saves our trained machine learning model using the joblib library in Python. To do that it employs joblib.dump() to serialize the model and store it in a file named 'best_model.pkl'. This is crucial for easy retrieval and reuse without needing to retrain from scratch. Finally, it prints a message that confirms that the model has been successfully saved to the specified file location."
   ]
  },
  {
   "cell_type": "markdown",
   "id": "a8684673-ca68-4289-9734-46bb12e8ce21",
   "metadata": {},
   "source": [
    "Subsequently, we want to analyze the feature importance to understand which features have the most significant impact on our model's predictions."
   ]
  },
  {
   "cell_type": "code",
   "execution_count": 27,
   "id": "bb8e98eb-94fc-40f3-bf4f-2babf1e81b69",
   "metadata": {
    "tags": []
   },
   "outputs": [
    {
     "data": {
      "image/png": "[encoded data removed]",
      "text/plain": [
       "<Figure size 1200x800 with 1 Axes>"
      ]
     },
     "metadata": {},
     "output_type": "display_data"
    }
   ],
   "source": [
    "#We first extract the trained Random Forest classifier from the pipeline\n",
    "trained_rf = model.named_steps['classifier']\n",
    "\n",
    "#And get feature importances\n",
    "feature_importances = trained_rf.feature_importances_\n",
    "\n",
    "#We assume that feature names are available\n",
    "feature_names = X_train.columns  \n",
    "\n",
    "#And create a DataFrame for visualization\n",
    "importance_df = pd.DataFrame({\n",
    "    'Feature': feature_names,\n",
    "    'Importance': feature_importances\n",
    "}).sort_values(by='Importance', ascending=False)\n",
    "\n",
    "#To finally plot feature importances\n",
    "plt.figure(figsize=(12, 8))\n",
    "plt.barh(importance_df['Feature'], importance_df['Importance'])\n",
    "plt.xlabel('Importance')\n",
    "plt.ylabel('Feature')\n",
    "plt.title('Feature Importance')\n",
    "plt.gca().invert_yaxis()\n",
    "plt.show()"
   ]
  },
  {
   "cell_type": "markdown",
   "id": "de190028-23b6-44a5-89cf-e2a9affbf66a",
   "metadata": {},
   "source": [
    "##### Code explanation: \n",
    "\n",
    "This above code illustrates feature importances from our trained Random Forest classifier. Initially, the Random Forest model (trained_rf) is extracted from the pipeline using the named_steps attribute. Feature importances are then computed using the feature_importances_ property of our Random Forest model, assuming that the feature names are available in X_train.columns. These feature names and their corresponding importances are organized into a DataFrame (importance_df), sorted in descending order based on importance values. Finally, the code creates a horizontal bar plot to visualize the relative importance of each feature. This helps us interpret which features have the most significant impact on the model's predictions. "
   ]
  },
  {
   "cell_type": "markdown",
   "id": "e89e70eb-a813-49d4-8a5a-f7d5c756ef85",
   "metadata": {},
   "source": [
    "Finally, we deploy our model on a new unseen deployment data (5%, X_deploy, y_deploy) to assess how well our model performs on completely new and independent data that it hasn't seen during training or evaluation. This is crucial because it provides insights into the model's ability to generalize to real-world scenarios and validate its robustness and reliability before it is used for making critical decisions. "
   ]
  },
  {
   "cell_type": "code",
   "execution_count": 28,
   "id": "7cc5d697-83bf-4cb1-b1b1-6c4d8bb08b8a",
   "metadata": {
    "tags": []
   },
   "outputs": [
    {
     "name": "stdout",
     "output_type": "stream",
     "text": [
      "Deployment results with RF predictions saved to 'deployment_results_with_predictions_rf.csv'\n"
     ]
    }
   ],
   "source": [
    "#We assume that X_deploy is our deployment data and y_deploy is the actual given diabetes scores\n",
    "\n",
    "#We first make predictions using the loaded model\n",
    "y_pred_deploy = best_model.predict(X_deploy)\n",
    "\n",
    "#And create a DataFrame with X_deploy, y_deploy, and the predicted values\n",
    "deploy_results = pd.DataFrame(X_deploy, columns=X_deploy.columns)\n",
    "deploy_results['Actual_Diabetes'] = y_deploy \n",
    "deploy_results['Predicted_Diabetes'] = y_pred_deploy\n",
    "\n",
    "#Then, we save the results to a file with predicted values included\n",
    "deploy_results.to_csv('deployment_results_with_predictions_rf.csv', index=False)\n",
    "\n",
    "#And finally, we display the deployment results\n",
    "print(\"Deployment results with RF predictions saved to 'deployment_results_with_predictions_rf.csv'\")\n"
   ]
  },
  {
   "cell_type": "markdown",
   "id": "4b34e7d2-c130-4e3b-af26-fa4edb9df293",
   "metadata": {},
   "source": [
    "##### Code explanation: \n",
    "\n",
    "The above code demonstrates the deployment of our best_model on our deployment data (X_deploy) to predict diabetes outcomes. Initially, predictions are made using the model, generating y_pred_deploy. Subsequently, a DataFrame deploy_results is created, incorporating X_deploy, actual diabetes scores (y_deploy), and predicted diabetes values. The results are then saved to a CSV file named 'deployment_results_with_predictions.csv', ensuring the inclusion of predicted values. Finally, the code displays a statement that confirms the successful saving of our deployment results with predictions."
   ]
  },
  {
   "cell_type": "markdown",
   "id": "fa4497b0-eb8e-4ca0-b563-b78728820f72",
   "metadata": {},
   "source": [
    "We finally calculate the accuracy score of our model on our deployment dataset to validate and maintain the efficacy of our machine learning model in real-world applications. "
   ]
  },
  {
   "cell_type": "code",
   "execution_count": 29,
   "id": "bb09c084-2b33-4c74-94f5-907bc5f4e9aa",
   "metadata": {
    "tags": []
   },
   "outputs": [
    {
     "name": "stdout",
     "output_type": "stream",
     "text": [
      "Accuracy on Deployment Data: 96.88%\n"
     ]
    }
   ],
   "source": [
    "#We calculate our model accuracy score on deployment data\n",
    "accuracy = accuracy_score(y_deploy, y_pred_deploy)\n",
    "\n",
    "#And print the result\n",
    "print(f\"Accuracy on Deployment Data: {accuracy * 100:.2f}%\")\n"
   ]
  },
  {
   "cell_type": "markdown",
   "id": "ffefa5a1-22e8-42ce-8331-5fdd40a49a6f",
   "metadata": {},
   "source": [
    "Finally, we generate a classification report to evaluate the performance of our best RF model on our deployment data."
   ]
  },
  {
   "cell_type": "code",
   "execution_count": 30,
   "id": "5c4433e2-03c1-410b-9050-a1045fddf622",
   "metadata": {},
   "outputs": [
    {
     "name": "stdout",
     "output_type": "stream",
     "text": [
      "              precision    recall  f1-score   support\n",
      "\n",
      "           0       0.97      1.00      0.98      4538\n",
      "           1       1.00      0.66      0.80       462\n",
      "\n",
      "    accuracy                           0.97      5000\n",
      "   macro avg       0.98      0.83      0.89      5000\n",
      "weighted avg       0.97      0.97      0.97      5000\n",
      "\n",
      "Confusion Matrix on deployment data:\n",
      " [[4538    0]\n",
      " [ 156  306]]\n"
     ]
    }
   ],
   "source": [
    "#We print a classification report \n",
    "print(classification_report(y_deploy, y_pred_deploy))\n",
    "\n",
    "#As well as a confusion matrix\n",
    "conf_matrix = confusion_matrix(y_deploy, y_pred_deploy)\n",
    "print(\"Confusion Matrix on deployment data:\\n\", conf_matrix)"
   ]
  },
  {
   "cell_type": "markdown",
   "id": "d7f92641-893e-473d-9a56-19d2dbae404d",
   "metadata": {},
   "source": [
    "##### Code explanation: \n",
    "\n",
    "The above code generates and prints a detailed classification report and a confusion matrix to evaluate the performance of our RF model on our deployment data. Firstly the classification report which includes metrics such as precision, recall, F1-score, and support for each class is generated, providing a comprehensive view of the model's classification performance. Then, a confusion matrix is computed and printed, to show the number of true positive, true negative, false positive, and false negative predictions, which offers an insight into our RF model's errors and overall accuracy in classifying the deployment data."
   ]
  },
  {
   "cell_type": "markdown",
   "id": "2f697d4d-7e41-4243-a9f0-e7273ac8bb3f",
   "metadata": {},
   "source": [
    "Now, we decide to select a machine learning model for our AE2 task. We will focus on Support Vector Machine (SVM), k-Nearest Neighbors (kNN), Convolutional Neural Network(CNN) and Artificial Neural Networks (ANN). We thought it would be interesting to compare the accuracy of these classifiers to determine which one is the most suitable for our model training."
   ]
  },
  {
   "cell_type": "code",
   "execution_count": 31,
   "id": "513b41cf-45ce-4434-97f3-4bb979b66855",
   "metadata": {},
   "outputs": [
    {
     "name": "stdout",
     "output_type": "stream",
     "text": [
      "Support Vector Machine:\n",
      "  Cross-validation scores: [0.96378571 0.96342857 0.96507143 0.96407143 0.96371429]\n",
      "  Mean accuracy: 0.9640\n",
      "\n",
      "k-Nearest Neighbors:\n",
      "  Cross-validation scores: [0.96035714 0.96314286 0.96228571 0.95928571 0.9595    ]\n",
      "  Mean accuracy: 0.9609\n",
      "\n"
     ]
    }
   ],
   "source": [
    "#We first define preprocessing steps with SimpleImputer for missing values and StandardScaler for scaling\n",
    "preprocessor = Pipeline(steps=[\n",
    "    ('imputer', SimpleImputer(strategy='mean')),\n",
    "    ('scaler', StandardScaler())\n",
    "])\n",
    "\n",
    "#Then, we initialize classifiers \n",
    "models = {\n",
    "    'Support Vector Machine': SVC(probability=True, random_state=42),\n",
    "    'k-Nearest Neighbors': KNeighborsClassifier(n_neighbors=5),\n",
    "}\n",
    "\n",
    "#And create a pipeline with preprocessing and each classifier\n",
    "pipelines = {}\n",
    "for name, model in models.items():\n",
    "    pipelines[name] = Pipeline(steps=[\n",
    "        ('preprocessor', preprocessor),\n",
    "        ('classifier', model)\n",
    "    ])\n",
    "\n",
    "#Finally, we evaluate models using cross-validation\n",
    "for name, pipeline in pipelines.items():\n",
    "    scores = cross_val_score(pipeline, X_train, y_train, cv=5, scoring='accuracy')\n",
    "    print(f\"{name}:\")\n",
    "    print(f\"  Cross-validation scores: {scores}\")\n",
    "    print(f\"  Mean accuracy: {np.mean(scores):.4f}\")\n",
    "    print(\"\")"
   ]
  },
  {
   "cell_type": "markdown",
   "id": "88e3c3ef-298a-4952-b21f-e5f7fe0ff1f8",
   "metadata": {},
   "source": [
    "##### Code explanation: \n",
    "\n",
    "The above code evaluates multiple classifiers using cross-validation to compare their performance. Firstly, assuming that X_train and y_train are already defined, it sets up a preprocessing pipeline (preprocessor), which consists of two steps: SimpleImputer with strategy 'mean' to handle missing values by imputing the mean of the feature and StandardScaler to standardize features by removing the mean and scaling to unit variance. Then, it initializes a dictionary of classifiers (SVM and kNN), where each classifier is instantiated with specific parameters to ensure consistent behavior across runs. Subsequently, it creates another dictionary where each key-value pair represents a pipeline combining the preprocessor and a classifier from the models dictionary. This ensures that preprocessing steps are consistently applied before fitting the model. Finally, it evaluates each pipeline using 5-fold cross-validation (cv=5), meaning that for each pipeline, it computes the accuracy scores (scoring='accuracy') and prints out the results, including individual cross-validation scores and the mean accuracy across folds."
   ]
  },
  {
   "cell_type": "markdown",
   "id": "232d19f5-6856-4655-8e38-28fd31d6bc3e",
   "metadata": {},
   "source": [
    "Then, we do the same for our CNN model."
   ]
  },
  {
   "cell_type": "code",
   "execution_count": 32,
   "id": "d83410a0-bad8-4c33-91b8-8415619156d6",
   "metadata": {},
   "outputs": [
    {
     "name": "stdout",
     "output_type": "stream",
     "text": [
      "Epoch 1/10\n"
     ]
    },
    {
     "name": "stderr",
     "output_type": "stream",
     "text": [
      "/Applications/anaconda3/lib/python3.12/site-packages/keras/src/layers/convolutional/base_conv.py:107: UserWarning: Do not pass an `input_shape`/`input_dim` argument to a layer. When using Sequential models, prefer using an `Input(shape)` object as the first layer in the model instead.\n",
      "  super().__init__(activity_regularizer=activity_regularizer, **kwargs)\n"
     ]
    },
    {
     "name": "stdout",
     "output_type": "stream",
     "text": [
      "\u001b[1m2188/2188\u001b[0m \u001b[32m━━━━━━━━━━━━━━━━━━━━\u001b[0m\u001b[37m\u001b[0m \u001b[1m2s\u001b[0m 718us/step - accuracy: 0.9490 - loss: 0.1509 - val_accuracy: 0.9675 - val_loss: 0.0981\n",
      "Epoch 2/10\n",
      "\u001b[1m2188/2188\u001b[0m \u001b[32m━━━━━━━━━━━━━━━━━━━━\u001b[0m\u001b[37m\u001b[0m \u001b[1m1s\u001b[0m 681us/step - accuracy: 0.9686 - loss: 0.0923 - val_accuracy: 0.9693 - val_loss: 0.0868\n",
      "Epoch 3/10\n",
      "\u001b[1m2188/2188\u001b[0m \u001b[32m━━━━━━━━━━━━━━━━━━━━\u001b[0m\u001b[37m\u001b[0m \u001b[1m1s\u001b[0m 660us/step - accuracy: 0.9710 - loss: 0.0873 - val_accuracy: 0.9710 - val_loss: 0.0847\n",
      "Epoch 4/10\n",
      "\u001b[1m2188/2188\u001b[0m \u001b[32m━━━━━━━━━━━━━━━━━━━━\u001b[0m\u001b[37m\u001b[0m \u001b[1m2s\u001b[0m 938us/step - accuracy: 0.9705 - loss: 0.0877 - val_accuracy: 0.9713 - val_loss: 0.0825\n",
      "Epoch 5/10\n",
      "\u001b[1m2188/2188\u001b[0m \u001b[32m━━━━━━━━━━━━━━━━━━━━\u001b[0m\u001b[37m\u001b[0m \u001b[1m1s\u001b[0m 601us/step - accuracy: 0.9697 - loss: 0.0879 - val_accuracy: 0.9703 - val_loss: 0.0829\n",
      "Epoch 6/10\n",
      "\u001b[1m2188/2188\u001b[0m \u001b[32m━━━━━━━━━━━━━━━━━━━━\u001b[0m\u001b[37m\u001b[0m \u001b[1m1s\u001b[0m 551us/step - accuracy: 0.9699 - loss: 0.0879 - val_accuracy: 0.9712 - val_loss: 0.0834\n",
      "Epoch 7/10\n",
      "\u001b[1m2188/2188\u001b[0m \u001b[32m━━━━━━━━━━━━━━━━━━━━\u001b[0m\u001b[37m\u001b[0m \u001b[1m1s\u001b[0m 549us/step - accuracy: 0.9708 - loss: 0.0865 - val_accuracy: 0.9722 - val_loss: 0.0834\n",
      "Epoch 8/10\n",
      "\u001b[1m2188/2188\u001b[0m \u001b[32m━━━━━━━━━━━━━━━━━━━━\u001b[0m\u001b[37m\u001b[0m \u001b[1m1s\u001b[0m 536us/step - accuracy: 0.9711 - loss: 0.0855 - val_accuracy: 0.9710 - val_loss: 0.0824\n",
      "Epoch 9/10\n",
      "\u001b[1m2188/2188\u001b[0m \u001b[32m━━━━━━━━━━━━━━━━━━━━\u001b[0m\u001b[37m\u001b[0m \u001b[1m1s\u001b[0m 565us/step - accuracy: 0.9710 - loss: 0.0862 - val_accuracy: 0.9711 - val_loss: 0.0819\n",
      "Epoch 10/10\n",
      "\u001b[1m2188/2188\u001b[0m \u001b[32m━━━━━━━━━━━━━━━━━━━━\u001b[0m\u001b[37m\u001b[0m \u001b[1m1s\u001b[0m 563us/step - accuracy: 0.9715 - loss: 0.0852 - val_accuracy: 0.9717 - val_loss: 0.0828\n",
      "\u001b[1m782/782\u001b[0m \u001b[32m━━━━━━━━━━━━━━━━━━━━\u001b[0m\u001b[37m\u001b[0m \u001b[1m0s\u001b[0m 199us/step - accuracy: 0.9714 - loss: 0.0832\n",
      "\n",
      "Test Accuracy: 97.17%\n"
     ]
    }
   ],
   "source": [
    "#We first define the target column\n",
    "target_column = 'diabetes'\n",
    "X = data.drop(target_column, axis=1)\n",
    "y = data[target_column]\n",
    "\n",
    "#Then, we standardize the features\n",
    "scaler = StandardScaler()\n",
    "X_train = scaler.fit_transform(X_train)\n",
    "X_test = scaler.transform(X_test)\n",
    "X_deploy = scaler.transform(X_deploy)\n",
    "\n",
    "#And reshape our data to fit the CNN input requirements\n",
    "X_train = X_train[..., np.newaxis]\n",
    "X_test = X_test[..., np.newaxis]\n",
    "X_deploy = X_deploy[..., np.newaxis]\n",
    "\n",
    "#We then convert the target variable to categorical \n",
    "y_train = to_categorical(y_train)\n",
    "y_test = to_categorical(y_test)\n",
    "\n",
    "#And define our CNN model\n",
    "cnn_model = Sequential()\n",
    "cnn_model.add(Conv1D(64, kernel_size=3, activation='relu', input_shape=(X_train.shape[1], 1)))\n",
    "cnn_model.add(Conv1D(32, kernel_size=3, activation='relu'))\n",
    "cnn_model.add(Flatten())\n",
    "cnn_model.add(Dense(64, activation='relu'))\n",
    "cnn_model.add(Dropout(0.5))\n",
    "cnn_model.add(Dense(y_train.shape[1], activation='softmax'))\n",
    "\n",
    "#We then compile our model\n",
    "cnn_model.compile(optimizer='adam', loss='categorical_crossentropy', metrics=['accuracy'])\n",
    "\n",
    "#Train it\n",
    "history = cnn_model.fit(X_train, y_train, validation_data=(X_test, y_test), epochs=10, batch_size=32)\n",
    "\n",
    "#To finally evaluate it\n",
    "loss, accuracy = cnn_model.evaluate(X_test, y_test)\n",
    "print(f'\\nTest Accuracy: {accuracy * 100:.2f}%')"
   ]
  },
  {
   "cell_type": "markdown",
   "id": "28885760-69f0-4cc4-82f7-6254ba7742e0",
   "metadata": {},
   "source": [
    "##### Code explanation: \n",
    "\n",
    "The above code aims to evaluate our CNN model. Firstly, it standardises the feature data using StandardScaler, to ensure that the training, test, and deployment datasets have a mean of 0 and a standard deviation of 1. Then, it reshapes the data to add an additional dimension, aligning with the input requirements of a CNN by converting the data into a format compatible with Conv1D layers. The target variables (y_train and y_test) are then converted to categorical format using to_categorical to match the CNN’s output layer configuration. Following that, our CNN model is defined with two 1D convolutional layers, a flattening layer, and dense layers including dropout for regularization. Then, our model is compiled using the Adam optimizer and categorical crossentropy loss function, trained on the standardized and reshaped data over 10 epochs with a batch size of 32, and finally, its performance is evaluated on the test data, with the test accuracy printed out."
   ]
  },
  {
   "cell_type": "markdown",
   "id": "de786777-796e-4ccb-aa7d-247489ee3025",
   "metadata": {},
   "source": [
    "And finally, we do the same for our ANN model"
   ]
  },
  {
   "cell_type": "code",
   "execution_count": 33,
   "id": "49c2c6f5-bbb9-4531-95b9-d5cd46e10cc5",
   "metadata": {},
   "outputs": [
    {
     "name": "stdout",
     "output_type": "stream",
     "text": [
      "Initial shape of X: (100000, 8)\n",
      "Shape of X_train after scaling: (70000, 8)\n",
      "Epoch 1/10\n"
     ]
    },
    {
     "name": "stderr",
     "output_type": "stream",
     "text": [
      "/Applications/anaconda3/lib/python3.12/site-packages/keras/src/layers/core/dense.py:87: UserWarning: Do not pass an `input_shape`/`input_dim` argument to a layer. When using Sequential models, prefer using an `Input(shape)` object as the first layer in the model instead.\n",
      "  super().__init__(activity_regularizer=activity_regularizer, **kwargs)\n"
     ]
    },
    {
     "name": "stdout",
     "output_type": "stream",
     "text": [
      "\u001b[1m2188/2188\u001b[0m \u001b[32m━━━━━━━━━━━━━━━━━━━━\u001b[0m\u001b[37m\u001b[0m \u001b[1m1s\u001b[0m 323us/step - accuracy: 0.9334 - loss: 0.1837 - val_accuracy: 0.9623 - val_loss: 0.1051\n",
      "Epoch 2/10\n",
      "\u001b[1m2188/2188\u001b[0m \u001b[32m━━━━━━━━━━━━━━━━━━━━\u001b[0m\u001b[37m\u001b[0m \u001b[1m1s\u001b[0m 300us/step - accuracy: 0.9637 - loss: 0.1094 - val_accuracy: 0.9681 - val_loss: 0.0928\n",
      "Epoch 3/10\n",
      "\u001b[1m2188/2188\u001b[0m \u001b[32m━━━━━━━━━━━━━━━━━━━━\u001b[0m\u001b[37m\u001b[0m \u001b[1m1s\u001b[0m 302us/step - accuracy: 0.9670 - loss: 0.0981 - val_accuracy: 0.9694 - val_loss: 0.0874\n",
      "Epoch 4/10\n",
      "\u001b[1m2188/2188\u001b[0m \u001b[32m━━━━━━━━━━━━━━━━━━━━\u001b[0m\u001b[37m\u001b[0m \u001b[1m1s\u001b[0m 299us/step - accuracy: 0.9680 - loss: 0.0944 - val_accuracy: 0.9706 - val_loss: 0.0843\n",
      "Epoch 5/10\n",
      "\u001b[1m2188/2188\u001b[0m \u001b[32m━━━━━━━━━━━━━━━━━━━━\u001b[0m\u001b[37m\u001b[0m \u001b[1m1s\u001b[0m 318us/step - accuracy: 0.9687 - loss: 0.0914 - val_accuracy: 0.9714 - val_loss: 0.0832\n",
      "Epoch 6/10\n",
      "\u001b[1m2188/2188\u001b[0m \u001b[32m━━━━━━━━━━━━━━━━━━━━\u001b[0m\u001b[37m\u001b[0m \u001b[1m1s\u001b[0m 297us/step - accuracy: 0.9689 - loss: 0.0905 - val_accuracy: 0.9718 - val_loss: 0.0822\n",
      "Epoch 7/10\n",
      "\u001b[1m2188/2188\u001b[0m \u001b[32m━━━━━━━━━━━━━━━━━━━━\u001b[0m\u001b[37m\u001b[0m \u001b[1m1s\u001b[0m 296us/step - accuracy: 0.9696 - loss: 0.0898 - val_accuracy: 0.9714 - val_loss: 0.0814\n",
      "Epoch 8/10\n",
      "\u001b[1m2188/2188\u001b[0m \u001b[32m━━━━━━━━━━━━━━━━━━━━\u001b[0m\u001b[37m\u001b[0m \u001b[1m1s\u001b[0m 297us/step - accuracy: 0.9704 - loss: 0.0860 - val_accuracy: 0.9706 - val_loss: 0.0842\n",
      "Epoch 9/10\n",
      "\u001b[1m2188/2188\u001b[0m \u001b[32m━━━━━━━━━━━━━━━━━━━━\u001b[0m\u001b[37m\u001b[0m \u001b[1m1s\u001b[0m 299us/step - accuracy: 0.9690 - loss: 0.0906 - val_accuracy: 0.9715 - val_loss: 0.0824\n",
      "Epoch 10/10\n",
      "\u001b[1m2188/2188\u001b[0m \u001b[32m━━━━━━━━━━━━━━━━━━━━\u001b[0m\u001b[37m\u001b[0m \u001b[1m1s\u001b[0m 302us/step - accuracy: 0.9709 - loss: 0.0861 - val_accuracy: 0.9717 - val_loss: 0.0810\n",
      "\u001b[1m782/782\u001b[0m \u001b[32m━━━━━━━━━━━━━━━━━━━━\u001b[0m\u001b[37m\u001b[0m \u001b[1m0s\u001b[0m 145us/step - accuracy: 0.9716 - loss: 0.0802\n",
      "\n",
      "Test Accuracy: 97.17%\n"
     ]
    }
   ],
   "source": [
    "#We first define our target column\n",
    "target_column = 'diabetes'\n",
    "X = data.drop(target_column, axis=1)\n",
    "y = data[target_column]\n",
    "\n",
    "#And ensure X is a 2D array\n",
    "print(f\"Initial shape of X: {X.shape}\")\n",
    "\n",
    "#Then, we split our data into training (70%) and remaining (30%, testing + deployment)\n",
    "X_train, X_remaining, y_train, y_remaining = train_test_split(X, y, test_size=0.30, random_state=42)\n",
    "\n",
    "#And split the remaining 30% into 25% testing and 5% deployment\n",
    "X_test, X_deploy, y_test, y_deploy = train_test_split(X_remaining, y_remaining, test_size=(5/30), random_state=42)\n",
    "\n",
    "#Then, we standardize the features \n",
    "scaler = StandardScaler()\n",
    "X_train = scaler.fit_transform(X_train)\n",
    "X_test = scaler.transform(X_test)\n",
    "X_deploy = scaler.transform(X_deploy)\n",
    "\n",
    "#And ensure X is still 2D after scaling\n",
    "print(f\"Shape of X_train after scaling: {X_train.shape}\")\n",
    "\n",
    "#And convert the target variable to categorical \n",
    "y_train = to_categorical(y_train)\n",
    "y_test = to_categorical(y_test)\n",
    "\n",
    "#We then define our ANN model\n",
    "ann_model = Sequential()\n",
    "ann_model.add(Dense(128, activation='relu', input_shape=(X_train.shape[1],)))\n",
    "ann_model.add(Dropout(0.5))\n",
    "ann_model.add(Dense(64, activation='relu'))\n",
    "ann_model.add(Dropout(0.5))\n",
    "ann_model.add(Dense(y_train.shape[1], activation='softmax'))\n",
    "\n",
    "#Compile our model\n",
    "ann_model.compile(optimizer='adam', loss='categorical_crossentropy', metrics=['accuracy'])\n",
    "\n",
    "#And train it\n",
    "history = ann_model.fit(X_train, y_train, validation_data=(X_test, y_test), epochs=10, batch_size=32)\n",
    "\n",
    "#To finally evaluate it\n",
    "loss, accuracy = ann_model.evaluate(X_test, y_test)\n",
    "print(f'\\nTest Accuracy: {accuracy * 100:.2f}%')"
   ]
  },
  {
   "cell_type": "markdown",
   "id": "ddaa06c1-a992-4760-945b-fb82e51bf011",
   "metadata": {},
   "source": [
    "##### Code explanation: \n",
    "\n",
    "The above code prepares oyr data and trains our ANN model. It first defines the target column ('diabetes') and separates the features (X) from the target variable (y). Then, it splits our data into training (70%) and a remaining set (30%), which is further divided into test (25%) and deployment sets (5%) using train_test_split. Then, the features are standardized using StandardScaler to ensure consistent scaling, and the shapes are checked again to confirm that they remain 2D. The target variables are also converted to categorical format for compatibility with the model’s output layer. Then, our ANN model is defined with two dense layers and dropout for regularization, compiled with the Adam optimizer and categorical crossentropy loss function, and trained over 10 epochs. Finally, our model's performance is evaluated on the test set, and the test accuracy is printed."
   ]
  },
  {
   "cell_type": "markdown",
   "id": "c37b2263-0f40-4da1-b6eb-bab509a787bd",
   "metadata": {},
   "source": [
    "Now we noticed that the most accurate model is CNN. Therefore, we will train, test and deploy it on our data.\n",
    "\n",
    "--> Based on our evaluation, the CNN model stands out as the top performer, achieving a mean accuracy of 97.20%. As a result, we have decided to proceed with training our model using CNN model."
   ]
  },
  {
   "cell_type": "markdown",
   "id": "e089c4f4-1092-4a92-8250-e23d0207ab23",
   "metadata": {},
   "source": [
    "Therefore, we now want to train our CNN model on our training. Then, we want to evaluate our model performance to assess how well it performs on unseen data. To do that, we will use our testing data."
   ]
  },
  {
   "cell_type": "code",
   "execution_count": 34,
   "id": "5eb3faca-d9f5-4ec9-b1a2-dc2bd92d638b",
   "metadata": {},
   "outputs": [
    {
     "name": "stdout",
     "output_type": "stream",
     "text": [
      "Epoch 1/10\n"
     ]
    },
    {
     "name": "stderr",
     "output_type": "stream",
     "text": [
      "/Applications/anaconda3/lib/python3.12/site-packages/keras/src/layers/convolutional/base_conv.py:107: UserWarning: Do not pass an `input_shape`/`input_dim` argument to a layer. When using Sequential models, prefer using an `Input(shape)` object as the first layer in the model instead.\n",
      "  super().__init__(activity_regularizer=activity_regularizer, **kwargs)\n"
     ]
    },
    {
     "name": "stdout",
     "output_type": "stream",
     "text": [
      "\u001b[1m2188/2188\u001b[0m \u001b[32m━━━━━━━━━━━━━━━━━━━━\u001b[0m\u001b[37m\u001b[0m \u001b[1m2s\u001b[0m 573us/step - accuracy: 0.9447 - loss: 0.1591 - val_accuracy: 0.9674 - val_loss: 0.0920\n",
      "Epoch 2/10\n",
      "\u001b[1m2188/2188\u001b[0m \u001b[32m━━━━━━━━━━━━━━━━━━━━\u001b[0m\u001b[37m\u001b[0m \u001b[1m1s\u001b[0m 553us/step - accuracy: 0.9682 - loss: 0.0952 - val_accuracy: 0.9710 - val_loss: 0.0836\n",
      "Epoch 3/10\n",
      "\u001b[1m2188/2188\u001b[0m \u001b[32m━━━━━━━━━━━━━━━━━━━━\u001b[0m\u001b[37m\u001b[0m \u001b[1m2s\u001b[0m 833us/step - accuracy: 0.9697 - loss: 0.0897 - val_accuracy: 0.9708 - val_loss: 0.0839\n",
      "Epoch 4/10\n",
      "\u001b[1m2188/2188\u001b[0m \u001b[32m━━━━━━━━━━━━━━━━━━━━\u001b[0m\u001b[37m\u001b[0m \u001b[1m1s\u001b[0m 551us/step - accuracy: 0.9717 - loss: 0.0850 - val_accuracy: 0.9714 - val_loss: 0.0827\n",
      "Epoch 5/10\n",
      "\u001b[1m2188/2188\u001b[0m \u001b[32m━━━━━━━━━━━━━━━━━━━━\u001b[0m\u001b[37m\u001b[0m \u001b[1m1s\u001b[0m 555us/step - accuracy: 0.9700 - loss: 0.0887 - val_accuracy: 0.9717 - val_loss: 0.0822\n",
      "Epoch 6/10\n",
      "\u001b[1m2188/2188\u001b[0m \u001b[32m━━━━━━━━━━━━━━━━━━━━\u001b[0m\u001b[37m\u001b[0m \u001b[1m1s\u001b[0m 632us/step - accuracy: 0.9712 - loss: 0.0876 - val_accuracy: 0.9716 - val_loss: 0.0828\n",
      "Epoch 7/10\n",
      "\u001b[1m2188/2188\u001b[0m \u001b[32m━━━━━━━━━━━━━━━━━━━━\u001b[0m\u001b[37m\u001b[0m \u001b[1m2s\u001b[0m 844us/step - accuracy: 0.9708 - loss: 0.0861 - val_accuracy: 0.9697 - val_loss: 0.0881\n",
      "Epoch 8/10\n",
      "\u001b[1m2188/2188\u001b[0m \u001b[32m━━━━━━━━━━━━━━━━━━━━\u001b[0m\u001b[37m\u001b[0m \u001b[1m1s\u001b[0m 593us/step - accuracy: 0.9708 - loss: 0.0860 - val_accuracy: 0.9717 - val_loss: 0.0812\n",
      "Epoch 9/10\n",
      "\u001b[1m2188/2188\u001b[0m \u001b[32m━━━━━━━━━━━━━━━━━━━━\u001b[0m\u001b[37m\u001b[0m \u001b[1m1s\u001b[0m 590us/step - accuracy: 0.9719 - loss: 0.0834 - val_accuracy: 0.9714 - val_loss: 0.0811\n",
      "Epoch 10/10\n",
      "\u001b[1m2188/2188\u001b[0m \u001b[32m━━━━━━━━━━━━━━━━━━━━\u001b[0m\u001b[37m\u001b[0m \u001b[1m1s\u001b[0m 613us/step - accuracy: 0.9729 - loss: 0.0807 - val_accuracy: 0.9720 - val_loss: 0.0820\n",
      "\u001b[1m2188/2188\u001b[0m \u001b[32m━━━━━━━━━━━━━━━━━━━━\u001b[0m\u001b[37m\u001b[0m \u001b[1m0s\u001b[0m 197us/step - accuracy: 0.9724 - loss: 0.0822\n",
      "\u001b[1m782/782\u001b[0m \u001b[32m━━━━━━━━━━━━━━━━━━━━\u001b[0m\u001b[37m\u001b[0m \u001b[1m0s\u001b[0m 211us/step - accuracy: 0.9717 - loss: 0.0819\n",
      "\n",
      "Training Accuracy: 97.19%\n",
      "Testing Accuracy: 97.20%\n"
     ]
    }
   ],
   "source": [
    "#We first define our target column\n",
    "target_column = 'diabetes'\n",
    "X = data.drop(target_column, axis=1)\n",
    "y = data[target_column]\n",
    "\n",
    "#Then, split our data into training (70%) and remaining (30%, testing + deployment)\n",
    "X_train, X_remaining, y_train, y_remaining = train_test_split(X, y, test_size=0.30, random_state=42)\n",
    "\n",
    "#And split the remaining 30% into 25% testing and 5% deployment\n",
    "X_test, X_deploy, y_test, y_deploy = train_test_split(X_remaining, y_remaining, test_size=(5/30), random_state=42)\n",
    "\n",
    "#Then, we standardize the features\n",
    "scaler = StandardScaler()\n",
    "X_train = scaler.fit_transform(X_train)\n",
    "X_test = scaler.transform(X_test)\n",
    "X_deploy = scaler.transform(X_deploy)\n",
    "\n",
    "#And reshape it to fit the CNN input requirements\n",
    "X_train = X_train[..., np.newaxis]\n",
    "X_test = X_test[..., np.newaxis]\n",
    "X_deploy = X_deploy[..., np.newaxis]\n",
    "\n",
    "#Then, we convert the target variable to categorical\n",
    "y_train = to_categorical(y_train)\n",
    "y_test = to_categorical(y_test)\n",
    "\n",
    "#To define our CNN model\n",
    "model = Sequential()\n",
    "model.add(Conv1D(64, kernel_size=3, activation='relu', input_shape=(X_train.shape[1], 1)))\n",
    "model.add(Conv1D(32, kernel_size=3, activation='relu'))\n",
    "model.add(Flatten())\n",
    "model.add(Dense(64, activation='relu'))\n",
    "model.add(Dropout(0.5))\n",
    "model.add(Dense(y_train.shape[1], activation='softmax'))\n",
    "    \n",
    "#Compile the model\n",
    "model.compile(optimizer='adam', loss='categorical_crossentropy', metrics=['accuracy'])\n",
    "\n",
    "#Train it\n",
    "history = model.fit(X_train, y_train, validation_data=(X_test, y_test), epochs=10, batch_size=32)\n",
    "\n",
    "#And evaluate it\n",
    "train_loss, train_accuracy = model.evaluate(X_train, y_train)\n",
    "test_loss, test_accuracy = model.evaluate(X_test, y_test)\n",
    "print(f'\\nTraining Accuracy: {train_accuracy * 100:.2f}%')\n",
    "print(f'Testing Accuracy: {test_accuracy * 100:.2f}%')"
   ]
  },
  {
   "cell_type": "markdown",
   "id": "2954a1b3-d081-4f56-be26-62ef8e20b157",
   "metadata": {},
   "source": [
    "##### Code explanation: \n",
    "\n",
    "The above code outlines the process of preparing data, training and testing our CNN model. It starts by defining the target column ('diabetes') and separates the features (X) from the target variable (y). The data is then divided into training (70%) and remaining sets (30%), which is further split into test (25%) and deployment sets (5%). Then, the features are standardized using StandardScaler, and reshaped to meet the input requirements of our CNN model by adding an additional dimension. The target variables are converted to categorical format for compatibility with the CNN's output layer. After that, our CNN model is defined with two 1D convolutional layers, a flattening layer, dense layers with dropout for regularization, and a softmax output layer. Our model is then compiled with the Adam optimizer and categorical crossentropy loss function, trained for 10 epochs with a batch size of 32, and evaluated on both training and test data. Finally, the training and testing accuracies are printed to assess model performance."
   ]
  },
  {
   "cell_type": "markdown",
   "id": "a35cb056-a449-49d2-b6bf-a7902b4f7417",
   "metadata": {},
   "source": [
    "Then, we generate a classification report to evaluate the performance of our classification model. It provides detailed metrics such as precision, recall, F1-score, and support for each class, offering insights into how well the model predicts each category."
   ]
  },
  {
   "cell_type": "code",
   "execution_count": 35,
   "id": "77b4a283-eae9-48c0-83f2-d6fb23f9bb4b",
   "metadata": {},
   "outputs": [
    {
     "name": "stdout",
     "output_type": "stream",
     "text": [
      "\u001b[1m782/782\u001b[0m \u001b[32m━━━━━━━━━━━━━━━━━━━━\u001b[0m\u001b[37m\u001b[0m \u001b[1m0s\u001b[0m 237us/step\n",
      "\n",
      "Classification Report:\n",
      "              precision    recall  f1-score   support\n",
      "\n",
      "           0       0.97      1.00      0.98     22915\n",
      "           1       1.00      0.67      0.80      2085\n",
      "\n",
      "    accuracy                           0.97     25000\n",
      "   macro avg       0.98      0.83      0.89     25000\n",
      "weighted avg       0.97      0.97      0.97     25000\n",
      "\n"
     ]
    }
   ],
   "source": [
    "#We first generate predictions\n",
    "y_pred = model.predict(X_test)\n",
    "y_pred_classes = np.argmax(y_pred, axis=1)\n",
    "y_true = np.argmax(y_test, axis=1)\n",
    "\n",
    "#And print our classification report\n",
    "print(\"\\nClassification Report:\")\n",
    "print(classification_report(y_true, y_pred_classes))\n"
   ]
  },
  {
   "cell_type": "markdown",
   "id": "e4279917-709e-4f5e-ac2c-d2b49445598b",
   "metadata": {},
   "source": [
    "##### Code explanation: \n",
    "\n",
    "The above code generates predictions using our trained CNN model and evaluates its performance. First, it uses the model to predict probabilities for each class on the test dataset (X_test). These probabilities are converted into predicted class labels by selecting the class with the highest probability for each instance using np.argmax. Similarly, the true class labels from the test dataset are extracted by applying np.argmax to the one-hot encoded y_test. Finally, it prints a classification report that provides detailed metrics on our model's performance, including precision, recall, F1-score, and support for each class, allowing for a comprehensive evaluation of how well the model performs in classifying the test data."
   ]
  },
  {
   "cell_type": "code",
   "execution_count": 36,
   "id": "594c5c2a-929d-4a3f-9baa-48871d46666b",
   "metadata": {},
   "outputs": [
    {
     "name": "stdout",
     "output_type": "stream",
     "text": [
      "Confusion Matrix before hypertuning our CNN model:\n",
      " [[22910     5]\n",
      " [  696  1389]]\n"
     ]
    }
   ],
   "source": [
    "#As well as a confusion matrix\n",
    "conf_matrix = confusion_matrix(y_true, y_pred_classes)\n",
    "print(\"Confusion Matrix before hypertuning our CNN model:\\n\", conf_matrix)"
   ]
  },
  {
   "cell_type": "markdown",
   "id": "bc17baca-b753-4f3e-afcb-3c526ad44fb4",
   "metadata": {},
   "source": [
    "##### Code explanation: \n",
    "\n",
    "The above code generates and prints a detailed confusion matrix to evaluate the performance of our CNN model on our testing data. A confusion matrix is computed and printed, to show the number of true positive, true negative, false positive, and false negative predictions, which offers an insight into our CNN model's errors and overall accuracy in classifying the testing data."
   ]
  },
  {
   "cell_type": "markdown",
   "id": "d6c6ed5b-cdd0-4829-8111-274f5ed904a8",
   "metadata": {},
   "source": [
    "Following this, we want to fine-tune the hyperparameters of our CNN model to optimize its performance. To do that, we track the best parameters to generate our best CNN model."
   ]
  },
  {
   "cell_type": "code",
   "execution_count": 37,
   "id": "65e1b79a-af35-49ec-b987-5ae8293e1939",
   "metadata": {},
   "outputs": [
    {
     "name": "stdout",
     "output_type": "stream",
     "text": [
      "Training with batch_size=16, epochs=10, optimizer=adam, dropout_rate=0.3\n"
     ]
    },
    {
     "name": "stderr",
     "output_type": "stream",
     "text": [
      "/Applications/anaconda3/lib/python3.12/site-packages/keras/src/layers/convolutional/base_conv.py:107: UserWarning: Do not pass an `input_shape`/`input_dim` argument to a layer. When using Sequential models, prefer using an `Input(shape)` object as the first layer in the model instead.\n",
      "  super().__init__(activity_regularizer=activity_regularizer, **kwargs)\n"
     ]
    },
    {
     "name": "stdout",
     "output_type": "stream",
     "text": [
      "Validation Accuracy: 97.22%\n",
      "Training with batch_size=16, epochs=10, optimizer=adam, dropout_rate=0.5\n",
      "Validation Accuracy: 97.17%\n",
      "Training with batch_size=16, epochs=10, optimizer=adam, dropout_rate=0.7\n",
      "Validation Accuracy: 97.18%\n",
      "Training with batch_size=16, epochs=10, optimizer=rmsprop, dropout_rate=0.3\n",
      "Validation Accuracy: 96.82%\n",
      "Training with batch_size=16, epochs=10, optimizer=rmsprop, dropout_rate=0.5\n",
      "Validation Accuracy: 96.90%\n",
      "Training with batch_size=16, epochs=10, optimizer=rmsprop, dropout_rate=0.7\n",
      "Validation Accuracy: 96.22%\n",
      "Training with batch_size=16, epochs=20, optimizer=adam, dropout_rate=0.3\n",
      "Validation Accuracy: 96.83%\n",
      "Training with batch_size=16, epochs=20, optimizer=adam, dropout_rate=0.5\n",
      "Validation Accuracy: 97.21%\n",
      "Training with batch_size=16, epochs=20, optimizer=adam, dropout_rate=0.7\n",
      "Validation Accuracy: 97.21%\n",
      "Training with batch_size=16, epochs=20, optimizer=rmsprop, dropout_rate=0.3\n",
      "Validation Accuracy: 96.56%\n",
      "Training with batch_size=16, epochs=20, optimizer=rmsprop, dropout_rate=0.5\n",
      "Validation Accuracy: 96.48%\n",
      "Training with batch_size=16, epochs=20, optimizer=rmsprop, dropout_rate=0.7\n",
      "Validation Accuracy: 96.38%\n",
      "Training with batch_size=32, epochs=10, optimizer=adam, dropout_rate=0.3\n",
      "Validation Accuracy: 97.18%\n",
      "Training with batch_size=32, epochs=10, optimizer=adam, dropout_rate=0.5\n",
      "Validation Accuracy: 97.17%\n",
      "Training with batch_size=32, epochs=10, optimizer=adam, dropout_rate=0.7\n",
      "Validation Accuracy: 97.20%\n",
      "Training with batch_size=32, epochs=10, optimizer=rmsprop, dropout_rate=0.3\n",
      "Validation Accuracy: 97.10%\n",
      "Training with batch_size=32, epochs=10, optimizer=rmsprop, dropout_rate=0.5\n",
      "Validation Accuracy: 96.98%\n",
      "Training with batch_size=32, epochs=10, optimizer=rmsprop, dropout_rate=0.7\n",
      "Validation Accuracy: 97.01%\n",
      "Training with batch_size=32, epochs=20, optimizer=adam, dropout_rate=0.3\n",
      "Validation Accuracy: 97.21%\n",
      "Training with batch_size=32, epochs=20, optimizer=adam, dropout_rate=0.5\n",
      "Validation Accuracy: 97.18%\n",
      "Training with batch_size=32, epochs=20, optimizer=adam, dropout_rate=0.7\n",
      "Validation Accuracy: 97.20%\n",
      "Training with batch_size=32, epochs=20, optimizer=rmsprop, dropout_rate=0.3\n",
      "Validation Accuracy: 97.10%\n",
      "Training with batch_size=32, epochs=20, optimizer=rmsprop, dropout_rate=0.5\n",
      "Validation Accuracy: 95.70%\n",
      "Training with batch_size=32, epochs=20, optimizer=rmsprop, dropout_rate=0.7\n",
      "Validation Accuracy: 96.89%\n",
      "Training with batch_size=64, epochs=10, optimizer=adam, dropout_rate=0.3\n",
      "Validation Accuracy: 97.20%\n",
      "Training with batch_size=64, epochs=10, optimizer=adam, dropout_rate=0.5\n",
      "Validation Accuracy: 97.18%\n",
      "Training with batch_size=64, epochs=10, optimizer=adam, dropout_rate=0.7\n",
      "Validation Accuracy: 97.17%\n",
      "Training with batch_size=64, epochs=10, optimizer=rmsprop, dropout_rate=0.3\n",
      "Validation Accuracy: 97.16%\n",
      "Training with batch_size=64, epochs=10, optimizer=rmsprop, dropout_rate=0.5\n",
      "Validation Accuracy: 97.14%\n",
      "Training with batch_size=64, epochs=10, optimizer=rmsprop, dropout_rate=0.7\n",
      "Validation Accuracy: 97.04%\n",
      "Training with batch_size=64, epochs=20, optimizer=adam, dropout_rate=0.3\n",
      "Validation Accuracy: 97.23%\n",
      "Training with batch_size=64, epochs=20, optimizer=adam, dropout_rate=0.5\n",
      "Validation Accuracy: 97.20%\n",
      "Training with batch_size=64, epochs=20, optimizer=adam, dropout_rate=0.7\n",
      "Validation Accuracy: 97.19%\n",
      "Training with batch_size=64, epochs=20, optimizer=rmsprop, dropout_rate=0.3\n",
      "Validation Accuracy: 97.20%\n",
      "Training with batch_size=64, epochs=20, optimizer=rmsprop, dropout_rate=0.5\n",
      "Validation Accuracy: 97.21%\n",
      "Training with batch_size=64, epochs=20, optimizer=rmsprop, dropout_rate=0.7\n",
      "Validation Accuracy: 96.98%\n",
      "Best Validation Accuracy: 97.232002\n",
      "Best Hyperparameters:  {'batch_size': 64, 'epochs': 20, 'optimizer': 'adam', 'dropout_rate': 0.3}\n"
     ]
    }
   ],
   "source": [
    "#First, we define the hyperparameters grid\n",
    "param_grid = {\n",
    "    'batch_size': [16, 32, 64],\n",
    "    'epochs': [10, 20],\n",
    "    'optimizer': ['adam', 'rmsprop'],\n",
    "    'dropout_rate': [0.3, 0.5, 0.7]\n",
    "}\n",
    "\n",
    "#Then, we create a function to build our model with given hyperparameters\n",
    "def build_model(optimizer, dropout_rate):\n",
    "    model = Sequential()\n",
    "    model.add(Conv1D(64, kernel_size=3, activation='relu', input_shape=(X_train.shape[1], 1)))\n",
    "    model.add(Conv1D(32, kernel_size=3, activation='relu'))\n",
    "    model.add(Flatten())\n",
    "    model.add(Dense(64, activation='relu'))\n",
    "    model.add(Dropout(dropout_rate))\n",
    "    model.add(Dense(y_train.shape[1], activation='softmax'))\n",
    "    model.compile(optimizer=optimizer, loss='categorical_crossentropy', metrics=['accuracy'])\n",
    "    return model\n",
    "\n",
    "#We then initialize variables to track the best model and accuracy\n",
    "best_model = None\n",
    "best_accuracy = 0\n",
    "best_params = {}\n",
    "\n",
    "#Iterate over all combinations of hyperparameters\n",
    "for batch_size in param_grid['batch_size']:\n",
    "    for epochs in param_grid['epochs']:\n",
    "        for optimizer in param_grid['optimizer']:\n",
    "            for dropout_rate in param_grid['dropout_rate']:\n",
    "                print(f'Training with batch_size={batch_size}, epochs={epochs}, optimizer={optimizer}, dropout_rate={dropout_rate}')\n",
    "                \n",
    "                #Build and train our model\n",
    "                model = build_model(optimizer, dropout_rate)\n",
    "                model.fit(X_train, y_train, validation_data=(X_test, y_test), epochs=epochs, batch_size=batch_size, verbose=0)\n",
    "                \n",
    "                #And evaluate it\n",
    "                loss, accuracy = model.evaluate(X_test, y_test, verbose=0)\n",
    "                print(f'Validation Accuracy: {accuracy * 100:.2f}%')\n",
    "                \n",
    "                #To finally track our best model\n",
    "                if accuracy > best_accuracy:\n",
    "                    best_accuracy = accuracy\n",
    "                    best_model2 = model\n",
    "                    best_params = {\n",
    "                        'batch_size': batch_size,\n",
    "                        'epochs': epochs,\n",
    "                        'optimizer': optimizer,\n",
    "                        'dropout_rate': dropout_rate\n",
    "                    }\n",
    "\n",
    "#Finally, we print the best hyperparameters and the best score\n",
    "print(\"Best Validation Accuracy: %f\" % (best_accuracy * 100))\n",
    "print(\"Best Hyperparameters: \", best_params)"
   ]
  },
  {
   "cell_type": "markdown",
   "id": "ee5b10cf-fab1-4303-ab32-a95838f3760f",
   "metadata": {},
   "source": [
    "##### Code explanation: \n",
    "\n",
    "The above code performs hyperparameter tuning for our CNN model to find the best configuration for training. It begins by defining a grid of hyperparameters, including batch_size, epochs, optimizer, and dropout_rate. Then, it creates a function build_model to construct the CNN model with these hyperparameters. After that, it initializes variables to track the best performing model and its accuracy. Next, it iterates over all possible combinations of the hyperparameters, building and training the model with each set, and evaluating its performance on a validation dataset. The model with the highest validation accuracy is stored, and the best hyperparameters and accuracy are printed at the end. This process ensures that the most effective hyperparameter configuration for the CNN is identified."
   ]
  },
  {
   "cell_type": "markdown",
   "id": "97e2af4d-a457-428c-b47a-bf4ef2158847",
   "metadata": {},
   "source": [
    "Once these parameters found, we re-evaluate our model on our training and testing data using the optimized hyperparameters from the best model, and generate a classification report."
   ]
  },
  {
   "cell_type": "code",
   "execution_count": 38,
   "id": "19fe533e-8b97-46b8-b0cb-b0a4ec0cd48a",
   "metadata": {},
   "outputs": [
    {
     "name": "stdout",
     "output_type": "stream",
     "text": [
      "\u001b[1m2188/2188\u001b[0m \u001b[32m━━━━━━━━━━━━━━━━━━━━\u001b[0m\u001b[37m\u001b[0m \u001b[1m0s\u001b[0m 219us/step - accuracy: 0.9729 - loss: 0.0800\n",
      "\u001b[1m782/782\u001b[0m \u001b[32m━━━━━━━━━━━━━━━━━━━━\u001b[0m\u001b[37m\u001b[0m \u001b[1m0s\u001b[0m 216us/step - accuracy: 0.9722 - loss: 0.0800\n",
      "\n",
      "Training Accuracy: 97.24%\n",
      "Testing Accuracy: 97.23%\n",
      "\u001b[1m782/782\u001b[0m \u001b[32m━━━━━━━━━━━━━━━━━━━━\u001b[0m\u001b[37m\u001b[0m \u001b[1m0s\u001b[0m 235us/step\n",
      "\n",
      "Classification Report:\n",
      "              precision    recall  f1-score   support\n",
      "\n",
      "           0       0.97      1.00      0.99     22915\n",
      "           1       0.99      0.67      0.80      2085\n",
      "\n",
      "    accuracy                           0.97     25000\n",
      "   macro avg       0.98      0.84      0.89     25000\n",
      "weighted avg       0.97      0.97      0.97     25000\n",
      "\n",
      "Confusion Matrix after hypertuning our CNN model:\n",
      " [[22902    13]\n",
      " [  679  1406]]\n"
     ]
    }
   ],
   "source": [
    "#We first evaluate the best model on the training and test sets\n",
    "train_loss, train_accuracy = best_model2.evaluate(X_train, y_train)\n",
    "test_loss, test_accuracy = best_model2.evaluate(X_test, y_test)\n",
    "print(f'\\nTraining Accuracy: {train_accuracy * 100:.2f}%')\n",
    "print(f'Testing Accuracy: {test_accuracy * 100:.2f}%')\n",
    "\n",
    "#And generate predictions\n",
    "y_pred = best_model2.predict(X_test)\n",
    "y_pred_classes = np.argmax(y_pred, axis=1)\n",
    "y_true = np.argmax(y_test, axis=1)\n",
    "\n",
    "#To finally print classification report\n",
    "print(\"\\nClassification Report:\")\n",
    "print(classification_report(y_true, y_pred_classes))\n",
    "\n",
    "#Then, we generate the confusion matrix after hypertuning our CNN model\n",
    "conf_matrix = confusion_matrix(y_true, y_pred_classes)\n",
    "print(\"Confusion Matrix after hypertuning our CNN model:\\n\", conf_matrix)"
   ]
  },
  {
   "cell_type": "markdown",
   "id": "3759ac20-d474-4921-818d-766af9e7ff15",
   "metadata": {},
   "source": [
    "##### Code explanation: \n",
    "\n",
    "The above code evaluates the performance of the best-trained model by first assessing its accuracy on both the training and testing datasets, and printing them. It then generates predictions for the testing set, converting the model's probability outputs into class labels using np.argmax. It also converts the true test labels into a similar format. Finally, the code generates a classification report based on these predictions and prints it, providing detailed performance metrics such as precision, recall, and F1 score for each class\n"
   ]
  },
  {
   "cell_type": "markdown",
   "id": "4bc45f26-06cb-4e6d-a808-61916eac6c33",
   "metadata": {},
   "source": [
    "Now, we perform a cross-validation on our best CNN model. This step is crucial for the model evaluation process because it provides a robust estimate of the model's performance on unseen data. Indeed, cross-validation helps mitigate the risk of overfitting and ensures that the model generalizes well to new data."
   ]
  },
  {
   "cell_type": "code",
   "execution_count": 39,
   "id": "4435155b-365e-455f-a4e2-4025482980d8",
   "metadata": {},
   "outputs": [
    {
     "name": "stderr",
     "output_type": "stream",
     "text": [
      "/Applications/anaconda3/lib/python3.12/site-packages/keras/src/layers/convolutional/base_conv.py:107: UserWarning: Do not pass an `input_shape`/`input_dim` argument to a layer. When using Sequential models, prefer using an `Input(shape)` object as the first layer in the model instead.\n",
      "  super().__init__(activity_regularizer=activity_regularizer, **kwargs)\n"
     ]
    },
    {
     "name": "stdout",
     "output_type": "stream",
     "text": [
      "Best Model Hyperparameters (CV): {'batch_size': 64, 'epochs': 20, 'optimizer': 'adam', 'dropout_rate': 0.3}\n",
      "Cross-Validation Scores: [0.972428560256958, 0.9717857241630554, 0.9704285860061646, 0.9728571176528931, 0.9707857370376587]\n",
      "Mean Cross-Validation Accuracy: 0.9717\n"
     ]
    }
   ],
   "source": [
    "#We first perform a 5-fold cross-validation\n",
    "kfold = StratifiedKFold(n_splits=5, shuffle=True, random_state=42)\n",
    "cv_scores = []\n",
    "\n",
    "#Then, we convert y_train to integer labels for StratifiedKFold\n",
    "y_train_labels = np.argmax(y_train, axis=1)\n",
    "\n",
    "#And initialize best model and parameters found in cross-validation\n",
    "best_accuracy_cv = 0\n",
    "best_params_found_cv = best_params\n",
    "\n",
    "for train_index, val_index in kfold.split(X_train, y_train_labels):\n",
    "    X_train_fold, X_val_fold = X_train[train_index], X_train[val_index]\n",
    "    y_train_fold, y_val_fold = y_train[train_index], y_train[val_index]\n",
    "\n",
    "    #We then build and train our CNN model with best hyperparameters\n",
    "    model = build_model(optimizer=best_params['optimizer'], dropout_rate=best_params['dropout_rate'])\n",
    "    model.fit(X_train_fold, y_train_fold, epochs=best_params['epochs'], batch_size=best_params['batch_size'], verbose=0)\n",
    "    \n",
    "    #Evaluate it\n",
    "    val_loss, val_accuracy = model.evaluate(X_val_fold, y_val_fold, verbose=0)\n",
    "    cv_scores.append(val_accuracy)\n",
    "\n",
    "    #And track it in cross-validation\n",
    "    if val_accuracy > best_accuracy_cv:\n",
    "        best_accuracy_cv = val_accuracy\n",
    "        best_model2 = model\n",
    "        best_params_found_cv = best_params\n",
    "\n",
    "#Then, we print the cross-validation scores, mean accuracy, and best hyperparameters\n",
    "print(\"Best Model Hyperparameters (CV):\", best_params_found_cv)\n",
    "print(\"Cross-Validation Scores:\", cv_scores)\n",
    "print(\"Mean Cross-Validation Accuracy: {:.4f}\".format(np.mean(cv_scores)))"
   ]
  },
  {
   "cell_type": "markdown",
   "id": "b58c6e1f-515b-4381-bb97-78713ffc4f95",
   "metadata": {},
   "source": [
    "##### Code explanation: \n",
    "\n",
    "The above code performs a 5-fold cross-validation to evaluate the CNN model's performance and optimize its hyperparameters. Firstly, it initializes the StratifiedKFold with 5 splits to ensure that each fold maintains the proportion of each class. Then, it converts the target variable y_train to integer labels suitable for cross-validation. After that, the code iterates over each fold, where it trains a CNN model with the best hyperparameters found previously and evaluates its accuracy on the validation set. Then, the validation accuracies are collected, and the model with the highest accuracy is tracked as the best model. Finally, the code prints the best hyperparameters, cross-validation scores for each fold, and the mean cross-validation accuracy to summarize the model's performance."
   ]
  },
  {
   "cell_type": "markdown",
   "id": "c391a14e-4a45-4a58-9e60-cd86a6e9ef98",
   "metadata": {},
   "source": [
    "Then, we save our best model so that it can be loaded and reused for predictions on new data, without retrain the model from scratch."
   ]
  },
  {
   "cell_type": "code",
   "execution_count": 40,
   "id": "2820ff34-8248-487e-babd-90258c59f880",
   "metadata": {},
   "outputs": [
    {
     "name": "stdout",
     "output_type": "stream",
     "text": [
      "Best model2 saved to 'best_model2.pkl'\n"
     ]
    }
   ],
   "source": [
    "#We save our best model to a file\n",
    "joblib.dump(best_model2, 'best_model2.pkl')\n",
    "print(\"Best model2 saved to 'best_model2.pkl'\")"
   ]
  },
  {
   "cell_type": "markdown",
   "id": "05ec545c-6c23-47ba-94f8-9e42b6577d05",
   "metadata": {},
   "source": [
    "##### Code explanation: \n",
    "\n",
    "The above code saves our trained CNN model with the best performance to a file for future use. To do that, it employs joblib.dump(), to serialize the model and store it in a file named 'best_model2.pkl'. This is crucial for easy retrieval and reuse without needing to retrain from scratch. Finally, it prints a message that confirms that the model has been successfully saved to the specified file location."
   ]
  },
  {
   "cell_type": "markdown",
   "id": "988ab743-eecc-4bff-9d11-1d3f83b3cba7",
   "metadata": {},
   "source": [
    "Then, we deploy our model on a new unseen deployment data (5%, X_deploy, y_deploy) to assess how well our model performs on completely new and independent data that it hasn't seen during training or evaluation. This is crucial because it provides insights into the model's ability to generalize to real-world scenarios and validate its robustness and reliability before it is used for making critical decisions."
   ]
  },
  {
   "cell_type": "code",
   "execution_count": 41,
   "id": "4bd57bc0-232e-4a19-8c0d-5e1638784eb9",
   "metadata": {},
   "outputs": [
    {
     "name": "stdout",
     "output_type": "stream",
     "text": [
      "\u001b[1m157/157\u001b[0m \u001b[32m━━━━━━━━━━━━━━━━━━━━\u001b[0m\u001b[37m\u001b[0m \u001b[1m0s\u001b[0m 304us/step\n",
      "Deployment results with predictions have been saved to 'deployment_results_with_predictions_cnn.csv'.\n",
      "Deploy Data:\n",
      "Size: 5000\n",
      "       gender   age  hypertension  heart_disease  smoking_history    bmi  \\\n",
      "81410       2   7.0             0              0                0  23.40   \n",
      "71182       1  46.0             0              0                0  37.73   \n",
      "44102       1  49.0             0              0               -1  21.76   \n",
      "69451       1  80.0             0              1                0  16.10   \n",
      "78508       2  66.0             0              0                2  29.70   \n",
      "\n",
      "       HbA1c_level  blood_glucose_level  diabetes  predicted_diabetes  \n",
      "81410          6.0                  126         0                   0  \n",
      "71182          5.7                  140         0                   0  \n",
      "44102          6.2                  126         0                   0  \n",
      "69451          5.8                  159         0                   0  \n",
      "78508          6.5                  200         0                   0  \n"
     ]
    }
   ],
   "source": [
    "#We first assume that the `best_model2` is our best trained CNN model and `X_deploy` is our deploy data features\n",
    "\n",
    "#We first generate predictions for the deployment data\n",
    "y_deploy_pred = best_model2.predict(X_deploy)\n",
    "\n",
    "#Then, we convert the predictions to class labels\n",
    "y_deploy_pred_classes = np.argmax(y_deploy_pred, axis=1)\n",
    "\n",
    "#And add the predicted values as a new column\n",
    "deploy_data['predicted_diabetes'] = y_deploy_pred_classes\n",
    "\n",
    "#Then, we save the results to a CSV file\n",
    "deploy_data.to_csv('deployment_results_with_predictions_cnn.csv', index=False)\n",
    "\n",
    "#And confirm that the file has been saved\n",
    "print(\"Deployment results with predictions have been saved to 'deployment_results_with_predictions_cnn.csv'.\")\n",
    "\n",
    "#Finally, we print the first few rows and size of the deploy_data\n",
    "print(\"Deploy Data:\")\n",
    "print(\"Size:\", len(deploy_data))\n",
    "print(deploy_data.head())"
   ]
  },
  {
   "cell_type": "markdown",
   "id": "2839ca1f-936f-4693-a977-3d705eb2b963",
   "metadata": {},
   "source": [
    "##### Code explanation: \n",
    "\n",
    "The above code firstly assumes that best_model2 is the optimal CNN model and X_deploy contains the features for the deployment dataset. Then, it generates predictions for X_deploy using our model and converts these predictions into class labels using np.argmax. Then, it adds these class labels as a new column, 'predicted_diabetes', to our deploy_data DataFrame. The updated DataFrame is then saved to a CSV file named 'deployment_results_with_predictions.csv', and a confirmation message is printed upon successful saving. Finally, the code prints the size and the first few rows of our deploy_data DataFrame to verify the results."
   ]
  },
  {
   "cell_type": "markdown",
   "id": "1cda7ece-ddf7-4158-8707-4a026d82b6b2",
   "metadata": {},
   "source": [
    "And calculate the accuracy score of our model on our deployment dataset to validate and maintain the efficacy of our machine learning model in real-world applications."
   ]
  },
  {
   "cell_type": "code",
   "execution_count": 42,
   "id": "43676322-b4a7-461a-a2ef-048bfba92037",
   "metadata": {},
   "outputs": [
    {
     "name": "stdout",
     "output_type": "stream",
     "text": [
      "\u001b[1m157/157\u001b[0m \u001b[32m━━━━━━━━━━━━━━━━━━━━\u001b[0m\u001b[37m\u001b[0m \u001b[1m0s\u001b[0m 202us/step\n",
      "Accuracy on deployment data: 96.88%\n"
     ]
    }
   ],
   "source": [
    "#We assume that the `X_deploy` and `y_deploy` are our deployment datasets that are already preprocessed\n",
    "#We first ensure that the `X_deploy` is in the same shape and format as the data used for training and testing\n",
    "X_deploy = np.array(X_deploy)  \n",
    "y_deploy = np.array(y_deploy)  \n",
    "\n",
    "#We then reshape `X_deploy` to match the input shape of the CNN model\n",
    "X_deploy_reshaped = np.reshape(X_deploy, (X_deploy.shape[0], X_deploy.shape[1], 1))  \n",
    "\n",
    "#Then, we make predictions on our deployment data\n",
    "y_pred_deploy = best_model2.predict(X_deploy_reshaped)\n",
    "y_pred_deploy = np.argmax(y_pred_deploy, axis=1)  \n",
    "\n",
    "#And calculate our model deployment accuracy\n",
    "accuracy_deploy = accuracy_score(y_deploy, y_pred_deploy)\n",
    "print(f'Accuracy on deployment data: {accuracy_deploy * 100:.2f}%')"
   ]
  },
  {
   "cell_type": "markdown",
   "id": "26389d75-17fb-46d3-8d2a-b7b69477f7b7",
   "metadata": {},
   "source": [
    "##### Code explanation: \n",
    "\n",
    "The above code assumes that X_deploy and y_deploy represent the preprocessed deployment datasets. It first converts these datasets into NumPy arrays to ensure they are in the correct format. The X_deploy data is then reshaped to match the input dimensions required by the CNN model. After reshaping, the code uses the best_model to make predictions on our deployment data, converting the predicted probabilities into class labels. Finally, it calculates the accuracy of these predictions by comparing them to the true labels in y_deploy and prints the deployment accuracy as a percentage."
   ]
  },
  {
   "cell_type": "markdown",
   "id": "e33a615b-5ac4-4429-bf32-747d27b9e81d",
   "metadata": {},
   "source": [
    "Finally, we generate a classification report to evaluate the performance of our best CNN model on our deployment data."
   ]
  },
  {
   "cell_type": "code",
   "execution_count": 43,
   "id": "f79ecf07-9a07-4826-bf72-7ae5772b48ef",
   "metadata": {},
   "outputs": [
    {
     "name": "stdout",
     "output_type": "stream",
     "text": [
      "              precision    recall  f1-score   support\n",
      "\n",
      "           0       0.97      1.00      0.98      4538\n",
      "           1       1.00      0.66      0.80       462\n",
      "\n",
      "    accuracy                           0.97      5000\n",
      "   macro avg       0.98      0.83      0.89      5000\n",
      "weighted avg       0.97      0.97      0.97      5000\n",
      "\n",
      "Confusion Matrix on deployment data:\n",
      " [[4538    0]\n",
      " [ 156  306]]\n"
     ]
    }
   ],
   "source": [
    "#We print a classification report \n",
    "print(classification_report(y_deploy, y_pred_deploy))\n",
    "\n",
    "#As well as a confusion matrix\n",
    "conf_matrix = confusion_matrix(y_deploy, y_pred_deploy)\n",
    "print(\"Confusion Matrix on deployment data:\\n\", conf_matrix)\n"
   ]
  },
  {
   "cell_type": "markdown",
   "id": "6c7c000e-63f5-46d1-8368-afba44c19d2d",
   "metadata": {},
   "source": [
    "##### Code explanation: \n",
    "\n",
    "The above code generates and prints a detailed classification report and a confusion matrix to evaluate the performance of our CNN model on our deployment data. Firstly the classification report which includes metrics such as precision, recall, F1-score, and support for each class is generated, providing a comprehensive view of the model's classification performance. Then, a confusion matrix is computed and printed, to show the number of true positive, true negative, false positive, and false negative predictions, which offers an insight into our CNN model's errors and overall accuracy in classifying the deployment data."
   ]
  },
  {
   "cell_type": "markdown",
   "id": "c6cbe120-216c-4e97-8ef4-7aa31918bd4e",
   "metadata": {},
   "source": [
    "#### References: \n",
    "\n",
    "1. GeeksforGeeks. (2020). Python Keras | keras.utils.to_categorical(). [online] Available at: https://www.geeksforgeeks.org/python-keras-keras-utils-to_categorical/. \n",
    "\n",
    "2. GfG (2022) Using countvectorizer to extracting features from text, GeeksforGeeks. Available at: https://www.geeksforgeeks.org/using-countvectorizer-to-extracting-features-from-text/ (Accessed: 12 April 2024).\n",
    "\n",
    "3. GfG (2023) Advantages and disadvantages of logistic regression, GeeksforGeeks. Available at: https://www.geeksforgeeks.org/advantages-and-disadvantages-of-logistic-regression/ (Accessed: 12 April 2024).\n",
    "\n",
    "4. Matplotlib documentation (2024) Pyplot tutorial. Available at: https://matplotlib.org/2.0.2/users/pyplot_tutorial.html (Accessed: 29 February 2024).\n",
    "\n",
    "\n",
    "5. Pandas documentation (2024) Pandas.dataframe.replace#. Available at: https://pandas.pydata.org/pandas-docs/stable/reference/api/pandas.DataFrame.replace.html (Accessed: 29 February 2024).\n",
    "\n",
    "\n",
    "6. Python documentation (2024) CSV - csv file reading and writing . Available at: https://docs.python.org/3/library/csv.html (Accessed: 29 February 2024).\n",
    "\n",
    "7. Python documentation (2024) How to fetch internet resources using the urllib package. Available at: https://docs.python.org/3/howto/urllib2.html (Accessed: 29 February 2024).\n",
    "\n",
    "8. Python documentation (2024) OS - miscellaneous operating system interfaces . Available at: https://docs.python.org/3/library/os.html (Accessed: 29 February 2024).\n",
    "\n",
    "9. Python documentation (2024) Pickle - python object serialization. Available at: https://docs.python.org/3/library/pickle.html (Accessed: 12 April 2024).\n",
    "\n",
    "10. Python documentation (2024) Statistics - mathematical statistics functions. Available at: https://docs.python.org/3/library/statistics.html (Accessed: 29 February 2024).\n",
    "\n",
    "11. Python documentation (2024) Time - Time Access and conversions. Available at: https://docs.python.org/3/library/time.html (Accessed: 29 February 2024).\n",
    "\n",
    "\n",
    "12. Real Python (2023) Python’s zipfile: Manipulate your zip files efficiently, Real Python. Available at: https://realpython.com/python-zipfile/ (Accessed: 12 April 2024).\n",
    "\n",
    "13. RE (2024) - regular expression operations (no date) Python documentation. Available at: https://docs.python.org/3/library/re.html (Accessed: 12 April 2024).\n",
    "\n",
    "14. Scikit-learn.org. (2019). sklearn.model_selection.StratifiedKFold — scikit-learn 0.21.3 documentation. [online] Available at: https://scikit-learn.org/stable/modules/generated/sklearn.model_selection.StratifiedKFold.html.\n",
    "\n",
    "15. scikit-learn (2019). sklearn.neighbors.KNeighborsClassifier — scikit-learn 0.22.1 documentation. [online] Scikit-learn.org. Available at: https://scikit-learn.org/stable/modules/generated/sklearn.neighbors.KNeighborsClassifier.html.\n",
    "\n",
    "16. scikit-learn (2019). sklearn.svm.SVC — scikit-learn 0.22 documentation. [online] Scikit-learn.org. Available at: https://scikit-learn.org/stable/modules/generated/sklearn.svm.SVC.html.\n",
    "\n",
    "17. scikit (2024) Sklearn.feature_extraction.text.CountVectorizer. Available at: https://scikit-learn.org/stable/modules/generated/sklearn.feature_extraction.text.CountVectorizer.html (Accessed: 12 April 2024).\n",
    "\n",
    "18. scikit (2024) Sklearn.feature_extraction.text.TfidfVectorizer. Available at: https://scikit-learn.org/stable/modules/generated/sklearn.feature_extraction.text.TfidfVectorizer.html (Accessed: 12 April 2024).\n",
    "\n",
    "19. scikit (2024) Sklearn.linear_model.logisticregression. Available at: https://scikit-learn.org/stable/modules/generated/sklearn.linear_model.LogisticRegression.html (Accessed: 12 April 2024).\n",
    "\n",
    "20. scikit (2024) Sklearn.metrics.accuracy_score. Available at: https://scikit-learn.org/stable/modules/generated/sklearn.metrics.accuracy_score.html (Accessed: 12 April 2024).\n",
    "\n",
    "21. scikit (2024) Sklearn.metrics.classification_report. Available at: https://scikit-learn.org/stable/modules/generated/sklearn.metrics.classification_report.html (Accessed: 12 April 2024).\n",
    "\n",
    "22. scikit (2024) Sklearn.model_selection.train_test_split. Available at: https://scikit-learn.org/stable/modules/generated/sklearn.model_selection.train_test_split.html (Accessed: 12 April 2024).\n",
    "\n",
    "23. scikit (2024) Sklearn.naive_bayes.multinomialnb. Available at: https://scikit-learn.org/stable/modules/generated/sklearn.naive_bayes.MultinomialNB.html (Accessed: 12 April 2024).\n",
    "\n",
    "24. scikit (2024) 1.1. Linear Models. Available at: https://scikit-learn.org/stable/modules/linear_model.html (Accessed: 12 April 2024).\n",
    "\n",
    "25. Seaborn documentation (2024) An introduction to seaborn. Available at: https://seaborn.pydata.org/tutorial/introduction.html (Accessed: 29 February 2024).\n",
    "\n",
    "26. SitePoint (2024) Making HTTP requests in Node.js. Available at: https://www.sitepoint.com/making-http-requests-in-node-js/ (Accessed: 12 April 2024).\n",
    "    \n",
    "27. Stack Overflow. (n.d.). ImportError: cannot import name DropoutEmbedding. [online] Available at: https://stackoverflow.com/questions/46068257/importerror-cannot-import-name-dropoutembedding [Accessed 1 Aug. 2024].\n",
    "\n",
    "28. Stack Overflow. (n.d.). K-fold to train a machine learning model. [online] Available at: https://stackoverflow.com/questions/75885696/k-fold-to-train-a-machine-learning-model [Accessed 1 Aug. 2024].\n",
    "\n",
    "29. Stack Overflow. (n.d.). Problem with simple CNN in Keras, ValueError: Shapes (None, 1) and (None, 10) are incompatible. [online] Available at: https://stackoverflow.com/questions/70915420/problem-with-simple-cnn-in-keras-valueerror-shapes-none-1-and-none-10-ar [Accessed 1 Aug. 2024].\n",
    "\n",
    "30. Stack Overflow. (n.d.). What is the difference between ‘from keras.models import Sequential’ and ‘from tensorflow.python.keras.models import Sequential’? [online] Available at: https://stackoverflow.com/questions/58602285/what-is-the-difference-between-from-keras-models-import-sequential-and-from-t [Accessed 1 Aug. 2024].\n",
    "\n",
    "31. TensorFlow (no date) Classification on imbalanced data : Tensorflow Core. Available at: https://www.tensorflow.org/tutorials/structured_data/imbalanced_data (Accessed: 12 April 2024).\n",
    "\n",
    "32. W3 School (2024) Pandas Getting Started. Available at: https://www.w3schools.com/python/pandas/pandas_getting_started.asp (Accessed: 29 February 2024).\n",
    "\n",
    "33. W3 School (2024) NumPy getting started. Available at: https://www.w3schools.com/python/numpy/numpy_getting_started.asp (Accessed: 29 February 2024).\n"
   ]
  },
  {
   "cell_type": "code",
   "execution_count": null,
   "id": "0dca0c58-2fd4-46f5-9bd7-bd207b7090ba",
   "metadata": {},
   "outputs": [],
   "source": []
  }
 ],
 "metadata": {
  "kernelspec": {
   "display_name": "Python 3 (ipykernel)",
   "language": "python",
   "name": "python3"
  },
  "language_info": {
   "codemirror_mode": {
    "name": "ipython",
    "version": 3
   },
   "file_extension": ".py",
   "mimetype": "text/x-python",
   "name": "python",
   "nbconvert_exporter": "python",
   "pygments_lexer": "ipython3",
   "version": "3.12.4"
  }
 },
 "nbformat": 4,
 "nbformat_minor": 5
}
